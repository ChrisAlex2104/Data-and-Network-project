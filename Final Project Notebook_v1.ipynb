{
 "cells": [
  {
   "cell_type": "markdown",
   "id": "5d47c8e5",
   "metadata": {},
   "source": [
    "# ECEN 4322-5322 Data and Network Science\n",
    "\n",
    "## Title- Fare prediction for flights\n"
   ]
  },
  {
   "cell_type": "markdown",
   "id": "684bae4a",
   "metadata": {},
   "source": [
    "#### Group Members - Chirag Chandrashekar, Chris Alexander, Viveka Salinamakki"
   ]
  },
  {
   "cell_type": "markdown",
   "id": "0c1c6021",
   "metadata": {},
   "source": [
    "## Introduction "
   ]
  },
  {
   "cell_type": "markdown",
   "id": "58368eee",
   "metadata": {},
   "source": [
    "The dataset chosen for analysis is the itineraries of flights in the USA over **6 months**. For exploratory data analysis, we aim to find the airport with the highest traffic or the best-connected airports, the price of flights during the different hours of the day, the average/minimum travel distance for which people prefer flight, whether an average flight is fully booked/percentage of flights booked, and popular airlines. The end goal here is to predict the fare of a flight. Due to the large number of rows and features, the prediction can provide a good estimation of the fare. Techniques such as data grouping and manipulation, visualization, regular expressions, data modeling, feature engineering, model validation, and prediction will help achieve our goal. "
   ]
  },
  {
   "cell_type": "markdown",
   "id": "8e85299a",
   "metadata": {},
   "source": [
    "\n",
    "<hr style=\"border: 5px solid #003262;\" />\n",
    "<hr style=\"border: 1px solid #fdb515;\" />\n",
    "\n",
    "## Importing the Data"
   ]
  },
  {
   "cell_type": "code",
   "execution_count": 31,
   "id": "30096889",
   "metadata": {},
   "outputs": [],
   "source": [
    "import numpy as np\n",
    "\n",
    "import pandas as pd\n",
    "from pandas.api.types import CategoricalDtype\n",
    "\n",
    "%matplotlib inline\n",
    "import matplotlib.pyplot as plt\n",
    "import seaborn as sns\n",
    "\n",
    "import warnings\n",
    "warnings.filterwarnings(\"ignore\")\n",
    "\n",
    "import zipfile\n",
    "import os\n",
    "\n",
    "from ecen5322_utils import run_linear_regression_test\n",
    "\n",
    "# Plot settings\n",
    "plt.rcParams['figure.figsize'] = (12, 9)\n",
    "plt.rcParams['font.size'] = 12"
   ]
  },
  {
   "cell_type": "markdown",
   "id": "7b3f8245",
   "metadata": {},
   "source": [
    "### Sampling the Dataset"
   ]
  },
  {
   "cell_type": "markdown",
   "id": "4755c538",
   "metadata": {},
   "source": [
    "The original file is sampled due to its size of **30gb(83 million entries)** not able to be read on to the ram. Hence, this is solved by reading the file into the chunks of 1 million entries and sampling all the chunks to get a final dataset of **500 thousand entries**. The below commented code was used to sample the data and made a new csv file with the sample data which is being directly imported."
   ]
  },
  {
   "cell_type": "code",
   "execution_count": 32,
   "id": "e6c4b82f",
   "metadata": {},
   "outputs": [
    {
     "data": {
      "text/plain": [
       "'\\ndfs=[]\\nwith pd.read_csv(\"car_price_prediction.csv\", chunksize=1000000) as reader: #read as chunks due to low system resorces to read 30gb file\\n    reader\\n    for chunk in reader:\\n        #print(type(chunk))\\n        data_index=chunk.index\\n        shuffled_indices = np.random.permutation(data_index)  #shuffling and sampling data to reduce the data to 500000 entries\\n        #print(chunk.loc[shuffled_indices])\\n        #print(type(chunk))\\n        chunk,leftover= np.split(chunk.loc[shuffled_indices],[12000]) #selects first N rows from each chunk\\n        #print(type(chunk))\\n        #print(chunk)\\n        #chunks=chunk.to_frame\\n        #print(chunks)\\n        dfs.append(chunk) #makes a list of dataframe chunks\\n        #joined_chunk=pd.concat(chunk)\\n        #print(joined_chunk)\\nfinal_df=pd.concat(dfs) #concats all the chunks in the list of dataframe\\nprint(\"final dataframe\")\\nfinal_df\\n'"
      ]
     },
     "execution_count": 32,
     "metadata": {},
     "output_type": "execute_result"
    }
   ],
   "source": [
    "\"\"\"\n",
    "dfs=[]\n",
    "with pd.read_csv(\"car_price_prediction.csv\", chunksize=1000000) as reader: #read as chunks due to low system resorces to read 30gb file\n",
    "    reader\n",
    "    for chunk in reader:\n",
    "        #print(type(chunk))\n",
    "        data_index=chunk.index\n",
    "        shuffled_indices = np.random.permutation(data_index)  #shuffling and sampling data to reduce the data to 500000 entries\n",
    "        #print(chunk.loc[shuffled_indices])\n",
    "        #print(type(chunk))\n",
    "        chunk,leftover= np.split(chunk.loc[shuffled_indices],[12000]) #selects first N rows from each chunk\n",
    "        #print(type(chunk))\n",
    "        #print(chunk)\n",
    "        #chunks=chunk.to_frame\n",
    "        #print(chunks)\n",
    "        dfs.append(chunk) #makes a list of dataframe chunks\n",
    "        #joined_chunk=pd.concat(chunk)\n",
    "        #print(joined_chunk)\n",
    "final_df=pd.concat(dfs) #concats all the chunks in the list of dataframe\n",
    "print(\"final dataframe\")\n",
    "final_df\n",
    "\"\"\""
   ]
  },
  {
   "cell_type": "code",
   "execution_count": 33,
   "id": "e70e2323",
   "metadata": {},
   "outputs": [
    {
     "data": {
      "text/plain": [
       "'\\ndata_index2=final_df.index\\nshuffled_indices2 = np.random.permutation(data_index2)\\nfinal_df2,leftover2=np.split(final_df.loc[shuffled_indices2],[500000])\\nfinal_df2\\n'"
      ]
     },
     "execution_count": 33,
     "metadata": {},
     "output_type": "execute_result"
    }
   ],
   "source": [
    "#Load data to new csv file\n",
    "#final_df\n",
    "'''\n",
    "data_index2=final_df.index\n",
    "shuffled_indices2 = np.random.permutation(data_index2)\n",
    "final_df2,leftover2=np.split(final_df.loc[shuffled_indices2],[500000])\n",
    "final_df2\n",
    "'''"
   ]
  },
  {
   "cell_type": "markdown",
   "id": "59eb6287",
   "metadata": {},
   "source": [
    "Importing the sampled csv data file"
   ]
  },
  {
   "cell_type": "code",
   "execution_count": 34,
   "id": "61e4b577",
   "metadata": {
    "scrolled": true
   },
   "outputs": [
    {
     "data": {
      "text/html": [
       "<div>\n",
       "<style scoped>\n",
       "    .dataframe tbody tr th:only-of-type {\n",
       "        vertical-align: middle;\n",
       "    }\n",
       "\n",
       "    .dataframe tbody tr th {\n",
       "        vertical-align: top;\n",
       "    }\n",
       "\n",
       "    .dataframe thead th {\n",
       "        text-align: right;\n",
       "    }\n",
       "</style>\n",
       "<table border=\"1\" class=\"dataframe\">\n",
       "  <thead>\n",
       "    <tr style=\"text-align: right;\">\n",
       "      <th></th>\n",
       "      <th>legId</th>\n",
       "      <th>searchDate</th>\n",
       "      <th>flightDate</th>\n",
       "      <th>startingAirport</th>\n",
       "      <th>destinationAirport</th>\n",
       "      <th>fareBasisCode</th>\n",
       "      <th>travelDuration</th>\n",
       "      <th>elapsedDays</th>\n",
       "      <th>isBasicEconomy</th>\n",
       "      <th>isRefundable</th>\n",
       "      <th>...</th>\n",
       "      <th>segmentsArrivalTimeEpochSeconds</th>\n",
       "      <th>segmentsArrivalTimeRaw</th>\n",
       "      <th>segmentsArrivalAirportCode</th>\n",
       "      <th>segmentsDepartureAirportCode</th>\n",
       "      <th>segmentsAirlineName</th>\n",
       "      <th>segmentsAirlineCode</th>\n",
       "      <th>segmentsEquipmentDescription</th>\n",
       "      <th>segmentsDurationInSeconds</th>\n",
       "      <th>segmentsDistance</th>\n",
       "      <th>segmentsCabinCode</th>\n",
       "    </tr>\n",
       "  </thead>\n",
       "  <tbody>\n",
       "    <tr>\n",
       "      <th>0</th>\n",
       "      <td>e95cef0009893d65558d17324e468aea</td>\n",
       "      <td>2022-06-01</td>\n",
       "      <td>2022-06-15</td>\n",
       "      <td>PHL</td>\n",
       "      <td>JFK</td>\n",
       "      <td>SUAJZNB3</td>\n",
       "      <td>PT5H17M</td>\n",
       "      <td>0</td>\n",
       "      <td>True</td>\n",
       "      <td>False</td>\n",
       "      <td>...</td>\n",
       "      <td>1655309340||1655323200</td>\n",
       "      <td>2022-06-15T12:09:00.000-04:00||2022-06-15T16:0...</td>\n",
       "      <td>BOS||JFK</td>\n",
       "      <td>PHL||BOS</td>\n",
       "      <td>American Airlines||American Airlines</td>\n",
       "      <td>AA||AA</td>\n",
       "      <td>Airbus A321||AIRBUS INDUSTRIE A321 SHARKLETS</td>\n",
       "      <td>5160||4920</td>\n",
       "      <td>280||185</td>\n",
       "      <td>coach||coach</td>\n",
       "    </tr>\n",
       "    <tr>\n",
       "      <th>1</th>\n",
       "      <td>778d47d0785023302cd075d735d27db8</td>\n",
       "      <td>2022-08-11</td>\n",
       "      <td>2022-08-20</td>\n",
       "      <td>CLT</td>\n",
       "      <td>ATL</td>\n",
       "      <td>TA7NA0MC</td>\n",
       "      <td>PT14H</td>\n",
       "      <td>1</td>\n",
       "      <td>False</td>\n",
       "      <td>False</td>\n",
       "      <td>...</td>\n",
       "      <td>1661037300||1661050560||1661081220</td>\n",
       "      <td>2022-08-20T19:15:00.000-04:00||2022-08-20T22:5...</td>\n",
       "      <td>DTW||IND||ATL</td>\n",
       "      <td>CLT||DTW||IND</td>\n",
       "      <td>Delta||Delta||Delta</td>\n",
       "      <td>DL||DL||DL</td>\n",
       "      <td>Boeing 717||Airbus A321||Boeing 737-900</td>\n",
       "      <td>6480||4020||5220</td>\n",
       "      <td>505||241||434</td>\n",
       "      <td>coach||coach||coach</td>\n",
       "    </tr>\n",
       "    <tr>\n",
       "      <th>2</th>\n",
       "      <td>55ca7cc1d822f310963a25d84656bb47</td>\n",
       "      <td>2022-06-26</td>\n",
       "      <td>2022-07-01</td>\n",
       "      <td>OAK</td>\n",
       "      <td>JFK</td>\n",
       "      <td>HA0NA0MC</td>\n",
       "      <td>PT8H13M</td>\n",
       "      <td>0</td>\n",
       "      <td>False</td>\n",
       "      <td>False</td>\n",
       "      <td>...</td>\n",
       "      <td>1656706200||1656730740</td>\n",
       "      <td>2022-07-01T13:10:00.000-07:00||2022-07-01T22:5...</td>\n",
       "      <td>LAX||JFK</td>\n",
       "      <td>OAK||LAX</td>\n",
       "      <td>Delta||Delta</td>\n",
       "      <td>DL||DL</td>\n",
       "      <td>Embraer 175 (Enhanced Winglets)||</td>\n",
       "      <td>5040||20040</td>\n",
       "      <td>338||2458</td>\n",
       "      <td>coach||coach</td>\n",
       "    </tr>\n",
       "    <tr>\n",
       "      <th>3</th>\n",
       "      <td>598db4391eb0bc5752b09c871111a5ce</td>\n",
       "      <td>2022-05-14</td>\n",
       "      <td>2022-05-23</td>\n",
       "      <td>BOS</td>\n",
       "      <td>EWR</td>\n",
       "      <td>QAA3OFEN</td>\n",
       "      <td>PT1H41M</td>\n",
       "      <td>0</td>\n",
       "      <td>False</td>\n",
       "      <td>False</td>\n",
       "      <td>...</td>\n",
       "      <td>1653347940</td>\n",
       "      <td>2022-05-23T19:19:00.000-04:00</td>\n",
       "      <td>EWR</td>\n",
       "      <td>BOS</td>\n",
       "      <td>United</td>\n",
       "      <td>UA</td>\n",
       "      <td>Airbus A319</td>\n",
       "      <td>6060</td>\n",
       "      <td>185</td>\n",
       "      <td>coach</td>\n",
       "    </tr>\n",
       "    <tr>\n",
       "      <th>4</th>\n",
       "      <td>e09441b23c76e8a35be3acb61d8e3e95</td>\n",
       "      <td>2022-09-25</td>\n",
       "      <td>2022-10-13</td>\n",
       "      <td>ATL</td>\n",
       "      <td>BOS</td>\n",
       "      <td>TAUNX0BC</td>\n",
       "      <td>PT10H32M</td>\n",
       "      <td>0</td>\n",
       "      <td>True</td>\n",
       "      <td>False</td>\n",
       "      <td>...</td>\n",
       "      <td>1665667500||1665697620</td>\n",
       "      <td>2022-10-13T09:25:00.000-04:00||2022-10-13T17:4...</td>\n",
       "      <td>JFK||BOS</td>\n",
       "      <td>ATL||JFK</td>\n",
       "      <td>Delta||Delta</td>\n",
       "      <td>DL||DL</td>\n",
       "      <td>Boeing 737-900||Airbus A220-100</td>\n",
       "      <td>7800||5220</td>\n",
       "      <td>762||185</td>\n",
       "      <td>coach||coach</td>\n",
       "    </tr>\n",
       "    <tr>\n",
       "      <th>...</th>\n",
       "      <td>...</td>\n",
       "      <td>...</td>\n",
       "      <td>...</td>\n",
       "      <td>...</td>\n",
       "      <td>...</td>\n",
       "      <td>...</td>\n",
       "      <td>...</td>\n",
       "      <td>...</td>\n",
       "      <td>...</td>\n",
       "      <td>...</td>\n",
       "      <td>...</td>\n",
       "      <td>...</td>\n",
       "      <td>...</td>\n",
       "      <td>...</td>\n",
       "      <td>...</td>\n",
       "      <td>...</td>\n",
       "      <td>...</td>\n",
       "      <td>...</td>\n",
       "      <td>...</td>\n",
       "      <td>...</td>\n",
       "      <td>...</td>\n",
       "    </tr>\n",
       "    <tr>\n",
       "      <th>499995</th>\n",
       "      <td>cfd0ca3c7574a87f1ce1dfa83d1a053b</td>\n",
       "      <td>2022-07-02</td>\n",
       "      <td>2022-07-15</td>\n",
       "      <td>LAX</td>\n",
       "      <td>CLT</td>\n",
       "      <td>HA7OA0MQ</td>\n",
       "      <td>PT9H10M</td>\n",
       "      <td>1</td>\n",
       "      <td>False</td>\n",
       "      <td>False</td>\n",
       "      <td>...</td>\n",
       "      <td>1657969320||1657986300</td>\n",
       "      <td>2022-07-16T07:02:00.000-04:00||2022-07-16T11:4...</td>\n",
       "      <td>DTW||CLT</td>\n",
       "      <td>LAX||DTW</td>\n",
       "      <td>Delta||Delta</td>\n",
       "      <td>DL||DL</td>\n",
       "      <td>Airbus A321||Boeing 717</td>\n",
       "      <td>16020||6300</td>\n",
       "      <td>1985||505</td>\n",
       "      <td>coach||coach</td>\n",
       "    </tr>\n",
       "    <tr>\n",
       "      <th>499996</th>\n",
       "      <td>3c671c288391b26e5888c84ef143424d</td>\n",
       "      <td>2022-05-04</td>\n",
       "      <td>2022-06-23</td>\n",
       "      <td>CLT</td>\n",
       "      <td>LAX</td>\n",
       "      <td>UAVNA0MC</td>\n",
       "      <td>PT14H11M</td>\n",
       "      <td>0</td>\n",
       "      <td>False</td>\n",
       "      <td>False</td>\n",
       "      <td>...</td>\n",
       "      <td>1655982720||1655995500||1656029760</td>\n",
       "      <td>2022-06-23T07:12:00.000-04:00||2022-06-23T09:4...</td>\n",
       "      <td>ATL||DFW||LAX</td>\n",
       "      <td>CLT||ATL||DFW</td>\n",
       "      <td>Delta||Delta||Delta</td>\n",
       "      <td>DL||DL||DL</td>\n",
       "      <td>Boeing 717||Airbus A321||Airbus A320</td>\n",
       "      <td>4020||8100||11760</td>\n",
       "      <td>228||725||1238</td>\n",
       "      <td>coach||coach||coach</td>\n",
       "    </tr>\n",
       "    <tr>\n",
       "      <th>499997</th>\n",
       "      <td>2313cf9772214eaddf14651c8847eaeb</td>\n",
       "      <td>2022-08-14</td>\n",
       "      <td>2022-08-26</td>\n",
       "      <td>BOS</td>\n",
       "      <td>OAK</td>\n",
       "      <td>QAA0OHEN</td>\n",
       "      <td>PT11H11M</td>\n",
       "      <td>0</td>\n",
       "      <td>False</td>\n",
       "      <td>False</td>\n",
       "      <td>...</td>\n",
       "      <td>1661558040||1661573100||1661583120</td>\n",
       "      <td>2022-08-26T18:54:00.000-05:00||2022-08-26T22:0...</td>\n",
       "      <td>IAH||SLC||OAK</td>\n",
       "      <td>BOS||IAH||SLC</td>\n",
       "      <td>United||Delta||Delta</td>\n",
       "      <td>UA||DL||DL</td>\n",
       "      <td>Airbus A320||Airbus A319||Airbus A220-100</td>\n",
       "      <td>15180||11460||6780</td>\n",
       "      <td>1602||1204||588</td>\n",
       "      <td>coach||coach||coach</td>\n",
       "    </tr>\n",
       "    <tr>\n",
       "      <th>499998</th>\n",
       "      <td>9141b51058bfbdf9adc91abb2be9078c</td>\n",
       "      <td>2022-08-09</td>\n",
       "      <td>2022-09-06</td>\n",
       "      <td>EWR</td>\n",
       "      <td>SFO</td>\n",
       "      <td>L7AHZNN1</td>\n",
       "      <td>PT8H13M</td>\n",
       "      <td>0</td>\n",
       "      <td>False</td>\n",
       "      <td>False</td>\n",
       "      <td>...</td>\n",
       "      <td>1662485760||1662506040</td>\n",
       "      <td>2022-09-06T12:36:00.000-05:00||2022-09-06T16:1...</td>\n",
       "      <td>ORD||SFO</td>\n",
       "      <td>EWR||ORD</td>\n",
       "      <td>American Airlines||American Airlines</td>\n",
       "      <td>AA||AA</td>\n",
       "      <td>Boeing 737-800||Boeing 737-800</td>\n",
       "      <td>9300||16740</td>\n",
       "      <td>720||1847</td>\n",
       "      <td>coach||coach</td>\n",
       "    </tr>\n",
       "    <tr>\n",
       "      <th>499999</th>\n",
       "      <td>50e4a74280f144bb17fd1e93266c6d05</td>\n",
       "      <td>2022-09-01</td>\n",
       "      <td>2022-09-16</td>\n",
       "      <td>LGA</td>\n",
       "      <td>OAK</td>\n",
       "      <td>QAA4AHEN</td>\n",
       "      <td>PT12H19M</td>\n",
       "      <td>0</td>\n",
       "      <td>False</td>\n",
       "      <td>False</td>\n",
       "      <td>...</td>\n",
       "      <td>1663339560||1663358940||1663370340</td>\n",
       "      <td>2022-09-16T09:46:00.000-05:00||2022-09-16T14:0...</td>\n",
       "      <td>IAH||SLC||OAK</td>\n",
       "      <td>LGA||IAH||SLC</td>\n",
       "      <td>United||Delta||Delta</td>\n",
       "      <td>UA||DL||DL</td>\n",
       "      <td>Boeing 737-800||Airbus A220-100||Embraer 175 (...</td>\n",
       "      <td>13560||11340||7140</td>\n",
       "      <td>1419||1204||588</td>\n",
       "      <td>coach||coach||coach</td>\n",
       "    </tr>\n",
       "  </tbody>\n",
       "</table>\n",
       "<p>500000 rows × 27 columns</p>\n",
       "</div>"
      ],
      "text/plain": [
       "                                   legId  searchDate  flightDate  \\\n",
       "0       e95cef0009893d65558d17324e468aea  2022-06-01  2022-06-15   \n",
       "1       778d47d0785023302cd075d735d27db8  2022-08-11  2022-08-20   \n",
       "2       55ca7cc1d822f310963a25d84656bb47  2022-06-26  2022-07-01   \n",
       "3       598db4391eb0bc5752b09c871111a5ce  2022-05-14  2022-05-23   \n",
       "4       e09441b23c76e8a35be3acb61d8e3e95  2022-09-25  2022-10-13   \n",
       "...                                  ...         ...         ...   \n",
       "499995  cfd0ca3c7574a87f1ce1dfa83d1a053b  2022-07-02  2022-07-15   \n",
       "499996  3c671c288391b26e5888c84ef143424d  2022-05-04  2022-06-23   \n",
       "499997  2313cf9772214eaddf14651c8847eaeb  2022-08-14  2022-08-26   \n",
       "499998  9141b51058bfbdf9adc91abb2be9078c  2022-08-09  2022-09-06   \n",
       "499999  50e4a74280f144bb17fd1e93266c6d05  2022-09-01  2022-09-16   \n",
       "\n",
       "       startingAirport destinationAirport fareBasisCode travelDuration  \\\n",
       "0                  PHL                JFK      SUAJZNB3        PT5H17M   \n",
       "1                  CLT                ATL      TA7NA0MC          PT14H   \n",
       "2                  OAK                JFK      HA0NA0MC        PT8H13M   \n",
       "3                  BOS                EWR      QAA3OFEN        PT1H41M   \n",
       "4                  ATL                BOS      TAUNX0BC       PT10H32M   \n",
       "...                ...                ...           ...            ...   \n",
       "499995             LAX                CLT      HA7OA0MQ        PT9H10M   \n",
       "499996             CLT                LAX      UAVNA0MC       PT14H11M   \n",
       "499997             BOS                OAK      QAA0OHEN       PT11H11M   \n",
       "499998             EWR                SFO      L7AHZNN1        PT8H13M   \n",
       "499999             LGA                OAK      QAA4AHEN       PT12H19M   \n",
       "\n",
       "        elapsedDays  isBasicEconomy  isRefundable  ...  \\\n",
       "0                 0            True         False  ...   \n",
       "1                 1           False         False  ...   \n",
       "2                 0           False         False  ...   \n",
       "3                 0           False         False  ...   \n",
       "4                 0            True         False  ...   \n",
       "...             ...             ...           ...  ...   \n",
       "499995            1           False         False  ...   \n",
       "499996            0           False         False  ...   \n",
       "499997            0           False         False  ...   \n",
       "499998            0           False         False  ...   \n",
       "499999            0           False         False  ...   \n",
       "\n",
       "           segmentsArrivalTimeEpochSeconds  \\\n",
       "0                   1655309340||1655323200   \n",
       "1       1661037300||1661050560||1661081220   \n",
       "2                   1656706200||1656730740   \n",
       "3                               1653347940   \n",
       "4                   1665667500||1665697620   \n",
       "...                                    ...   \n",
       "499995              1657969320||1657986300   \n",
       "499996  1655982720||1655995500||1656029760   \n",
       "499997  1661558040||1661573100||1661583120   \n",
       "499998              1662485760||1662506040   \n",
       "499999  1663339560||1663358940||1663370340   \n",
       "\n",
       "                                   segmentsArrivalTimeRaw  \\\n",
       "0       2022-06-15T12:09:00.000-04:00||2022-06-15T16:0...   \n",
       "1       2022-08-20T19:15:00.000-04:00||2022-08-20T22:5...   \n",
       "2       2022-07-01T13:10:00.000-07:00||2022-07-01T22:5...   \n",
       "3                           2022-05-23T19:19:00.000-04:00   \n",
       "4       2022-10-13T09:25:00.000-04:00||2022-10-13T17:4...   \n",
       "...                                                   ...   \n",
       "499995  2022-07-16T07:02:00.000-04:00||2022-07-16T11:4...   \n",
       "499996  2022-06-23T07:12:00.000-04:00||2022-06-23T09:4...   \n",
       "499997  2022-08-26T18:54:00.000-05:00||2022-08-26T22:0...   \n",
       "499998  2022-09-06T12:36:00.000-05:00||2022-09-06T16:1...   \n",
       "499999  2022-09-16T09:46:00.000-05:00||2022-09-16T14:0...   \n",
       "\n",
       "        segmentsArrivalAirportCode  segmentsDepartureAirportCode  \\\n",
       "0                         BOS||JFK                      PHL||BOS   \n",
       "1                    DTW||IND||ATL                 CLT||DTW||IND   \n",
       "2                         LAX||JFK                      OAK||LAX   \n",
       "3                              EWR                           BOS   \n",
       "4                         JFK||BOS                      ATL||JFK   \n",
       "...                            ...                           ...   \n",
       "499995                    DTW||CLT                      LAX||DTW   \n",
       "499996               ATL||DFW||LAX                 CLT||ATL||DFW   \n",
       "499997               IAH||SLC||OAK                 BOS||IAH||SLC   \n",
       "499998                    ORD||SFO                      EWR||ORD   \n",
       "499999               IAH||SLC||OAK                 LGA||IAH||SLC   \n",
       "\n",
       "                         segmentsAirlineName segmentsAirlineCode  \\\n",
       "0       American Airlines||American Airlines              AA||AA   \n",
       "1                        Delta||Delta||Delta          DL||DL||DL   \n",
       "2                               Delta||Delta              DL||DL   \n",
       "3                                     United                  UA   \n",
       "4                               Delta||Delta              DL||DL   \n",
       "...                                      ...                 ...   \n",
       "499995                          Delta||Delta              DL||DL   \n",
       "499996                   Delta||Delta||Delta          DL||DL||DL   \n",
       "499997                  United||Delta||Delta          UA||DL||DL   \n",
       "499998  American Airlines||American Airlines              AA||AA   \n",
       "499999                  United||Delta||Delta          UA||DL||DL   \n",
       "\n",
       "                             segmentsEquipmentDescription  \\\n",
       "0            Airbus A321||AIRBUS INDUSTRIE A321 SHARKLETS   \n",
       "1                 Boeing 717||Airbus A321||Boeing 737-900   \n",
       "2                       Embraer 175 (Enhanced Winglets)||   \n",
       "3                                             Airbus A319   \n",
       "4                         Boeing 737-900||Airbus A220-100   \n",
       "...                                                   ...   \n",
       "499995                            Airbus A321||Boeing 717   \n",
       "499996               Boeing 717||Airbus A321||Airbus A320   \n",
       "499997          Airbus A320||Airbus A319||Airbus A220-100   \n",
       "499998                     Boeing 737-800||Boeing 737-800   \n",
       "499999  Boeing 737-800||Airbus A220-100||Embraer 175 (...   \n",
       "\n",
       "       segmentsDurationInSeconds segmentsDistance    segmentsCabinCode  \n",
       "0                     5160||4920         280||185         coach||coach  \n",
       "1               6480||4020||5220    505||241||434  coach||coach||coach  \n",
       "2                    5040||20040        338||2458         coach||coach  \n",
       "3                           6060              185                coach  \n",
       "4                     7800||5220         762||185         coach||coach  \n",
       "...                          ...              ...                  ...  \n",
       "499995               16020||6300        1985||505         coach||coach  \n",
       "499996         4020||8100||11760   228||725||1238  coach||coach||coach  \n",
       "499997        15180||11460||6780  1602||1204||588  coach||coach||coach  \n",
       "499998               9300||16740        720||1847         coach||coach  \n",
       "499999        13560||11340||7140  1419||1204||588  coach||coach||coach  \n",
       "\n",
       "[500000 rows x 27 columns]"
      ]
     },
     "execution_count": 34,
     "metadata": {},
     "output_type": "execute_result"
    }
   ],
   "source": [
    "#data=pd.read_csv('sampled_file.csv')\n",
    "\n",
    "#New read_csv function to read empty values as -1 and remove unamed column\n",
    "data=pd.read_csv(\"sampled_file.csv\"\n",
    "                 #, dtype=str\n",
    "                 , keep_default_na=True\n",
    "                 , na_values=-1\n",
    "                 , na_filter=True).drop(columns=['Unnamed: 0'])\n",
    "data"
   ]
  },
  {
   "cell_type": "markdown",
   "id": "0652cd25",
   "metadata": {},
   "source": [
    "<hr style=\"border: 5px solid #003262;\" />\n",
    "<hr style=\"border: 1px solid #fdb515;\" />\n",
    "\n",
    "## Cleaning the dataset"
   ]
  },
  {
   "cell_type": "markdown",
   "id": "0193a94c",
   "metadata": {},
   "source": [
    "### Drop rows with values 'NaN'"
   ]
  },
  {
   "cell_type": "markdown",
   "id": "d24e99fb",
   "metadata": {},
   "source": [
    "The rows with the values **'NaN'** will be dropped except for the description."
   ]
  },
  {
   "cell_type": "code",
   "execution_count": 35,
   "id": "ccbcd5bd",
   "metadata": {},
   "outputs": [
    {
     "name": "stdout",
     "output_type": "stream",
     "text": [
      "legId                                   0\n",
      "searchDate                              0\n",
      "flightDate                              0\n",
      "startingAirport                         0\n",
      "destinationAirport                      0\n",
      "fareBasisCode                           0\n",
      "travelDuration                          0\n",
      "elapsedDays                             0\n",
      "isBasicEconomy                          0\n",
      "isRefundable                            0\n",
      "isNonStop                               0\n",
      "baseFare                                0\n",
      "totalFare                               0\n",
      "seatsRemaining                          0\n",
      "totalTravelDistance                     0\n",
      "segmentsDepartureTimeEpochSeconds       0\n",
      "segmentsDepartureTimeRaw                0\n",
      "segmentsArrivalTimeEpochSeconds         0\n",
      "segmentsArrivalTimeRaw                  0\n",
      "segmentsArrivalAirportCode              0\n",
      "segmentsDepartureAirportCode            0\n",
      "segmentsAirlineName                     0\n",
      "segmentsAirlineCode                     0\n",
      "segmentsEquipmentDescription         7950\n",
      "segmentsDurationInSeconds               0\n",
      "segmentsDistance                        0\n",
      "segmentsCabinCode                       0\n",
      "dtype: int64\n"
     ]
    }
   ],
   "source": [
    "data = data.dropna(subset=['totalTravelDistance'])\n",
    "print(data.iloc[:,0:28].isna().sum())"
   ]
  },
  {
   "cell_type": "markdown",
   "id": "2a54c234",
   "metadata": {},
   "source": [
    "### Function to change True and False to 1 and 0"
   ]
  },
  {
   "cell_type": "markdown",
   "id": "079d5029",
   "metadata": {},
   "source": [
    "The columns with values True and False will be changed to 1 and 0 which will be better to train a model."
   ]
  },
  {
   "cell_type": "code",
   "execution_count": 36,
   "id": "5a8d6c02",
   "metadata": {},
   "outputs": [
    {
     "data": {
      "text/html": [
       "<div>\n",
       "<style scoped>\n",
       "    .dataframe tbody tr th:only-of-type {\n",
       "        vertical-align: middle;\n",
       "    }\n",
       "\n",
       "    .dataframe tbody tr th {\n",
       "        vertical-align: top;\n",
       "    }\n",
       "\n",
       "    .dataframe thead th {\n",
       "        text-align: right;\n",
       "    }\n",
       "</style>\n",
       "<table border=\"1\" class=\"dataframe\">\n",
       "  <thead>\n",
       "    <tr style=\"text-align: right;\">\n",
       "      <th></th>\n",
       "      <th>legId</th>\n",
       "      <th>searchDate</th>\n",
       "      <th>flightDate</th>\n",
       "      <th>startingAirport</th>\n",
       "      <th>destinationAirport</th>\n",
       "      <th>fareBasisCode</th>\n",
       "      <th>travelDuration</th>\n",
       "      <th>elapsedDays</th>\n",
       "      <th>isBasicEconomy</th>\n",
       "      <th>isRefundable</th>\n",
       "      <th>...</th>\n",
       "      <th>segmentsArrivalTimeEpochSeconds</th>\n",
       "      <th>segmentsArrivalTimeRaw</th>\n",
       "      <th>segmentsArrivalAirportCode</th>\n",
       "      <th>segmentsDepartureAirportCode</th>\n",
       "      <th>segmentsAirlineName</th>\n",
       "      <th>segmentsAirlineCode</th>\n",
       "      <th>segmentsEquipmentDescription</th>\n",
       "      <th>segmentsDurationInSeconds</th>\n",
       "      <th>segmentsDistance</th>\n",
       "      <th>segmentsCabinCode</th>\n",
       "    </tr>\n",
       "  </thead>\n",
       "  <tbody>\n",
       "    <tr>\n",
       "      <th>0</th>\n",
       "      <td>e95cef0009893d65558d17324e468aea</td>\n",
       "      <td>2022-06-01</td>\n",
       "      <td>2022-06-15</td>\n",
       "      <td>PHL</td>\n",
       "      <td>JFK</td>\n",
       "      <td>SUAJZNB3</td>\n",
       "      <td>PT5H17M</td>\n",
       "      <td>0</td>\n",
       "      <td>1</td>\n",
       "      <td>0</td>\n",
       "      <td>...</td>\n",
       "      <td>1655309340||1655323200</td>\n",
       "      <td>2022-06-15T12:09:00.000-04:00||2022-06-15T16:0...</td>\n",
       "      <td>BOS||JFK</td>\n",
       "      <td>PHL||BOS</td>\n",
       "      <td>American Airlines||American Airlines</td>\n",
       "      <td>AA||AA</td>\n",
       "      <td>Airbus A321||AIRBUS INDUSTRIE A321 SHARKLETS</td>\n",
       "      <td>5160||4920</td>\n",
       "      <td>280||185</td>\n",
       "      <td>coach||coach</td>\n",
       "    </tr>\n",
       "    <tr>\n",
       "      <th>1</th>\n",
       "      <td>778d47d0785023302cd075d735d27db8</td>\n",
       "      <td>2022-08-11</td>\n",
       "      <td>2022-08-20</td>\n",
       "      <td>CLT</td>\n",
       "      <td>ATL</td>\n",
       "      <td>TA7NA0MC</td>\n",
       "      <td>PT14H</td>\n",
       "      <td>1</td>\n",
       "      <td>0</td>\n",
       "      <td>0</td>\n",
       "      <td>...</td>\n",
       "      <td>1661037300||1661050560||1661081220</td>\n",
       "      <td>2022-08-20T19:15:00.000-04:00||2022-08-20T22:5...</td>\n",
       "      <td>DTW||IND||ATL</td>\n",
       "      <td>CLT||DTW||IND</td>\n",
       "      <td>Delta||Delta||Delta</td>\n",
       "      <td>DL||DL||DL</td>\n",
       "      <td>Boeing 717||Airbus A321||Boeing 737-900</td>\n",
       "      <td>6480||4020||5220</td>\n",
       "      <td>505||241||434</td>\n",
       "      <td>coach||coach||coach</td>\n",
       "    </tr>\n",
       "    <tr>\n",
       "      <th>2</th>\n",
       "      <td>55ca7cc1d822f310963a25d84656bb47</td>\n",
       "      <td>2022-06-26</td>\n",
       "      <td>2022-07-01</td>\n",
       "      <td>OAK</td>\n",
       "      <td>JFK</td>\n",
       "      <td>HA0NA0MC</td>\n",
       "      <td>PT8H13M</td>\n",
       "      <td>0</td>\n",
       "      <td>0</td>\n",
       "      <td>0</td>\n",
       "      <td>...</td>\n",
       "      <td>1656706200||1656730740</td>\n",
       "      <td>2022-07-01T13:10:00.000-07:00||2022-07-01T22:5...</td>\n",
       "      <td>LAX||JFK</td>\n",
       "      <td>OAK||LAX</td>\n",
       "      <td>Delta||Delta</td>\n",
       "      <td>DL||DL</td>\n",
       "      <td>Embraer 175 (Enhanced Winglets)||</td>\n",
       "      <td>5040||20040</td>\n",
       "      <td>338||2458</td>\n",
       "      <td>coach||coach</td>\n",
       "    </tr>\n",
       "    <tr>\n",
       "      <th>3</th>\n",
       "      <td>598db4391eb0bc5752b09c871111a5ce</td>\n",
       "      <td>2022-05-14</td>\n",
       "      <td>2022-05-23</td>\n",
       "      <td>BOS</td>\n",
       "      <td>EWR</td>\n",
       "      <td>QAA3OFEN</td>\n",
       "      <td>PT1H41M</td>\n",
       "      <td>0</td>\n",
       "      <td>0</td>\n",
       "      <td>0</td>\n",
       "      <td>...</td>\n",
       "      <td>1653347940</td>\n",
       "      <td>2022-05-23T19:19:00.000-04:00</td>\n",
       "      <td>EWR</td>\n",
       "      <td>BOS</td>\n",
       "      <td>United</td>\n",
       "      <td>UA</td>\n",
       "      <td>Airbus A319</td>\n",
       "      <td>6060</td>\n",
       "      <td>185</td>\n",
       "      <td>coach</td>\n",
       "    </tr>\n",
       "    <tr>\n",
       "      <th>4</th>\n",
       "      <td>e09441b23c76e8a35be3acb61d8e3e95</td>\n",
       "      <td>2022-09-25</td>\n",
       "      <td>2022-10-13</td>\n",
       "      <td>ATL</td>\n",
       "      <td>BOS</td>\n",
       "      <td>TAUNX0BC</td>\n",
       "      <td>PT10H32M</td>\n",
       "      <td>0</td>\n",
       "      <td>1</td>\n",
       "      <td>0</td>\n",
       "      <td>...</td>\n",
       "      <td>1665667500||1665697620</td>\n",
       "      <td>2022-10-13T09:25:00.000-04:00||2022-10-13T17:4...</td>\n",
       "      <td>JFK||BOS</td>\n",
       "      <td>ATL||JFK</td>\n",
       "      <td>Delta||Delta</td>\n",
       "      <td>DL||DL</td>\n",
       "      <td>Boeing 737-900||Airbus A220-100</td>\n",
       "      <td>7800||5220</td>\n",
       "      <td>762||185</td>\n",
       "      <td>coach||coach</td>\n",
       "    </tr>\n",
       "    <tr>\n",
       "      <th>...</th>\n",
       "      <td>...</td>\n",
       "      <td>...</td>\n",
       "      <td>...</td>\n",
       "      <td>...</td>\n",
       "      <td>...</td>\n",
       "      <td>...</td>\n",
       "      <td>...</td>\n",
       "      <td>...</td>\n",
       "      <td>...</td>\n",
       "      <td>...</td>\n",
       "      <td>...</td>\n",
       "      <td>...</td>\n",
       "      <td>...</td>\n",
       "      <td>...</td>\n",
       "      <td>...</td>\n",
       "      <td>...</td>\n",
       "      <td>...</td>\n",
       "      <td>...</td>\n",
       "      <td>...</td>\n",
       "      <td>...</td>\n",
       "      <td>...</td>\n",
       "    </tr>\n",
       "    <tr>\n",
       "      <th>499995</th>\n",
       "      <td>cfd0ca3c7574a87f1ce1dfa83d1a053b</td>\n",
       "      <td>2022-07-02</td>\n",
       "      <td>2022-07-15</td>\n",
       "      <td>LAX</td>\n",
       "      <td>CLT</td>\n",
       "      <td>HA7OA0MQ</td>\n",
       "      <td>PT9H10M</td>\n",
       "      <td>1</td>\n",
       "      <td>0</td>\n",
       "      <td>0</td>\n",
       "      <td>...</td>\n",
       "      <td>1657969320||1657986300</td>\n",
       "      <td>2022-07-16T07:02:00.000-04:00||2022-07-16T11:4...</td>\n",
       "      <td>DTW||CLT</td>\n",
       "      <td>LAX||DTW</td>\n",
       "      <td>Delta||Delta</td>\n",
       "      <td>DL||DL</td>\n",
       "      <td>Airbus A321||Boeing 717</td>\n",
       "      <td>16020||6300</td>\n",
       "      <td>1985||505</td>\n",
       "      <td>coach||coach</td>\n",
       "    </tr>\n",
       "    <tr>\n",
       "      <th>499996</th>\n",
       "      <td>3c671c288391b26e5888c84ef143424d</td>\n",
       "      <td>2022-05-04</td>\n",
       "      <td>2022-06-23</td>\n",
       "      <td>CLT</td>\n",
       "      <td>LAX</td>\n",
       "      <td>UAVNA0MC</td>\n",
       "      <td>PT14H11M</td>\n",
       "      <td>0</td>\n",
       "      <td>0</td>\n",
       "      <td>0</td>\n",
       "      <td>...</td>\n",
       "      <td>1655982720||1655995500||1656029760</td>\n",
       "      <td>2022-06-23T07:12:00.000-04:00||2022-06-23T09:4...</td>\n",
       "      <td>ATL||DFW||LAX</td>\n",
       "      <td>CLT||ATL||DFW</td>\n",
       "      <td>Delta||Delta||Delta</td>\n",
       "      <td>DL||DL||DL</td>\n",
       "      <td>Boeing 717||Airbus A321||Airbus A320</td>\n",
       "      <td>4020||8100||11760</td>\n",
       "      <td>228||725||1238</td>\n",
       "      <td>coach||coach||coach</td>\n",
       "    </tr>\n",
       "    <tr>\n",
       "      <th>499997</th>\n",
       "      <td>2313cf9772214eaddf14651c8847eaeb</td>\n",
       "      <td>2022-08-14</td>\n",
       "      <td>2022-08-26</td>\n",
       "      <td>BOS</td>\n",
       "      <td>OAK</td>\n",
       "      <td>QAA0OHEN</td>\n",
       "      <td>PT11H11M</td>\n",
       "      <td>0</td>\n",
       "      <td>0</td>\n",
       "      <td>0</td>\n",
       "      <td>...</td>\n",
       "      <td>1661558040||1661573100||1661583120</td>\n",
       "      <td>2022-08-26T18:54:00.000-05:00||2022-08-26T22:0...</td>\n",
       "      <td>IAH||SLC||OAK</td>\n",
       "      <td>BOS||IAH||SLC</td>\n",
       "      <td>United||Delta||Delta</td>\n",
       "      <td>UA||DL||DL</td>\n",
       "      <td>Airbus A320||Airbus A319||Airbus A220-100</td>\n",
       "      <td>15180||11460||6780</td>\n",
       "      <td>1602||1204||588</td>\n",
       "      <td>coach||coach||coach</td>\n",
       "    </tr>\n",
       "    <tr>\n",
       "      <th>499998</th>\n",
       "      <td>9141b51058bfbdf9adc91abb2be9078c</td>\n",
       "      <td>2022-08-09</td>\n",
       "      <td>2022-09-06</td>\n",
       "      <td>EWR</td>\n",
       "      <td>SFO</td>\n",
       "      <td>L7AHZNN1</td>\n",
       "      <td>PT8H13M</td>\n",
       "      <td>0</td>\n",
       "      <td>0</td>\n",
       "      <td>0</td>\n",
       "      <td>...</td>\n",
       "      <td>1662485760||1662506040</td>\n",
       "      <td>2022-09-06T12:36:00.000-05:00||2022-09-06T16:1...</td>\n",
       "      <td>ORD||SFO</td>\n",
       "      <td>EWR||ORD</td>\n",
       "      <td>American Airlines||American Airlines</td>\n",
       "      <td>AA||AA</td>\n",
       "      <td>Boeing 737-800||Boeing 737-800</td>\n",
       "      <td>9300||16740</td>\n",
       "      <td>720||1847</td>\n",
       "      <td>coach||coach</td>\n",
       "    </tr>\n",
       "    <tr>\n",
       "      <th>499999</th>\n",
       "      <td>50e4a74280f144bb17fd1e93266c6d05</td>\n",
       "      <td>2022-09-01</td>\n",
       "      <td>2022-09-16</td>\n",
       "      <td>LGA</td>\n",
       "      <td>OAK</td>\n",
       "      <td>QAA4AHEN</td>\n",
       "      <td>PT12H19M</td>\n",
       "      <td>0</td>\n",
       "      <td>0</td>\n",
       "      <td>0</td>\n",
       "      <td>...</td>\n",
       "      <td>1663339560||1663358940||1663370340</td>\n",
       "      <td>2022-09-16T09:46:00.000-05:00||2022-09-16T14:0...</td>\n",
       "      <td>IAH||SLC||OAK</td>\n",
       "      <td>LGA||IAH||SLC</td>\n",
       "      <td>United||Delta||Delta</td>\n",
       "      <td>UA||DL||DL</td>\n",
       "      <td>Boeing 737-800||Airbus A220-100||Embraer 175 (...</td>\n",
       "      <td>13560||11340||7140</td>\n",
       "      <td>1419||1204||588</td>\n",
       "      <td>coach||coach||coach</td>\n",
       "    </tr>\n",
       "  </tbody>\n",
       "</table>\n",
       "<p>462700 rows × 27 columns</p>\n",
       "</div>"
      ],
      "text/plain": [
       "                                   legId  searchDate  flightDate  \\\n",
       "0       e95cef0009893d65558d17324e468aea  2022-06-01  2022-06-15   \n",
       "1       778d47d0785023302cd075d735d27db8  2022-08-11  2022-08-20   \n",
       "2       55ca7cc1d822f310963a25d84656bb47  2022-06-26  2022-07-01   \n",
       "3       598db4391eb0bc5752b09c871111a5ce  2022-05-14  2022-05-23   \n",
       "4       e09441b23c76e8a35be3acb61d8e3e95  2022-09-25  2022-10-13   \n",
       "...                                  ...         ...         ...   \n",
       "499995  cfd0ca3c7574a87f1ce1dfa83d1a053b  2022-07-02  2022-07-15   \n",
       "499996  3c671c288391b26e5888c84ef143424d  2022-05-04  2022-06-23   \n",
       "499997  2313cf9772214eaddf14651c8847eaeb  2022-08-14  2022-08-26   \n",
       "499998  9141b51058bfbdf9adc91abb2be9078c  2022-08-09  2022-09-06   \n",
       "499999  50e4a74280f144bb17fd1e93266c6d05  2022-09-01  2022-09-16   \n",
       "\n",
       "       startingAirport destinationAirport fareBasisCode travelDuration  \\\n",
       "0                  PHL                JFK      SUAJZNB3        PT5H17M   \n",
       "1                  CLT                ATL      TA7NA0MC          PT14H   \n",
       "2                  OAK                JFK      HA0NA0MC        PT8H13M   \n",
       "3                  BOS                EWR      QAA3OFEN        PT1H41M   \n",
       "4                  ATL                BOS      TAUNX0BC       PT10H32M   \n",
       "...                ...                ...           ...            ...   \n",
       "499995             LAX                CLT      HA7OA0MQ        PT9H10M   \n",
       "499996             CLT                LAX      UAVNA0MC       PT14H11M   \n",
       "499997             BOS                OAK      QAA0OHEN       PT11H11M   \n",
       "499998             EWR                SFO      L7AHZNN1        PT8H13M   \n",
       "499999             LGA                OAK      QAA4AHEN       PT12H19M   \n",
       "\n",
       "        elapsedDays  isBasicEconomy  isRefundable  ...  \\\n",
       "0                 0               1             0  ...   \n",
       "1                 1               0             0  ...   \n",
       "2                 0               0             0  ...   \n",
       "3                 0               0             0  ...   \n",
       "4                 0               1             0  ...   \n",
       "...             ...             ...           ...  ...   \n",
       "499995            1               0             0  ...   \n",
       "499996            0               0             0  ...   \n",
       "499997            0               0             0  ...   \n",
       "499998            0               0             0  ...   \n",
       "499999            0               0             0  ...   \n",
       "\n",
       "           segmentsArrivalTimeEpochSeconds  \\\n",
       "0                   1655309340||1655323200   \n",
       "1       1661037300||1661050560||1661081220   \n",
       "2                   1656706200||1656730740   \n",
       "3                               1653347940   \n",
       "4                   1665667500||1665697620   \n",
       "...                                    ...   \n",
       "499995              1657969320||1657986300   \n",
       "499996  1655982720||1655995500||1656029760   \n",
       "499997  1661558040||1661573100||1661583120   \n",
       "499998              1662485760||1662506040   \n",
       "499999  1663339560||1663358940||1663370340   \n",
       "\n",
       "                                   segmentsArrivalTimeRaw  \\\n",
       "0       2022-06-15T12:09:00.000-04:00||2022-06-15T16:0...   \n",
       "1       2022-08-20T19:15:00.000-04:00||2022-08-20T22:5...   \n",
       "2       2022-07-01T13:10:00.000-07:00||2022-07-01T22:5...   \n",
       "3                           2022-05-23T19:19:00.000-04:00   \n",
       "4       2022-10-13T09:25:00.000-04:00||2022-10-13T17:4...   \n",
       "...                                                   ...   \n",
       "499995  2022-07-16T07:02:00.000-04:00||2022-07-16T11:4...   \n",
       "499996  2022-06-23T07:12:00.000-04:00||2022-06-23T09:4...   \n",
       "499997  2022-08-26T18:54:00.000-05:00||2022-08-26T22:0...   \n",
       "499998  2022-09-06T12:36:00.000-05:00||2022-09-06T16:1...   \n",
       "499999  2022-09-16T09:46:00.000-05:00||2022-09-16T14:0...   \n",
       "\n",
       "        segmentsArrivalAirportCode  segmentsDepartureAirportCode  \\\n",
       "0                         BOS||JFK                      PHL||BOS   \n",
       "1                    DTW||IND||ATL                 CLT||DTW||IND   \n",
       "2                         LAX||JFK                      OAK||LAX   \n",
       "3                              EWR                           BOS   \n",
       "4                         JFK||BOS                      ATL||JFK   \n",
       "...                            ...                           ...   \n",
       "499995                    DTW||CLT                      LAX||DTW   \n",
       "499996               ATL||DFW||LAX                 CLT||ATL||DFW   \n",
       "499997               IAH||SLC||OAK                 BOS||IAH||SLC   \n",
       "499998                    ORD||SFO                      EWR||ORD   \n",
       "499999               IAH||SLC||OAK                 LGA||IAH||SLC   \n",
       "\n",
       "                         segmentsAirlineName segmentsAirlineCode  \\\n",
       "0       American Airlines||American Airlines              AA||AA   \n",
       "1                        Delta||Delta||Delta          DL||DL||DL   \n",
       "2                               Delta||Delta              DL||DL   \n",
       "3                                     United                  UA   \n",
       "4                               Delta||Delta              DL||DL   \n",
       "...                                      ...                 ...   \n",
       "499995                          Delta||Delta              DL||DL   \n",
       "499996                   Delta||Delta||Delta          DL||DL||DL   \n",
       "499997                  United||Delta||Delta          UA||DL||DL   \n",
       "499998  American Airlines||American Airlines              AA||AA   \n",
       "499999                  United||Delta||Delta          UA||DL||DL   \n",
       "\n",
       "                             segmentsEquipmentDescription  \\\n",
       "0            Airbus A321||AIRBUS INDUSTRIE A321 SHARKLETS   \n",
       "1                 Boeing 717||Airbus A321||Boeing 737-900   \n",
       "2                       Embraer 175 (Enhanced Winglets)||   \n",
       "3                                             Airbus A319   \n",
       "4                         Boeing 737-900||Airbus A220-100   \n",
       "...                                                   ...   \n",
       "499995                            Airbus A321||Boeing 717   \n",
       "499996               Boeing 717||Airbus A321||Airbus A320   \n",
       "499997          Airbus A320||Airbus A319||Airbus A220-100   \n",
       "499998                     Boeing 737-800||Boeing 737-800   \n",
       "499999  Boeing 737-800||Airbus A220-100||Embraer 175 (...   \n",
       "\n",
       "       segmentsDurationInSeconds segmentsDistance    segmentsCabinCode  \n",
       "0                     5160||4920         280||185         coach||coach  \n",
       "1               6480||4020||5220    505||241||434  coach||coach||coach  \n",
       "2                    5040||20040        338||2458         coach||coach  \n",
       "3                           6060              185                coach  \n",
       "4                     7800||5220         762||185         coach||coach  \n",
       "...                          ...              ...                  ...  \n",
       "499995               16020||6300        1985||505         coach||coach  \n",
       "499996         4020||8100||11760   228||725||1238  coach||coach||coach  \n",
       "499997        15180||11460||6780  1602||1204||588  coach||coach||coach  \n",
       "499998               9300||16740        720||1847         coach||coach  \n",
       "499999        13560||11340||7140  1419||1204||588  coach||coach||coach  \n",
       "\n",
       "[462700 rows x 27 columns]"
      ]
     },
     "execution_count": 36,
     "metadata": {},
     "output_type": "execute_result"
    }
   ],
   "source": [
    "def map_true_false(df, columnName):\n",
    "    \"\"\"\n",
    "        Inputs:\n",
    "            df [Dataframe]: Dataframe on which the operation is performed\n",
    "            columnName [String]: The column which is being modified\n",
    "        \n",
    "        Output:\n",
    "            New Dataframe with the modified\n",
    "    \"\"\"\n",
    "    df[columnName]=df[columnName].map(dict({True: 1, False: 0}))\n",
    "    return df\n",
    "\n",
    "data=map_true_false(data,'isBasicEconomy')\n",
    "data=map_true_false(data,'isRefundable')\n",
    "data=map_true_false(data,'isNonStop')\n",
    "data"
   ]
  },
  {
   "cell_type": "markdown",
   "id": "37a0bd0f",
   "metadata": {},
   "source": [
    "### Function to remove outliers"
   ]
  },
  {
   "cell_type": "markdown",
   "id": "bfe3e76f",
   "metadata": {},
   "source": [
    "`remove_outliers` function removes the outliers depending on the given condition."
   ]
  },
  {
   "cell_type": "code",
   "execution_count": 37,
   "id": "57b1fc70",
   "metadata": {},
   "outputs": [],
   "source": [
    "def remove_outliers(data, variable, lower=-np.inf, upper=np.inf):\n",
    "  \n",
    "    \"\"\"\n",
    "    Input:\n",
    "      data (data frame): the table to be filtered\n",
    "      variable (string): the column with numerical outliers\n",
    "      lower (numeric): observations with values lower than this will be removed\n",
    "      upper (numeric): observations with values higher than this will be removed\n",
    "    \n",
    "    Output:\n",
    "      a data frame with outliers removed\n",
    "      \n",
    "    Note: This function should not change mutate the contents of data.\n",
    "    \"\"\"  \n",
    "    data_2=data[data[variable]<= upper]\n",
    "    data_3=data_2[data_2[variable]>= lower]\n",
    "    return data_3"
   ]
  },
  {
   "cell_type": "code",
   "execution_count": 38,
   "id": "2cc43494",
   "metadata": {},
   "outputs": [
    {
     "data": {
      "text/plain": [
       "252841      60.47\n",
       "423629      60.47\n",
       "282635      60.47\n",
       "218454      60.47\n",
       "357654      60.47\n",
       "           ...   \n",
       "373476    3674.42\n",
       "270007    4407.44\n",
       "423259    4407.44\n",
       "210383    4407.44\n",
       "403847    4557.21\n",
       "Name: baseFare, Length: 455587, dtype: float64"
      ]
     },
     "execution_count": 38,
     "metadata": {},
     "output_type": "execute_result"
    }
   ],
   "source": [
    "data = remove_outliers(data, 'baseFare', lower = 60)\n",
    "data.loc[:,'baseFare'].sort_values()"
   ]
  },
  {
   "cell_type": "markdown",
   "id": "b9ccf832",
   "metadata": {},
   "source": [
    "### Convert date time column to date time format"
   ]
  },
  {
   "cell_type": "markdown",
   "id": "f393c0b3",
   "metadata": {},
   "source": [
    "The dates are converted to datetime format using `convertToDateTimeFormat` so that the year, month and day will be easily accessible"
   ]
  },
  {
   "cell_type": "code",
   "execution_count": 39,
   "id": "2a0391b6",
   "metadata": {},
   "outputs": [],
   "source": [
    "def convertToDateTimeFormat(df, columnName):\n",
    "    \"\"\"\n",
    "    Inputs:\n",
    "        df [Dataframe]: Dataframe on which the operation is performed\n",
    "        columnName [String]: The column which has dates to be converted into datetime format\n",
    "                        Acceptable names are 'searchDate' and 'flightDate'\n",
    "        \n",
    "    Output:\n",
    "        New Dataframe with dates converted into datetime format\n",
    "    \"\"\"\n",
    "    df[columnName]=pd.to_datetime(df[columnName], format=\"%Y-%m-%d\")\n",
    "    return df"
   ]
  },
  {
   "cell_type": "code",
   "execution_count": 40,
   "id": "fb20be81",
   "metadata": {},
   "outputs": [],
   "source": [
    "data=convertToDateTimeFormat(data, 'searchDate')\n",
    "data=convertToDateTimeFormat(data, 'flightDate')"
   ]
  },
  {
   "cell_type": "code",
   "execution_count": 41,
   "id": "d2a98856",
   "metadata": {},
   "outputs": [
    {
     "data": {
      "text/plain": [
       "0        2022-06-01\n",
       "1        2022-08-11\n",
       "2        2022-06-26\n",
       "3        2022-05-14\n",
       "4        2022-09-25\n",
       "            ...    \n",
       "499995   2022-07-02\n",
       "499996   2022-05-04\n",
       "499997   2022-08-14\n",
       "499998   2022-08-09\n",
       "499999   2022-09-01\n",
       "Name: searchDate, Length: 455587, dtype: datetime64[ns]"
      ]
     },
     "execution_count": 41,
     "metadata": {},
     "output_type": "execute_result"
    }
   ],
   "source": [
    "data['searchDate']"
   ]
  },
  {
   "cell_type": "markdown",
   "id": "1f0ffda4",
   "metadata": {},
   "source": [
    "### Create columns for month and day for the date columns"
   ]
  },
  {
   "cell_type": "markdown",
   "id": "40ceaf9c",
   "metadata": {},
   "source": [
    "The month and year are extracted from the date columns using `createMonthDay` so that they more usable"
   ]
  },
  {
   "cell_type": "code",
   "execution_count": 42,
   "id": "97c22d51",
   "metadata": {},
   "outputs": [],
   "source": [
    "def createMonthDay(df, columnName):\n",
    "    \"\"\"\n",
    "    Inputs:\n",
    "        df [Dataframe]: Dataframe on which the operation is performed\n",
    "        columnName [String]: The column which has dates from which month and year are extracted\n",
    "                        Acceptable names are 'searchDate' and 'flightDate'\n",
    "        \n",
    "    Output:\n",
    "        New Dataframe with with the columns for month and year added from the the column columnName\n",
    "    \"\"\"\n",
    "    df[columnName+'_month']=df[columnName].dt.month\n",
    "    df[columnName+'_day']=df[columnName].dt.day\n",
    "    return df"
   ]
  },
  {
   "cell_type": "code",
   "execution_count": 43,
   "id": "2879d1f0",
   "metadata": {},
   "outputs": [],
   "source": [
    "data=createMonthDay(data, 'searchDate')\n",
    "data=createMonthDay(data, 'flightDate')"
   ]
  },
  {
   "cell_type": "code",
   "execution_count": 44,
   "id": "8e420439",
   "metadata": {},
   "outputs": [
    {
     "data": {
      "text/html": [
       "<div>\n",
       "<style scoped>\n",
       "    .dataframe tbody tr th:only-of-type {\n",
       "        vertical-align: middle;\n",
       "    }\n",
       "\n",
       "    .dataframe tbody tr th {\n",
       "        vertical-align: top;\n",
       "    }\n",
       "\n",
       "    .dataframe thead th {\n",
       "        text-align: right;\n",
       "    }\n",
       "</style>\n",
       "<table border=\"1\" class=\"dataframe\">\n",
       "  <thead>\n",
       "    <tr style=\"text-align: right;\">\n",
       "      <th></th>\n",
       "      <th>legId</th>\n",
       "      <th>searchDate</th>\n",
       "      <th>flightDate</th>\n",
       "      <th>startingAirport</th>\n",
       "      <th>destinationAirport</th>\n",
       "      <th>fareBasisCode</th>\n",
       "      <th>travelDuration</th>\n",
       "      <th>elapsedDays</th>\n",
       "      <th>isBasicEconomy</th>\n",
       "      <th>isRefundable</th>\n",
       "      <th>...</th>\n",
       "      <th>segmentsAirlineName</th>\n",
       "      <th>segmentsAirlineCode</th>\n",
       "      <th>segmentsEquipmentDescription</th>\n",
       "      <th>segmentsDurationInSeconds</th>\n",
       "      <th>segmentsDistance</th>\n",
       "      <th>segmentsCabinCode</th>\n",
       "      <th>searchDate_month</th>\n",
       "      <th>searchDate_day</th>\n",
       "      <th>flightDate_month</th>\n",
       "      <th>flightDate_day</th>\n",
       "    </tr>\n",
       "  </thead>\n",
       "  <tbody>\n",
       "    <tr>\n",
       "      <th>0</th>\n",
       "      <td>e95cef0009893d65558d17324e468aea</td>\n",
       "      <td>2022-06-01</td>\n",
       "      <td>2022-06-15</td>\n",
       "      <td>PHL</td>\n",
       "      <td>JFK</td>\n",
       "      <td>SUAJZNB3</td>\n",
       "      <td>PT5H17M</td>\n",
       "      <td>0</td>\n",
       "      <td>1</td>\n",
       "      <td>0</td>\n",
       "      <td>...</td>\n",
       "      <td>American Airlines||American Airlines</td>\n",
       "      <td>AA||AA</td>\n",
       "      <td>Airbus A321||AIRBUS INDUSTRIE A321 SHARKLETS</td>\n",
       "      <td>5160||4920</td>\n",
       "      <td>280||185</td>\n",
       "      <td>coach||coach</td>\n",
       "      <td>6</td>\n",
       "      <td>1</td>\n",
       "      <td>6</td>\n",
       "      <td>15</td>\n",
       "    </tr>\n",
       "    <tr>\n",
       "      <th>1</th>\n",
       "      <td>778d47d0785023302cd075d735d27db8</td>\n",
       "      <td>2022-08-11</td>\n",
       "      <td>2022-08-20</td>\n",
       "      <td>CLT</td>\n",
       "      <td>ATL</td>\n",
       "      <td>TA7NA0MC</td>\n",
       "      <td>PT14H</td>\n",
       "      <td>1</td>\n",
       "      <td>0</td>\n",
       "      <td>0</td>\n",
       "      <td>...</td>\n",
       "      <td>Delta||Delta||Delta</td>\n",
       "      <td>DL||DL||DL</td>\n",
       "      <td>Boeing 717||Airbus A321||Boeing 737-900</td>\n",
       "      <td>6480||4020||5220</td>\n",
       "      <td>505||241||434</td>\n",
       "      <td>coach||coach||coach</td>\n",
       "      <td>8</td>\n",
       "      <td>11</td>\n",
       "      <td>8</td>\n",
       "      <td>20</td>\n",
       "    </tr>\n",
       "    <tr>\n",
       "      <th>2</th>\n",
       "      <td>55ca7cc1d822f310963a25d84656bb47</td>\n",
       "      <td>2022-06-26</td>\n",
       "      <td>2022-07-01</td>\n",
       "      <td>OAK</td>\n",
       "      <td>JFK</td>\n",
       "      <td>HA0NA0MC</td>\n",
       "      <td>PT8H13M</td>\n",
       "      <td>0</td>\n",
       "      <td>0</td>\n",
       "      <td>0</td>\n",
       "      <td>...</td>\n",
       "      <td>Delta||Delta</td>\n",
       "      <td>DL||DL</td>\n",
       "      <td>Embraer 175 (Enhanced Winglets)||</td>\n",
       "      <td>5040||20040</td>\n",
       "      <td>338||2458</td>\n",
       "      <td>coach||coach</td>\n",
       "      <td>6</td>\n",
       "      <td>26</td>\n",
       "      <td>7</td>\n",
       "      <td>1</td>\n",
       "    </tr>\n",
       "    <tr>\n",
       "      <th>3</th>\n",
       "      <td>598db4391eb0bc5752b09c871111a5ce</td>\n",
       "      <td>2022-05-14</td>\n",
       "      <td>2022-05-23</td>\n",
       "      <td>BOS</td>\n",
       "      <td>EWR</td>\n",
       "      <td>QAA3OFEN</td>\n",
       "      <td>PT1H41M</td>\n",
       "      <td>0</td>\n",
       "      <td>0</td>\n",
       "      <td>0</td>\n",
       "      <td>...</td>\n",
       "      <td>United</td>\n",
       "      <td>UA</td>\n",
       "      <td>Airbus A319</td>\n",
       "      <td>6060</td>\n",
       "      <td>185</td>\n",
       "      <td>coach</td>\n",
       "      <td>5</td>\n",
       "      <td>14</td>\n",
       "      <td>5</td>\n",
       "      <td>23</td>\n",
       "    </tr>\n",
       "    <tr>\n",
       "      <th>4</th>\n",
       "      <td>e09441b23c76e8a35be3acb61d8e3e95</td>\n",
       "      <td>2022-09-25</td>\n",
       "      <td>2022-10-13</td>\n",
       "      <td>ATL</td>\n",
       "      <td>BOS</td>\n",
       "      <td>TAUNX0BC</td>\n",
       "      <td>PT10H32M</td>\n",
       "      <td>0</td>\n",
       "      <td>1</td>\n",
       "      <td>0</td>\n",
       "      <td>...</td>\n",
       "      <td>Delta||Delta</td>\n",
       "      <td>DL||DL</td>\n",
       "      <td>Boeing 737-900||Airbus A220-100</td>\n",
       "      <td>7800||5220</td>\n",
       "      <td>762||185</td>\n",
       "      <td>coach||coach</td>\n",
       "      <td>9</td>\n",
       "      <td>25</td>\n",
       "      <td>10</td>\n",
       "      <td>13</td>\n",
       "    </tr>\n",
       "    <tr>\n",
       "      <th>...</th>\n",
       "      <td>...</td>\n",
       "      <td>...</td>\n",
       "      <td>...</td>\n",
       "      <td>...</td>\n",
       "      <td>...</td>\n",
       "      <td>...</td>\n",
       "      <td>...</td>\n",
       "      <td>...</td>\n",
       "      <td>...</td>\n",
       "      <td>...</td>\n",
       "      <td>...</td>\n",
       "      <td>...</td>\n",
       "      <td>...</td>\n",
       "      <td>...</td>\n",
       "      <td>...</td>\n",
       "      <td>...</td>\n",
       "      <td>...</td>\n",
       "      <td>...</td>\n",
       "      <td>...</td>\n",
       "      <td>...</td>\n",
       "      <td>...</td>\n",
       "    </tr>\n",
       "    <tr>\n",
       "      <th>499995</th>\n",
       "      <td>cfd0ca3c7574a87f1ce1dfa83d1a053b</td>\n",
       "      <td>2022-07-02</td>\n",
       "      <td>2022-07-15</td>\n",
       "      <td>LAX</td>\n",
       "      <td>CLT</td>\n",
       "      <td>HA7OA0MQ</td>\n",
       "      <td>PT9H10M</td>\n",
       "      <td>1</td>\n",
       "      <td>0</td>\n",
       "      <td>0</td>\n",
       "      <td>...</td>\n",
       "      <td>Delta||Delta</td>\n",
       "      <td>DL||DL</td>\n",
       "      <td>Airbus A321||Boeing 717</td>\n",
       "      <td>16020||6300</td>\n",
       "      <td>1985||505</td>\n",
       "      <td>coach||coach</td>\n",
       "      <td>7</td>\n",
       "      <td>2</td>\n",
       "      <td>7</td>\n",
       "      <td>15</td>\n",
       "    </tr>\n",
       "    <tr>\n",
       "      <th>499996</th>\n",
       "      <td>3c671c288391b26e5888c84ef143424d</td>\n",
       "      <td>2022-05-04</td>\n",
       "      <td>2022-06-23</td>\n",
       "      <td>CLT</td>\n",
       "      <td>LAX</td>\n",
       "      <td>UAVNA0MC</td>\n",
       "      <td>PT14H11M</td>\n",
       "      <td>0</td>\n",
       "      <td>0</td>\n",
       "      <td>0</td>\n",
       "      <td>...</td>\n",
       "      <td>Delta||Delta||Delta</td>\n",
       "      <td>DL||DL||DL</td>\n",
       "      <td>Boeing 717||Airbus A321||Airbus A320</td>\n",
       "      <td>4020||8100||11760</td>\n",
       "      <td>228||725||1238</td>\n",
       "      <td>coach||coach||coach</td>\n",
       "      <td>5</td>\n",
       "      <td>4</td>\n",
       "      <td>6</td>\n",
       "      <td>23</td>\n",
       "    </tr>\n",
       "    <tr>\n",
       "      <th>499997</th>\n",
       "      <td>2313cf9772214eaddf14651c8847eaeb</td>\n",
       "      <td>2022-08-14</td>\n",
       "      <td>2022-08-26</td>\n",
       "      <td>BOS</td>\n",
       "      <td>OAK</td>\n",
       "      <td>QAA0OHEN</td>\n",
       "      <td>PT11H11M</td>\n",
       "      <td>0</td>\n",
       "      <td>0</td>\n",
       "      <td>0</td>\n",
       "      <td>...</td>\n",
       "      <td>United||Delta||Delta</td>\n",
       "      <td>UA||DL||DL</td>\n",
       "      <td>Airbus A320||Airbus A319||Airbus A220-100</td>\n",
       "      <td>15180||11460||6780</td>\n",
       "      <td>1602||1204||588</td>\n",
       "      <td>coach||coach||coach</td>\n",
       "      <td>8</td>\n",
       "      <td>14</td>\n",
       "      <td>8</td>\n",
       "      <td>26</td>\n",
       "    </tr>\n",
       "    <tr>\n",
       "      <th>499998</th>\n",
       "      <td>9141b51058bfbdf9adc91abb2be9078c</td>\n",
       "      <td>2022-08-09</td>\n",
       "      <td>2022-09-06</td>\n",
       "      <td>EWR</td>\n",
       "      <td>SFO</td>\n",
       "      <td>L7AHZNN1</td>\n",
       "      <td>PT8H13M</td>\n",
       "      <td>0</td>\n",
       "      <td>0</td>\n",
       "      <td>0</td>\n",
       "      <td>...</td>\n",
       "      <td>American Airlines||American Airlines</td>\n",
       "      <td>AA||AA</td>\n",
       "      <td>Boeing 737-800||Boeing 737-800</td>\n",
       "      <td>9300||16740</td>\n",
       "      <td>720||1847</td>\n",
       "      <td>coach||coach</td>\n",
       "      <td>8</td>\n",
       "      <td>9</td>\n",
       "      <td>9</td>\n",
       "      <td>6</td>\n",
       "    </tr>\n",
       "    <tr>\n",
       "      <th>499999</th>\n",
       "      <td>50e4a74280f144bb17fd1e93266c6d05</td>\n",
       "      <td>2022-09-01</td>\n",
       "      <td>2022-09-16</td>\n",
       "      <td>LGA</td>\n",
       "      <td>OAK</td>\n",
       "      <td>QAA4AHEN</td>\n",
       "      <td>PT12H19M</td>\n",
       "      <td>0</td>\n",
       "      <td>0</td>\n",
       "      <td>0</td>\n",
       "      <td>...</td>\n",
       "      <td>United||Delta||Delta</td>\n",
       "      <td>UA||DL||DL</td>\n",
       "      <td>Boeing 737-800||Airbus A220-100||Embraer 175 (...</td>\n",
       "      <td>13560||11340||7140</td>\n",
       "      <td>1419||1204||588</td>\n",
       "      <td>coach||coach||coach</td>\n",
       "      <td>9</td>\n",
       "      <td>1</td>\n",
       "      <td>9</td>\n",
       "      <td>16</td>\n",
       "    </tr>\n",
       "  </tbody>\n",
       "</table>\n",
       "<p>455587 rows × 31 columns</p>\n",
       "</div>"
      ],
      "text/plain": [
       "                                   legId searchDate flightDate  \\\n",
       "0       e95cef0009893d65558d17324e468aea 2022-06-01 2022-06-15   \n",
       "1       778d47d0785023302cd075d735d27db8 2022-08-11 2022-08-20   \n",
       "2       55ca7cc1d822f310963a25d84656bb47 2022-06-26 2022-07-01   \n",
       "3       598db4391eb0bc5752b09c871111a5ce 2022-05-14 2022-05-23   \n",
       "4       e09441b23c76e8a35be3acb61d8e3e95 2022-09-25 2022-10-13   \n",
       "...                                  ...        ...        ...   \n",
       "499995  cfd0ca3c7574a87f1ce1dfa83d1a053b 2022-07-02 2022-07-15   \n",
       "499996  3c671c288391b26e5888c84ef143424d 2022-05-04 2022-06-23   \n",
       "499997  2313cf9772214eaddf14651c8847eaeb 2022-08-14 2022-08-26   \n",
       "499998  9141b51058bfbdf9adc91abb2be9078c 2022-08-09 2022-09-06   \n",
       "499999  50e4a74280f144bb17fd1e93266c6d05 2022-09-01 2022-09-16   \n",
       "\n",
       "       startingAirport destinationAirport fareBasisCode travelDuration  \\\n",
       "0                  PHL                JFK      SUAJZNB3        PT5H17M   \n",
       "1                  CLT                ATL      TA7NA0MC          PT14H   \n",
       "2                  OAK                JFK      HA0NA0MC        PT8H13M   \n",
       "3                  BOS                EWR      QAA3OFEN        PT1H41M   \n",
       "4                  ATL                BOS      TAUNX0BC       PT10H32M   \n",
       "...                ...                ...           ...            ...   \n",
       "499995             LAX                CLT      HA7OA0MQ        PT9H10M   \n",
       "499996             CLT                LAX      UAVNA0MC       PT14H11M   \n",
       "499997             BOS                OAK      QAA0OHEN       PT11H11M   \n",
       "499998             EWR                SFO      L7AHZNN1        PT8H13M   \n",
       "499999             LGA                OAK      QAA4AHEN       PT12H19M   \n",
       "\n",
       "        elapsedDays  isBasicEconomy  isRefundable  ...  \\\n",
       "0                 0               1             0  ...   \n",
       "1                 1               0             0  ...   \n",
       "2                 0               0             0  ...   \n",
       "3                 0               0             0  ...   \n",
       "4                 0               1             0  ...   \n",
       "...             ...             ...           ...  ...   \n",
       "499995            1               0             0  ...   \n",
       "499996            0               0             0  ...   \n",
       "499997            0               0             0  ...   \n",
       "499998            0               0             0  ...   \n",
       "499999            0               0             0  ...   \n",
       "\n",
       "                         segmentsAirlineName  segmentsAirlineCode  \\\n",
       "0       American Airlines||American Airlines               AA||AA   \n",
       "1                        Delta||Delta||Delta           DL||DL||DL   \n",
       "2                               Delta||Delta               DL||DL   \n",
       "3                                     United                   UA   \n",
       "4                               Delta||Delta               DL||DL   \n",
       "...                                      ...                  ...   \n",
       "499995                          Delta||Delta               DL||DL   \n",
       "499996                   Delta||Delta||Delta           DL||DL||DL   \n",
       "499997                  United||Delta||Delta           UA||DL||DL   \n",
       "499998  American Airlines||American Airlines               AA||AA   \n",
       "499999                  United||Delta||Delta           UA||DL||DL   \n",
       "\n",
       "                             segmentsEquipmentDescription  \\\n",
       "0            Airbus A321||AIRBUS INDUSTRIE A321 SHARKLETS   \n",
       "1                 Boeing 717||Airbus A321||Boeing 737-900   \n",
       "2                       Embraer 175 (Enhanced Winglets)||   \n",
       "3                                             Airbus A319   \n",
       "4                         Boeing 737-900||Airbus A220-100   \n",
       "...                                                   ...   \n",
       "499995                            Airbus A321||Boeing 717   \n",
       "499996               Boeing 717||Airbus A321||Airbus A320   \n",
       "499997          Airbus A320||Airbus A319||Airbus A220-100   \n",
       "499998                     Boeing 737-800||Boeing 737-800   \n",
       "499999  Boeing 737-800||Airbus A220-100||Embraer 175 (...   \n",
       "\n",
       "        segmentsDurationInSeconds  segmentsDistance    segmentsCabinCode  \\\n",
       "0                      5160||4920          280||185         coach||coach   \n",
       "1                6480||4020||5220     505||241||434  coach||coach||coach   \n",
       "2                     5040||20040         338||2458         coach||coach   \n",
       "3                            6060               185                coach   \n",
       "4                      7800||5220          762||185         coach||coach   \n",
       "...                           ...               ...                  ...   \n",
       "499995                16020||6300         1985||505         coach||coach   \n",
       "499996          4020||8100||11760    228||725||1238  coach||coach||coach   \n",
       "499997         15180||11460||6780   1602||1204||588  coach||coach||coach   \n",
       "499998                9300||16740         720||1847         coach||coach   \n",
       "499999         13560||11340||7140   1419||1204||588  coach||coach||coach   \n",
       "\n",
       "       searchDate_month searchDate_day flightDate_month flightDate_day  \n",
       "0                     6              1                6             15  \n",
       "1                     8             11                8             20  \n",
       "2                     6             26                7              1  \n",
       "3                     5             14                5             23  \n",
       "4                     9             25               10             13  \n",
       "...                 ...            ...              ...            ...  \n",
       "499995                7              2                7             15  \n",
       "499996                5              4                6             23  \n",
       "499997                8             14                8             26  \n",
       "499998                8              9                9              6  \n",
       "499999                9              1                9             16  \n",
       "\n",
       "[455587 rows x 31 columns]"
      ]
     },
     "execution_count": 44,
     "metadata": {},
     "output_type": "execute_result"
    }
   ],
   "source": [
    "data"
   ]
  },
  {
   "cell_type": "markdown",
   "id": "2086c340",
   "metadata": {},
   "source": [
    "### Extracting duration of the flight in hours"
   ]
  },
  {
   "cell_type": "markdown",
   "id": "aea70443",
   "metadata": {},
   "source": [
    "Current format of the time is in as string form with other character, Eg: `PT5H17M` which is 5 hours and 17 mins. the time is extracted using regex and saved into a new `Flight_duration` column in hours."
   ]
  },
  {
   "cell_type": "code",
   "execution_count": 45,
   "id": "e14e3bfd",
   "metadata": {},
   "outputs": [
    {
     "data": {
      "text/plain": [
       "0          5.283333\n",
       "1         14.000000\n",
       "2          8.216667\n",
       "3          1.683333\n",
       "4         10.533333\n",
       "            ...    \n",
       "499995     9.166667\n",
       "499996    14.183333\n",
       "499997    11.183333\n",
       "499998     8.216667\n",
       "499999    12.316667\n",
       "Name: Flight_duration, Length: 455587, dtype: float64"
      ]
     },
     "execution_count": 45,
     "metadata": {},
     "output_type": "execute_result"
    }
   ],
   "source": [
    "def extract_travel_duration(dataFrame, columnName):\n",
    "    \"\"\"\n",
    "    Inputs:\n",
    "        df [Dataframe]: Dataframe on which the operation is performed\n",
    "        columnName [String]: The column which is being modified\n",
    "        \n",
    "    Output:\n",
    "        New Dataframe with the modified\n",
    "    \"\"\"\n",
    "    time_columns = pd.DataFrame()\n",
    "    hour_segment=r\"(\\d+)H\"\n",
    "    min_segment=r\"(\\d+)M\"\n",
    "    time_columns[\"Hour\"]=dataFrame[columnName].str.extract(hour_segment).fillna(0).astype(int)\n",
    "    time_columns[\"Min\"]=dataFrame[columnName].str.extract(min_segment).fillna(0).astype(int)\n",
    "    dataFrame[\"Flight_duration\"] = time_columns[\"Hour\"]+(time_columns[\"Min\"]/60)\n",
    "    return dataFrame\n",
    "    \n",
    "data=extract_travel_duration(data, \"travelDuration\")\n",
    "data[\"Flight_duration\"]"
   ]
  },
  {
   "cell_type": "markdown",
   "id": "8fe6b1cc",
   "metadata": {},
   "source": [
    "### Extract segments using regex "
   ]
  },
  {
   "cell_type": "markdown",
   "id": "a482d2b3",
   "metadata": {},
   "source": [
    "The data has many columns with data about different airports, airlines, etc., and the flights with layovers have all these data in the same column. We are using regular expressions to extract the different segments and separate them into different columns.\n",
    "\n",
    "For example: The airport codes `ATL||JFK` will be split into `ATL` and `JFK` and added under different columns."
   ]
  },
  {
   "cell_type": "code",
   "execution_count": 46,
   "id": "05504369",
   "metadata": {},
   "outputs": [],
   "source": [
    "def extractSegments(dataFrame, columnName):\n",
    "    \"\"\"\n",
    "    Inputs:\n",
    "        df [Dataframe]: Dataframe on which the operation is performed\n",
    "        columnName [String]: The column which is being modified\n",
    "        \n",
    "    Output:\n",
    "        New Dataframe with the modified\n",
    "    \"\"\"\n",
    "    #Pattern for seperating the segments\n",
    "    segmentPattern=r\"([^||]+)\"\n",
    "   \n",
    "    #Create new columns for the extracted segments\n",
    "    dataFrame[columnName+\"1\"]=dataFrame[columnName].str.findall(segmentPattern).str[0]\n",
    "    dataFrame[columnName+\"2\"]=dataFrame[columnName].str.findall(segmentPattern).str[1]\n",
    "    dataFrame[columnName+\"3\"]=dataFrame[columnName].str.findall(segmentPattern).str[2]\n",
    "    return dataFrame\n",
    "\n",
    "columnsWithSegments=[iterator for iterator in data if iterator.startswith('segments')]\n",
    "\n",
    "for i in columnsWithSegments:\n",
    "    data=extractSegments(data, i)"
   ]
  },
  {
   "cell_type": "markdown",
   "id": "b1a07a91",
   "metadata": {},
   "source": [
    "<hr style=\"border: 5px solid #003262;\" />\n",
    "<hr style=\"border: 1px solid #fdb515;\" />\n",
    "\n",
    "## Exploratory Data Analysis"
   ]
  },
  {
   "cell_type": "markdown",
   "id": "f58e53e5",
   "metadata": {},
   "source": [
    "### Distribution of Base Fare"
   ]
  },
  {
   "cell_type": "markdown",
   "id": "12e46488",
   "metadata": {},
   "source": [
    "We plot a histogram for base fare to see its distribution. This distribution helps us understand how the values are spread apart and helps find outliers present in the data. "
   ]
  },
  {
   "cell_type": "code",
   "execution_count": 47,
   "id": "94947167",
   "metadata": {},
   "outputs": [
    {
     "data": {
      "text/plain": [
       "Text(0.5, 1.0, 'Histogram of BasePrice column')"
      ]
     },
     "execution_count": 47,
     "metadata": {},
     "output_type": "execute_result"
    },
    {
     "data": {
      "image/png": "[encoded data removed]",
      "text/plain": [
       "<Figure size 864x648 with 1 Axes>"
      ]
     },
     "metadata": {
      "needs_background": "light"
     },
     "output_type": "display_data"
    }
   ],
   "source": [
    "sns.histplot(data['baseFare'],color=\"blue\",kde=True,label='baseFare')\n",
    "plt.title(\"Histogram of BasePrice column\")"
   ]
  },
  {
   "cell_type": "code",
   "execution_count": 48,
   "id": "0fadeb77",
   "metadata": {},
   "outputs": [
    {
     "data": {
      "text/plain": [
       "Text(0.5, 1.0, 'Histogram of Log Base Price')"
      ]
     },
     "execution_count": 48,
     "metadata": {},
     "output_type": "execute_result"
    },
    {
     "data": {
      "image/png": "[encoded data removed]",
      "text/plain": [
       "<Figure size 864x648 with 1 Axes>"
      ]
     },
     "metadata": {
      "needs_background": "light"
     },
     "output_type": "display_data"
    }
   ],
   "source": [
    "sns.histplot(np.log(data['baseFare']),color=\"blue\",kde=True)\n",
    "plt.xlabel(\"Log Base Fare\")\n",
    "plt.title(\"Histogram of Log Base Price\")"
   ]
  },
  {
   "cell_type": "markdown",
   "id": "3749e37a",
   "metadata": {},
   "source": [
    "From the plot it seems like most of the entries base price are in the range of **0-1500**. "
   ]
  },
  {
   "cell_type": "markdown",
   "id": "010d12e0",
   "metadata": {},
   "source": [
    "### Best Connected Airport (Airport with the highest traffic)"
   ]
  },
  {
   "cell_type": "markdown",
   "id": "936e1215",
   "metadata": {},
   "source": [
    "The best connected data will be the one which has the highest amount of traffic passing through it. The best connected airport will be found out using the arrival and departure data given in the dataframe.\n",
    "\n",
    "The layovers will have redundant data i.e., the airport will be repeated in the arrival and departure columns which will be taken into account."
   ]
  },
  {
   "cell_type": "code",
   "execution_count": 49,
   "id": "6b436762",
   "metadata": {},
   "outputs": [
    {
     "data": {
      "text/plain": [
       "ORD    96521\n",
       "ATL    87834\n",
       "CLT    87740\n",
       "LAX    87118\n",
       "BOS    81263\n",
       "dtype: int64"
      ]
     },
     "execution_count": 49,
     "metadata": {},
     "output_type": "execute_result"
    }
   ],
   "source": [
    "airportCodesSeries=data['segmentsArrivalAirportCode1'].append(data['segmentsArrivalAirportCode2']).append(data['segmentsArrivalAirportCode3']).append(data['segmentsDepartureAirportCode1'])\n",
    "airportCodesSeries.value_counts().head(5)"
   ]
  },
  {
   "cell_type": "code",
   "execution_count": 50,
   "id": "3a890954",
   "metadata": {},
   "outputs": [
    {
     "data": {
      "text/plain": [
       "Text(0, 0.5, 'Count')"
      ]
     },
     "execution_count": 50,
     "metadata": {},
     "output_type": "execute_result"
    },
    {
     "data": {
      "image/png": "[encoded data removed]",
      "text/plain": [
       "<Figure size 864x648 with 1 Axes>"
      ]
     },
     "metadata": {
      "needs_background": "light"
     },
     "output_type": "display_data"
    }
   ],
   "source": [
    "Height_plot=np.array(airportCodesSeries.value_counts().head(5))\n",
    "plt.bar(x=airportCodesSeries.value_counts().head(5).index,height=Height_plot,color=['orange', 'red', 'green', 'purple', 'pink'])\n",
    "plt.title(\"Top 5 best connected airports\")\n",
    "plt.xlabel(\"Airports\")\n",
    "plt.ylabel(\"Count\")"
   ]
  },
  {
   "cell_type": "markdown",
   "id": "3c446616",
   "metadata": {},
   "source": [
    "The **Chicago, IL O’Hare (ORD)** airport is the best connected airport meaning that the highest amount of domestic air traffic goes through this airport compared to other airports in the United States."
   ]
  },
  {
   "cell_type": "markdown",
   "id": "21b57ac7",
   "metadata": {},
   "source": [
    "### Fare price for different flight duration"
   ]
  },
  {
   "cell_type": "markdown",
   "id": "2133f9c4",
   "metadata": {},
   "source": [
    "Plotting a graph of Fare price vs flight duration will give an understanding of its trend and any correlation which might be present between the features."
   ]
  },
  {
   "cell_type": "code",
   "execution_count": 51,
   "id": "c0cf7248",
   "metadata": {},
   "outputs": [
    {
     "data": {
      "text/plain": [
       "Text(0.5, 1.0, 'Basefare vs Flight duration')"
      ]
     },
     "execution_count": 51,
     "metadata": {},
     "output_type": "execute_result"
    },
    {
     "data": {
      "image/png": "[encoded data removed]",
      "text/plain": [
       "<Figure size 864x648 with 1 Axes>"
      ]
     },
     "metadata": {
      "needs_background": "light"
     },
     "output_type": "display_data"
    }
   ],
   "source": [
    "sns.lineplot(x=data[\"Flight_duration\"], y=data[\"baseFare\"])\n",
    "plt.title(\"Basefare vs Flight duration\")"
   ]
  },
  {
   "cell_type": "code",
   "execution_count": 52,
   "id": "d2188d8f",
   "metadata": {},
   "outputs": [
    {
     "data": {
      "text/plain": [
       "(2.0, 15.0)"
      ]
     },
     "execution_count": 52,
     "metadata": {},
     "output_type": "execute_result"
    },
    {
     "data": {
      "image/png": "[encoded data removed]",
      "text/plain": [
       "<Figure size 864x648 with 1 Axes>"
      ]
     },
     "metadata": {
      "needs_background": "light"
     },
     "output_type": "display_data"
    }
   ],
   "source": [
    "sns.lineplot(x=data[\"Flight_duration\"], y=data[\"baseFare\"])\n",
    "plt.title(\"Basefare vs Flight duration\")\n",
    "plt.xlim([2, 15])"
   ]
  },
  {
   "cell_type": "markdown",
   "id": "366094f0",
   "metadata": {},
   "source": [
    "From the above plot there seems to be a **linear relationship** between flight duration and base fare in the range **2 to 15 hour** flights."
   ]
  },
  {
   "cell_type": "markdown",
   "id": "c1c5fcf1",
   "metadata": {},
   "source": [
    "### The minimum and average distance for which people prefer flights"
   ]
  },
  {
   "cell_type": "markdown",
   "id": "7926f874",
   "metadata": {},
   "source": [
    "The distance travelled in each travel is calculated using segmentDistance columns and so the distance for which people prefer flights can be analyzed."
   ]
  },
  {
   "cell_type": "code",
   "execution_count": 53,
   "id": "34052a1c",
   "metadata": {
    "scrolled": true
   },
   "outputs": [
    {
     "data": {
      "text/html": [
       "<div>\n",
       "<style scoped>\n",
       "    .dataframe tbody tr th:only-of-type {\n",
       "        vertical-align: middle;\n",
       "    }\n",
       "\n",
       "    .dataframe tbody tr th {\n",
       "        vertical-align: top;\n",
       "    }\n",
       "\n",
       "    .dataframe thead th {\n",
       "        text-align: right;\n",
       "    }\n",
       "</style>\n",
       "<table border=\"1\" class=\"dataframe\">\n",
       "  <thead>\n",
       "    <tr style=\"text-align: right;\">\n",
       "      <th></th>\n",
       "      <th>segmentsDistance</th>\n",
       "      <th>segmentsDistance1</th>\n",
       "      <th>segmentsDistance2</th>\n",
       "      <th>segmentsDistance3</th>\n",
       "    </tr>\n",
       "  </thead>\n",
       "  <tbody>\n",
       "    <tr>\n",
       "      <th>0</th>\n",
       "      <td>280||185</td>\n",
       "      <td>280</td>\n",
       "      <td>185</td>\n",
       "      <td>NaN</td>\n",
       "    </tr>\n",
       "    <tr>\n",
       "      <th>1</th>\n",
       "      <td>505||241||434</td>\n",
       "      <td>505</td>\n",
       "      <td>241</td>\n",
       "      <td>434</td>\n",
       "    </tr>\n",
       "    <tr>\n",
       "      <th>2</th>\n",
       "      <td>338||2458</td>\n",
       "      <td>338</td>\n",
       "      <td>2458</td>\n",
       "      <td>NaN</td>\n",
       "    </tr>\n",
       "    <tr>\n",
       "      <th>3</th>\n",
       "      <td>185</td>\n",
       "      <td>185</td>\n",
       "      <td>NaN</td>\n",
       "      <td>NaN</td>\n",
       "    </tr>\n",
       "    <tr>\n",
       "      <th>4</th>\n",
       "      <td>762||185</td>\n",
       "      <td>762</td>\n",
       "      <td>185</td>\n",
       "      <td>NaN</td>\n",
       "    </tr>\n",
       "    <tr>\n",
       "      <th>...</th>\n",
       "      <td>...</td>\n",
       "      <td>...</td>\n",
       "      <td>...</td>\n",
       "      <td>...</td>\n",
       "    </tr>\n",
       "    <tr>\n",
       "      <th>499995</th>\n",
       "      <td>1985||505</td>\n",
       "      <td>1985</td>\n",
       "      <td>505</td>\n",
       "      <td>NaN</td>\n",
       "    </tr>\n",
       "    <tr>\n",
       "      <th>499996</th>\n",
       "      <td>228||725||1238</td>\n",
       "      <td>228</td>\n",
       "      <td>725</td>\n",
       "      <td>1238</td>\n",
       "    </tr>\n",
       "    <tr>\n",
       "      <th>499997</th>\n",
       "      <td>1602||1204||588</td>\n",
       "      <td>1602</td>\n",
       "      <td>1204</td>\n",
       "      <td>588</td>\n",
       "    </tr>\n",
       "    <tr>\n",
       "      <th>499998</th>\n",
       "      <td>720||1847</td>\n",
       "      <td>720</td>\n",
       "      <td>1847</td>\n",
       "      <td>NaN</td>\n",
       "    </tr>\n",
       "    <tr>\n",
       "      <th>499999</th>\n",
       "      <td>1419||1204||588</td>\n",
       "      <td>1419</td>\n",
       "      <td>1204</td>\n",
       "      <td>588</td>\n",
       "    </tr>\n",
       "  </tbody>\n",
       "</table>\n",
       "<p>455587 rows × 4 columns</p>\n",
       "</div>"
      ],
      "text/plain": [
       "       segmentsDistance segmentsDistance1 segmentsDistance2 segmentsDistance3\n",
       "0              280||185               280               185               NaN\n",
       "1         505||241||434               505               241               434\n",
       "2             338||2458               338              2458               NaN\n",
       "3                   185               185               NaN               NaN\n",
       "4              762||185               762               185               NaN\n",
       "...                 ...               ...               ...               ...\n",
       "499995        1985||505              1985               505               NaN\n",
       "499996   228||725||1238               228               725              1238\n",
       "499997  1602||1204||588              1602              1204               588\n",
       "499998        720||1847               720              1847               NaN\n",
       "499999  1419||1204||588              1419              1204               588\n",
       "\n",
       "[455587 rows x 4 columns]"
      ]
     },
     "execution_count": 53,
     "metadata": {},
     "output_type": "execute_result"
    }
   ],
   "source": [
    "data.loc[:,['segmentsDistance','segmentsDistance1', 'segmentsDistance2', 'segmentsDistance3']]"
   ]
  },
  {
   "cell_type": "code",
   "execution_count": 54,
   "id": "c4b9ec60",
   "metadata": {},
   "outputs": [],
   "source": [
    "data['segmentsDistance1']=data['segmentsDistance1'].fillna(0).astype(int)\n",
    "data['segmentsDistance2']=data['segmentsDistance2'].fillna(0).astype(int)\n",
    "data['segmentsDistance3']=data['segmentsDistance3'].fillna(0).astype(int)\n",
    "data['totalDistance']=data['segmentsDistance1']+data['segmentsDistance2']+data['segmentsDistance3']"
   ]
  },
  {
   "cell_type": "code",
   "execution_count": 55,
   "id": "76086ce3",
   "metadata": {},
   "outputs": [
    {
     "data": {
      "text/plain": [
       "(count    455587.000000\n",
       " mean       1625.940648\n",
       " std         855.455409\n",
       " min          89.000000\n",
       " 25%         903.000000\n",
       " 50%        1482.000000\n",
       " 75%        2426.000000\n",
       " max        4498.000000\n",
       " Name: totalDistance, dtype: float64,\n",
       " 1482.0)"
      ]
     },
     "execution_count": 55,
     "metadata": {},
     "output_type": "execute_result"
    }
   ],
   "source": [
    "data['totalDistance'].describe(), data['totalDistance'].median()"
   ]
  },
  {
   "cell_type": "markdown",
   "id": "7d650136",
   "metadata": {},
   "source": [
    "The minimum distance travelled using domestic flights is **89 miles** and a median distance covered by domestic flights is **1482 miles**."
   ]
  },
  {
   "cell_type": "markdown",
   "id": "e73c28f5",
   "metadata": {},
   "source": [
    "### Average number of seats remaining in each airlines"
   ]
  },
  {
   "cell_type": "markdown",
   "id": "f17129ec",
   "metadata": {},
   "source": [
    "Seats remaining per flight gives a clear picture on which airlines has most seats unbooked, intern gives a clear picture on which airlines has more seats booked.\n",
    "\n",
    "Average Seat Remaining column will provide the average seat remaining with respect to the total flight booking."
   ]
  },
  {
   "cell_type": "code",
   "execution_count": 56,
   "id": "abdfec04",
   "metadata": {},
   "outputs": [
    {
     "data": {
      "text/html": [
       "<div>\n",
       "<style scoped>\n",
       "    .dataframe tbody tr th:only-of-type {\n",
       "        vertical-align: middle;\n",
       "    }\n",
       "\n",
       "    .dataframe tbody tr th {\n",
       "        vertical-align: top;\n",
       "    }\n",
       "\n",
       "    .dataframe thead th {\n",
       "        text-align: right;\n",
       "    }\n",
       "</style>\n",
       "<table border=\"1\" class=\"dataframe\">\n",
       "  <thead>\n",
       "    <tr style=\"text-align: right;\">\n",
       "      <th></th>\n",
       "      <th>segmentsAirlineName1</th>\n",
       "      <th>seatsRemaining</th>\n",
       "      <th>averageSeatsRemaining</th>\n",
       "    </tr>\n",
       "  </thead>\n",
       "  <tbody>\n",
       "    <tr>\n",
       "      <th>1</th>\n",
       "      <td>American Airlines</td>\n",
       "      <td>892833</td>\n",
       "      <td>2.0</td>\n",
       "    </tr>\n",
       "    <tr>\n",
       "      <th>5</th>\n",
       "      <td>Delta</td>\n",
       "      <td>874055</td>\n",
       "      <td>2.0</td>\n",
       "    </tr>\n",
       "    <tr>\n",
       "      <th>11</th>\n",
       "      <td>United</td>\n",
       "      <td>716045</td>\n",
       "      <td>2.0</td>\n",
       "    </tr>\n",
       "    <tr>\n",
       "      <th>7</th>\n",
       "      <td>JetBlue Airways</td>\n",
       "      <td>265087</td>\n",
       "      <td>1.0</td>\n",
       "    </tr>\n",
       "    <tr>\n",
       "      <th>0</th>\n",
       "      <td>Alaska Airlines</td>\n",
       "      <td>138644</td>\n",
       "      <td>0.0</td>\n",
       "    </tr>\n",
       "    <tr>\n",
       "      <th>6</th>\n",
       "      <td>Frontier Airlines</td>\n",
       "      <td>21910</td>\n",
       "      <td>0.0</td>\n",
       "    </tr>\n",
       "    <tr>\n",
       "      <th>8</th>\n",
       "      <td>Key Lime Air</td>\n",
       "      <td>1174</td>\n",
       "      <td>0.0</td>\n",
       "    </tr>\n",
       "    <tr>\n",
       "      <th>10</th>\n",
       "      <td>Sun Country Airlines</td>\n",
       "      <td>891</td>\n",
       "      <td>0.0</td>\n",
       "    </tr>\n",
       "    <tr>\n",
       "      <th>9</th>\n",
       "      <td>Southern Airways Express</td>\n",
       "      <td>788</td>\n",
       "      <td>0.0</td>\n",
       "    </tr>\n",
       "    <tr>\n",
       "      <th>2</th>\n",
       "      <td>Boutique Air</td>\n",
       "      <td>288</td>\n",
       "      <td>0.0</td>\n",
       "    </tr>\n",
       "    <tr>\n",
       "      <th>3</th>\n",
       "      <td>Cape Air</td>\n",
       "      <td>258</td>\n",
       "      <td>0.0</td>\n",
       "    </tr>\n",
       "    <tr>\n",
       "      <th>4</th>\n",
       "      <td>Contour Airlines</td>\n",
       "      <td>20</td>\n",
       "      <td>0.0</td>\n",
       "    </tr>\n",
       "  </tbody>\n",
       "</table>\n",
       "</div>"
      ],
      "text/plain": [
       "        segmentsAirlineName1  seatsRemaining  averageSeatsRemaining\n",
       "1          American Airlines          892833                    2.0\n",
       "5                      Delta          874055                    2.0\n",
       "11                    United          716045                    2.0\n",
       "7            JetBlue Airways          265087                    1.0\n",
       "0            Alaska Airlines          138644                    0.0\n",
       "6          Frontier Airlines           21910                    0.0\n",
       "8               Key Lime Air            1174                    0.0\n",
       "10      Sun Country Airlines             891                    0.0\n",
       "9   Southern Airways Express             788                    0.0\n",
       "2               Boutique Air             288                    0.0\n",
       "3                   Cape Air             258                    0.0\n",
       "4           Contour Airlines              20                    0.0"
      ]
     },
     "execution_count": 56,
     "metadata": {},
     "output_type": "execute_result"
    }
   ],
   "source": [
    "dataSegment1 = data.groupby('segmentsAirlineName1', as_index=False)['seatsRemaining'].sum()\n",
    "dataSegment2 = data.groupby('segmentsAirlineName1', as_index=False)['seatsRemaining'].sum()\n",
    "dataSegment2['averageSeatsRemaining'] = (dataSegment1['seatsRemaining']/len(data.index)).round(2)\n",
    "dataSegment2 = dataSegment2.sort_values(by = 'seatsRemaining', ascending = True)\n",
    "dataSegment1['averageSeatsRemaining'] = (dataSegment1['seatsRemaining']/len(data.index)).round(0)\n",
    "dataSegment1 = dataSegment1.sort_values(by = 'seatsRemaining', ascending = False)\n",
    "dataSegment1"
   ]
  },
  {
   "cell_type": "markdown",
   "id": "657ae2f4",
   "metadata": {},
   "source": [
    "The barplot below depicts seat remaining status for the specific airlines.\n",
    "\n",
    "**American airlines** has the most number of seats remaining. "
   ]
  },
  {
   "cell_type": "code",
   "execution_count": 57,
   "id": "133cf8b5",
   "metadata": {},
   "outputs": [
    {
     "data": {
      "text/plain": [
       "Text(0, 0.5, 'Airlines Name')"
      ]
     },
     "execution_count": 57,
     "metadata": {},
     "output_type": "execute_result"
    },
    {
     "data": {
      "image/png": "[encoded data removed]",
      "text/plain": [
       "<Figure size 864x648 with 1 Axes>"
      ]
     },
     "metadata": {
      "needs_background": "light"
     },
     "output_type": "display_data"
    }
   ],
   "source": [
    "plt.barh(y=dataSegment2['segmentsAirlineName1'], width=dataSegment2['averageSeatsRemaining'])\n",
    "plt.title('Seats remaining status for the airlines')\n",
    "plt.xlabel('Average Seats Remaining')\n",
    "plt.ylabel('Airlines Name')"
   ]
  },
  {
   "cell_type": "markdown",
   "id": "f1f7c78f",
   "metadata": {},
   "source": [
    "### Top 5 popular airlines "
   ]
  },
  {
   "cell_type": "markdown",
   "id": "079ca470",
   "metadata": {},
   "source": [
    "Popular airlines can be decided by the number of times the particular airlines is repeated in the booking. This gives the exact demographics of the airlines that is popular among the people taking flights."
   ]
  },
  {
   "cell_type": "code",
   "execution_count": 58,
   "id": "f4b2f1ac",
   "metadata": {},
   "outputs": [
    {
     "data": {
      "text/plain": [
       "American Airlines    413094\n",
       "Delta                346429\n",
       "United               333000\n",
       "JetBlue Airways       99124\n",
       "Alaska Airlines       76781\n",
       "dtype: int64"
      ]
     },
     "execution_count": 58,
     "metadata": {},
     "output_type": "execute_result"
    }
   ],
   "source": [
    "airlineName=data['segmentsAirlineName1'].append(data['segmentsAirlineName2']).append(data['segmentsAirlineName3']).append(data['segmentsAirlineName1'])\n",
    "airlineName = airlineName.value_counts().head(5)\n",
    "airlineName"
   ]
  },
  {
   "cell_type": "code",
   "execution_count": 59,
   "id": "75917149",
   "metadata": {
    "scrolled": true
   },
   "outputs": [
    {
     "data": {
      "text/plain": [
       "Text(0, 0.5, 'Airlines Count')"
      ]
     },
     "execution_count": 59,
     "metadata": {},
     "output_type": "execute_result"
    },
    {
     "data": {
      "image/png": "[encoded data removed]",
      "text/plain": [
       "<Figure size 864x648 with 1 Axes>"
      ]
     },
     "metadata": {
      "needs_background": "light"
     },
     "output_type": "display_data"
    }
   ],
   "source": [
    "Height_plot=np.array(airlineName)\n",
    "plt.bar(x=airlineName.index,height=Height_plot)\n",
    "plt.title('Popular Airlines')\n",
    "plt.xlabel('Airlines Name')\n",
    "plt.ylabel('Airlines Count')"
   ]
  },
  {
   "cell_type": "markdown",
   "id": "8968dfc7",
   "metadata": {},
   "source": [
    "Above plot shows the popular 5 airlines with the total number of times that particular airlines is repeating.\n",
    "\n",
    "**American airlines** is the most prefered airlines for the local travel among the individuals who take flights."
   ]
  },
  {
   "cell_type": "markdown",
   "id": "eddaa412",
   "metadata": {},
   "source": [
    "According to the previous analysis American Airlines is both the most popular and the one with most number of seats remaining. This intern says that seats remaining and number of times the airlines is repeating are correlated."
   ]
  },
  {
   "cell_type": "markdown",
   "id": "483db563",
   "metadata": {},
   "source": [
    "<hr style=\"border: 5px solid #003262;\" />\n",
    "<hr style=\"border: 1px solid #fdb515;\" />\n",
    "\n",
    "## Prediction of fare"
   ]
  },
  {
   "cell_type": "markdown",
   "id": "01a542ee",
   "metadata": {},
   "source": [
    "### Feature engineering"
   ]
  },
  {
   "cell_type": "markdown",
   "id": "4a799845",
   "metadata": {},
   "source": [
    "### One hot encoding for categorical data"
   ]
  },
  {
   "cell_type": "markdown",
   "id": "5f2b5c89",
   "metadata": {},
   "source": [
    "The categorical data present cannot be used directly in the prediction as they do not contain measurable data. The data is hence converted into features using `OneHotEncoder` from `sklearn`.\n",
    "\n",
    "The columns identified to be OneHotEncoded are:\n",
    "`startingAirport`, `destinationAirport`, `segmentsArrivalAirportCode`, `segmentsDepartureAirportCode`, `segmentsAirlineName`, `segmentsAirlineCode`, `segmentsCabinCode`.\n",
    "\n",
    "In these columns, `segmentsAirlineName` and `segmentsAirlineCode` convey the same information and therefore redundant. One of the 2 columns is suffiecient and we have chosen `segmentsAirlineCode`.\n",
    "\n",
    "The data of `startingAirport` and `destinationAirport` are already included in `segmentsArrivalAirportCode` and `segmentsDepartureAirportCode` and so are redundant information."
   ]
  },
  {
   "cell_type": "code",
   "execution_count": 60,
   "id": "36eb89b5",
   "metadata": {},
   "outputs": [],
   "source": [
    "from sklearn.preprocessing import OneHotEncoder"
   ]
  },
  {
   "cell_type": "code",
   "execution_count": 61,
   "id": "dc89758b",
   "metadata": {},
   "outputs": [],
   "source": [
    "def oheCabinCodeColumns(oheData):\n",
    "    \"\"\"\n",
    "        Inputs:\n",
    "            oheData [Dataframe]: Dataframe on which the operation is performed\n",
    "        \n",
    "        Output:\n",
    "            Dataframe with the OneHotEncoded features from the column 'segmentsCabinCode'\n",
    "    \"\"\"\n",
    "    \n",
    "    #columnName is the column to be OneHotEncoded\n",
    "    columnName='segmentsCabinCode'\n",
    "    \n",
    "    #The column 'segmentsCabinCode' has been split into 3 different columns (the layover data) and so all the 3 columns have to be OneHotEncoded\n",
    "    oneHotEnc = OneHotEncoder(dtype=int, handle_unknown='ignore')\n",
    "    oheDataColumn3 = oneHotEnc.fit_transform(oheData[[columnName+'3']]).toarray()\n",
    "    numberOfColumns3=np.shape(oheDataColumn3)[1]\n",
    "    oheDataColumn2 = oneHotEnc.fit_transform(oheData[[columnName+'2']]).toarray()\n",
    "    numberOfColumns2=np.shape(oheDataColumn2)[1]\n",
    "    oheDataColumn1 = oneHotEnc.fit_transform(oheData[[columnName+'1']]).toarray()\n",
    "    numberOfColumns1=np.shape(oheDataColumn1)[1]\n",
    "    \n",
    "    #The minimum number of columns are selected because the segment2 and segment3 have NaNs which are absent in segment1 and also unnecessary to the prediction\n",
    "    numberOfColumns=min(numberOfColumns3, numberOfColumns2, numberOfColumns1)\n",
    "    \n",
    "    #The OR operation is done as the features from the 3 columns are the data of the same categories and so a common set of columns for all the 3 segments will suffice\n",
    "    oheData[oneHotEnc.categories_[0]] = oheDataColumn1[:,:numberOfColumns] | oheDataColumn2[:,:numberOfColumns] | oheDataColumn3[:,:numberOfColumns]\n",
    "    return oheData"
   ]
  },
  {
   "cell_type": "code",
   "execution_count": 62,
   "id": "6603d8b8",
   "metadata": {},
   "outputs": [],
   "source": [
    "def oheSegmentsAirportCode_AirlineName(oheData, columnName):\n",
    "    \"\"\"\n",
    "        Inputs:\n",
    "            oheData [Dataframe]: Dataframe on which the operation is performed\n",
    "            columnName [String]: The column name (only the ones mentioned below) of the column to be OneHotEncoded\n",
    "                                 Acceptable columnNames are 'segmentsArrivalAirportCode', 'segmentsDepartureAirportCode', or 'segmentsAirlineCode'\n",
    "        \n",
    "        Output:\n",
    "            Dataframe with the OneHotEncoded features from the column columnName\n",
    "    \"\"\"\n",
    "\n",
    "    oneHotEnc = OneHotEncoder(dtype=int, handle_unknown='ignore')\n",
    "    \n",
    "    #The acceptable columnName columns have been split into 3 different columns (the layover data) and so all the 3 columns have to be OneHotEncoded\n",
    "    #dfIntermediate dataframes are to get the features of each of the segments individually\n",
    "    dfIntermediate3=pd.DataFrame()\n",
    "    dfIntermediate2=pd.DataFrame()\n",
    "    dfIntermediate1=pd.DataFrame()\n",
    "    oheDataColumn3 = oneHotEnc.fit_transform(oheData[[columnName+'3']]).toarray()\n",
    "    dfIntermediate3[oneHotEnc.categories_[0]]=oheDataColumn3\n",
    "    oheDataColumn2 = oneHotEnc.fit_transform(oheData[[columnName+'2']]).toarray()\n",
    "    dfIntermediate2[oneHotEnc.categories_[0]]=oheDataColumn2\n",
    "    oheDataColumn1 = oneHotEnc.fit_transform(oheData[[columnName+'1']]).toarray()\n",
    "    dfIntermediate1[oneHotEnc.categories_[0]]=oheDataColumn1\n",
    "    \n",
    "    #The OR operation is done as the features from the 3 columns are the data of the same categories and so a common set of columns for all the 3 segments will suffice\n",
    "    dfIntermediate = (dfIntermediate3 | dfIntermediate2 | dfIntermediate1)\n",
    "    \n",
    "    #Dropping the feature NaN\n",
    "    dfIntermediate = dfIntermediate.loc[:, dfIntermediate.columns.notna()]\n",
    "    \n",
    "    #Adding columnName as the prefix to the features to differentiate between the arrival and departure data\n",
    "    dfIntermediate.columns=[columnName+'_'+iterator for iterator in dfIntermediate.columns]\n",
    "    \n",
    "    oheData[dfIntermediate.columns] = dfIntermediate\n",
    "    \n",
    "    #Replacing NaNs with 0\n",
    "    oheData[dfIntermediate.columns] = oheData[dfIntermediate.columns].fillna(0).astype(int)\n",
    "    return oheData"
   ]
  },
  {
   "cell_type": "markdown",
   "id": "900cbbb6",
   "metadata": {},
   "source": [
    "The categorical data have been coverted into features to be used in the prediction."
   ]
  },
  {
   "cell_type": "markdown",
   "id": "293e73ed",
   "metadata": {},
   "source": [
    "### Pipeline function"
   ]
  },
  {
   "cell_type": "code",
   "execution_count": 63,
   "id": "6f5dd033",
   "metadata": {},
   "outputs": [],
   "source": [
    "def process_data_gm(data, pipeline_functions):\n",
    "    \"\"\"Process the data for a guided model.\"\"\"\n",
    "    for function, arguments, keyword_arguments in pipeline_functions:\n",
    "        if keyword_arguments and (not arguments):\n",
    "            data = data.pipe(function, **keyword_arguments)\n",
    "        elif (not keyword_arguments) and (arguments):\n",
    "            data = data.pipe(function, *arguments)\n",
    "        else:\n",
    "            data = data.pipe(function)\n",
    "    return data\n",
    "\n",
    "def drop_columns(data, *col):\n",
    "    \"\"\"Drop columns passed as arguments.\"\"\"\n",
    "    return data.drop(list(col),axis=1)\n",
    "def select_columns(data, *columns):\n",
    "    \"\"\"Select only columns passed as arguments.\"\"\"\n",
    "    return data.loc[:, columns]\n",
    "#(select_columns, ['Log baseFare','totalTravelDistance','isBasicEconomy', 'isRefundable', 'isNonStop','Flight_duration' ], None)"
   ]
  },
  {
   "cell_type": "code",
   "execution_count": 64,
   "id": "53703c80",
   "metadata": {},
   "outputs": [],
   "source": [
    "data_test=data.copy()"
   ]
  },
  {
   "cell_type": "code",
   "execution_count": 65,
   "id": "ae025767",
   "metadata": {},
   "outputs": [],
   "source": [
    "#processing the data on Feature engineering functions\n",
    "def log_transform(data, col):\n",
    "    data['Log ' + col] = np.log(data[col])\n",
    "    return data\n",
    "\n",
    "pipelines = [\n",
    "    (log_transform, None, {'col': 'baseFare'}),\n",
    "    #(select_columns, ['Log baseFare','totalTravelDistance','isBasicEconomy', 'isRefundable', 'isNonStop','Flight_duration' ], None),\n",
    "    (oheCabinCodeColumns, None, None),\n",
    "    (oheSegmentsAirportCode_AirlineName, None, {'columnName':'segmentsArrivalAirportCode'}),    \n",
    "    (oheSegmentsAirportCode_AirlineName, None, {'columnName':'segmentsDepartureAirportCode'}),    \n",
    "    (oheSegmentsAirportCode_AirlineName, None, {'columnName':'segmentsAirlineCode'}),    \n",
    "    (drop_columns, ['legId', 'searchDate', 'flightDate','startingAirport','baseFare',\n",
    "       'destinationAirport', 'fareBasisCode', 'travelDuration', \n",
    "       'totalFare', 'segmentsDepartureTimeEpochSeconds', 'segmentsDepartureTimeRaw',\n",
    "       'segmentsArrivalTimeEpochSeconds', 'segmentsArrivalTimeRaw',\n",
    "       'segmentsArrivalAirportCode', 'segmentsDepartureAirportCode',\n",
    "       'segmentsAirlineName', 'segmentsAirlineCode',\n",
    "       'segmentsEquipmentDescription', 'segmentsDurationInSeconds',\n",
    "       'segmentsDistance', 'segmentsCabinCode','segmentsDepartureTimeRaw1','segmentsDepartureTimeRaw2','segmentsDepartureTimeRaw3',\n",
    "        'segmentsArrivalTimeRaw1','segmentsArrivalTimeRaw2',\n",
    "       'segmentsArrivalTimeRaw3', 'segmentsArrivalAirportCode1',\n",
    "       'segmentsArrivalAirportCode2', 'segmentsArrivalAirportCode3',\n",
    "       'segmentsDepartureAirportCode1', 'segmentsDepartureAirportCode2',\n",
    "       'segmentsDepartureAirportCode3', 'segmentsAirlineName1',\n",
    "       'segmentsAirlineName2', 'segmentsAirlineName3', 'segmentsAirlineCode1',\n",
    "       'segmentsAirlineCode2', 'segmentsAirlineCode3',\n",
    "       'segmentsEquipmentDescription1', 'segmentsEquipmentDescription2',\n",
    "       'segmentsEquipmentDescription3','segmentsCabinCode1', 'segmentsCabinCode2', 'segmentsCabinCode3'], None)\n",
    "]"
   ]
  },
  {
   "cell_type": "code",
   "execution_count": 66,
   "id": "fffc48a8",
   "metadata": {},
   "outputs": [],
   "source": [
    "data_test = process_data_gm(data_test, pipelines)"
   ]
  },
  {
   "cell_type": "code",
   "execution_count": 67,
   "id": "d2d4da8f",
   "metadata": {},
   "outputs": [
    {
     "data": {
      "text/plain": [
       "int32      393\n",
       "int64        9\n",
       "float64      3\n",
       "dtype: int64"
      ]
     },
     "execution_count": 67,
     "metadata": {},
     "output_type": "execute_result"
    }
   ],
   "source": [
    "data_test.loc[:,['segmentsDepartureTimeEpochSeconds1',\n",
    "       'segmentsDepartureTimeEpochSeconds2',\n",
    "       'segmentsDepartureTimeEpochSeconds3',\n",
    "       'segmentsArrivalTimeEpochSeconds1', 'segmentsArrivalTimeEpochSeconds2',\n",
    "       'segmentsArrivalTimeEpochSeconds3', 'segmentsDurationInSeconds1',\n",
    "       'segmentsDurationInSeconds2', 'segmentsDurationInSeconds3']]=data_test.loc[:,['segmentsDepartureTimeEpochSeconds1',\n",
    "       'segmentsDepartureTimeEpochSeconds2',\n",
    "       'segmentsDepartureTimeEpochSeconds3',\n",
    "       'segmentsArrivalTimeEpochSeconds1', 'segmentsArrivalTimeEpochSeconds2',\n",
    "       'segmentsArrivalTimeEpochSeconds3', 'segmentsDurationInSeconds1',\n",
    "       'segmentsDurationInSeconds2', 'segmentsDurationInSeconds3']].fillna(0).astype(int)\n",
    "data_test.dtypes.value_counts()"
   ]
  },
  {
   "cell_type": "markdown",
   "id": "07e443ad",
   "metadata": {},
   "source": [
    "### Splitting data for testing, training and validation"
   ]
  },
  {
   "cell_type": "markdown",
   "id": "d6714e6c",
   "metadata": {},
   "source": [
    "We are splitting the data into three segments for testing, training and validation in the proportion of 8:1:1."
   ]
  },
  {
   "cell_type": "code",
   "execution_count": 68,
   "id": "e364a776",
   "metadata": {},
   "outputs": [
    {
     "name": "stdout",
     "output_type": "stream",
     "text": [
      "(364469, 404)\n",
      "(364469,)\n",
      "(45559, 404)\n",
      "(45559,)\n",
      "(45559, 404)\n",
      "(45559,)\n"
     ]
    },
    {
     "data": {
      "text/plain": [
       "(None, None)"
      ]
     },
     "execution_count": 68,
     "metadata": {},
     "output_type": "execute_result"
    }
   ],
   "source": [
    "from sklearn.model_selection import train_test_split\n",
    "\n",
    "# Let's say we want to split the data in 80:10:10 for train:valid:test dataset\n",
    "train_size=0.8\n",
    "\n",
    "X = data_test.drop(columns = ['Log baseFare']).copy()\n",
    "y = data_test['Log baseFare']\n",
    "\n",
    "# In the first step we will split the data in training and remaining dataset\n",
    "X_train, X_rem, y_train, y_rem = train_test_split(X,y, train_size=0.8)\n",
    "\n",
    "# Now since we want the valid and test size to be equal (10% each of overall data). \n",
    "# we have to define valid_size=0.5 (that is 50% of remaining data)\n",
    "test_size = 0.5\n",
    "X_valid, X_test, y_valid, y_test = train_test_split(X_rem,y_rem, test_size=0.5)\n",
    "print(X_train.shape), print(y_train.shape)\n",
    "print(X_valid.shape), print(y_valid.shape)\n",
    "print(X_test.shape), print(y_test.shape)"
   ]
  },
  {
   "cell_type": "markdown",
   "id": "f330f88d",
   "metadata": {},
   "source": [
    "### Prediction using Linear Regression without L2 Regularziation"
   ]
  },
  {
   "cell_type": "code",
   "execution_count": 70,
   "id": "cef53259",
   "metadata": {},
   "outputs": [],
   "source": [
    "from sklearn import linear_model as lm\n",
    "\n",
    "linear_model = lm.LinearRegression(fit_intercept=True) # creating the linear model"
   ]
  },
  {
   "cell_type": "code",
   "execution_count": 71,
   "id": "a3d603de",
   "metadata": {},
   "outputs": [
    {
     "data": {
      "text/plain": [
       "(0.5066054874293685, 0.510097299444283)"
      ]
     },
     "execution_count": 71,
     "metadata": {},
     "output_type": "execute_result"
    }
   ],
   "source": [
    "y_fitted = linear_model.fit(X_train, y_train) #fitting the model on x_train, y_train\n",
    "y_predicted_test = linear_model.predict(X_test) # prediction using x_train\n",
    "y_predicted_train = linear_model.predict(X_train) # prediction using X_train\n",
    "\n",
    "#linear_model.coef_\n",
    "linear_model.score(X_train, y_train), linear_model.score(X_test, y_test)"
   ]
  },
  {
   "cell_type": "markdown",
   "id": "a30a8c93",
   "metadata": {},
   "source": [
    "### Prediction with L2 Regularziation"
   ]
  },
  {
   "cell_type": "markdown",
   "id": "74f4355d",
   "metadata": {},
   "source": [
    "In this model we will be adding Regulariziation to combat overfitting if present"
   ]
  },
  {
   "cell_type": "code",
   "execution_count": 72,
   "id": "9e49c369",
   "metadata": {},
   "outputs": [],
   "source": [
    "from sklearn.linear_model import Ridge\n",
    "\n",
    "ridge_model = Ridge(alpha = 100) # creating the Regularized model"
   ]
  },
  {
   "cell_type": "code",
   "execution_count": 76,
   "id": "61c602d5",
   "metadata": {},
   "outputs": [
    {
     "data": {
      "text/plain": [
       "0.5093436587002642"
      ]
     },
     "execution_count": 76,
     "metadata": {},
     "output_type": "execute_result"
    }
   ],
   "source": [
    "y_fitted_l2= ridge_model.fit(X_train, y_train) #fitting the model on x_train, y_train\n",
    "y_predicted_l2_test = ridge_model.predict(X_test)# prediction using x_train\n",
    "ridge_model.score(X_test, y_test)\n",
    "#ridge_model.coef_"
   ]
  },
  {
   "cell_type": "markdown",
   "id": "35a6e146",
   "metadata": {},
   "source": [
    "<hr style=\"border: 5px solid #003262;\" />\n",
    "<hr style=\"border: 1px solid #fdb515;\" />\n",
    "\n",
    "## Validation of model"
   ]
  },
  {
   "cell_type": "markdown",
   "id": "e4f7e21e",
   "metadata": {},
   "source": [
    "### RMSE Value"
   ]
  },
  {
   "cell_type": "markdown",
   "id": "6fa39779",
   "metadata": {},
   "source": [
    "Let's compare the performance of Linear regression models using the Root Mean Squared Error function:\n",
    "\n",
    "$$RMSE = \\sqrt{\\dfrac{\\sum_{\\text{basefare in test set}}(\\text{actual basefare} - \\text{predicted basefare})^2}{\\text{Total number of routes}}}$$\n",
    "\n",
    "The function is provided below."
   ]
  },
  {
   "cell_type": "code",
   "execution_count": 74,
   "id": "e2ac715c",
   "metadata": {},
   "outputs": [],
   "source": [
    "def rmse(predicted, actual):\n",
    "    \"\"\"\n",
    "    Calculates RMSE from actual and predicted values\n",
    "    Input:\n",
    "      predicted (1D array): vector of predicted/fitted values\n",
    "      actual (1D array): vector of actual values\n",
    "    Output:\n",
    "      a float, the root-mean square error\n",
    "    \"\"\"\n",
    "    return np.sqrt(np.mean((actual - predicted)**2))"
   ]
  },
  {
   "cell_type": "code",
   "execution_count": 75,
   "id": "75a1d702",
   "metadata": {},
   "outputs": [
    {
     "name": "stdout",
     "output_type": "stream",
     "text": [
      "With Log transform\n",
      "Training RMSE: 0.4061921874690423\n",
      "Test RMSE: 0.4046767779180205\n",
      "Validation RMSE: 0.4057775665019787\n",
      "\n",
      "Without Log transform\n",
      "Training RMSE: $133.45\n",
      "Test RMSE: $131.64\n",
      "Validation RMSE: $133.06\n",
      "\n"
     ]
    }
   ],
   "source": [
    "# Training and test errors for the Train and test set\n",
    "training_error = rmse(y_predicted_train, y_train)\n",
    "test_error = rmse(y_predicted_test, y_test)\n",
    "val_error = rmse(linear_model.predict(X_valid), y_valid)\n",
    "\n",
    "# Training and test errors (in its original values before the log transform)\n",
    "training_error_delog = rmse(np.exp(y_predicted_train), np.exp(y_train))\n",
    "test_error_delog = rmse(np.exp(y_predicted_test), np.exp(y_test))\n",
    "val_error_delog = rmse(np.exp(linear_model.predict(X_valid)), np.exp(y_valid))\n",
    "\n",
    "print(\"With Log transform\\nTraining RMSE: {}\\nTest RMSE: {}\\nValidation RMSE: {}\\n\".format(training_error, test_error, val_error))\n",
    "print(\"Without Log transform\\nTraining RMSE: ${}\\nTest RMSE: ${}\\nValidation RMSE: ${}\\n\".format(training_error_delog.round(2), test_error_delog.round(2),val_error_delog.round(2)))"
   ]
  },
  {
   "cell_type": "markdown",
   "id": "66625355",
   "metadata": {},
   "source": [
    "Training RMSE gives 0.406 value for dataset with log transform.\\\n",
    "Test RMSE gives 0.404 value for data set with log transform.\\\n",
    "Validation RMSE gives 0.405 value for data set with log transform.\n",
    "\n",
    "Training RMSE gives $\\$133.29$ for data set with no log transform.\\\n",
    "Test RMSE gives $\\$133.01$ for data set with no log transform.\\\n",
    "Validation RMSE gives $\\$133.06$ for data set with no log transform."
   ]
  },
  {
   "cell_type": "markdown",
   "id": "857378b8",
   "metadata": {},
   "source": [
    "### Bias Variance Trade off"
   ]
  },
  {
   "cell_type": "code",
   "execution_count": 77,
   "id": "69cb5721",
   "metadata": {},
   "outputs": [],
   "source": [
    "#from mlxtend.evaluate import bias_variance_decomp\n",
    "\n",
    "#mse, bias, var = bias_variance_decomp(linear_model, np.array(X_train),np.array( y_train),np.array( X_test), np.array(y_test), loss='mse', num_rounds=200, random_seed=123)\n",
    "#print('MSE from bias_variance lib [avg expected loss]: %.3f' % mse)\n",
    "#print('Avg Bias: %.3f' % bias)\n",
    "#print('Avg Variance: %.3f' % var)"
   ]
  },
  {
   "cell_type": "markdown",
   "id": "8dda889e",
   "metadata": {},
   "source": [
    "### Plot of the model predictions versus the observations"
   ]
  },
  {
   "cell_type": "code",
   "execution_count": 78,
   "id": "7076ba73",
   "metadata": {},
   "outputs": [
    {
     "data": {
      "text/plain": [
       "Text(0, 0.5, 'Input Test base Price')"
      ]
     },
     "execution_count": 78,
     "metadata": {},
     "output_type": "execute_result"
    },
    {
     "data": {
      "image/png": "[encoded data removed]",
      "text/plain": [
       "<Figure size 864x648 with 1 Axes>"
      ]
     },
     "metadata": {
      "needs_background": "light"
     },
     "output_type": "display_data"
    }
   ],
   "source": [
    "plt.scatter(x=np.exp(y_predicted_test),y=np.exp(y_test),s=10,alpha=0.3)\n",
    "plt.title(\"Predicted Log Base Fare vs Input Test Log Base Fare\")\n",
    "plt.xlabel(\"Predicted base Price\")\n",
    "plt.ylabel(\"Input Test base Price\")"
   ]
  },
  {
   "cell_type": "code",
   "execution_count": 51,
   "id": "6de16a73",
   "metadata": {},
   "outputs": [
    {
     "data": {
      "text/plain": [
       "Text(0, 0.5, 'Input Test base Price')"
      ]
     },
     "execution_count": 51,
     "metadata": {},
     "output_type": "execute_result"
    },
    {
     "data": {
      "image/png": "[encoded data removed]",
      "text/plain": [
       "<Figure size 864x648 with 1 Axes>"
      ]
     },
     "metadata": {
      "needs_background": "light"
     },
     "output_type": "display_data"
    }
   ],
   "source": [
    "plt.scatter(x=y_predicted_test,y=y_test,s=10,alpha=0.3)\n",
    "plt.title(\"Predicted Log Base Fare vs Input Test Log Base Fare\")\n",
    "plt.xlabel(\"Predicted base Price\")\n",
    "plt.ylabel(\"Input Test base Price\")"
   ]
  },
  {
   "cell_type": "markdown",
   "id": "b7f4e3b9",
   "metadata": {},
   "source": [
    "<hr style=\"border: 5px solid #003262;\" />\n",
    "<hr style=\"border: 1px solid #fdb515;\" />\n",
    "\n",
    "## Inference and Conclusion"
   ]
  },
  {
   "cell_type": "markdown",
   "id": "89e74408",
   "metadata": {},
   "source": [
    "#### Through EDA we have the following inferences for the questions posed previously\n",
    "1. Majority of the base fare were in the range **0-1500**.\n",
    "2. The **Chicago, IL O’Hare (ORD)** airport is the best connected airport meaning that the highest amount of domestic air traffic goes through this airport compared to other airports in the United States.\n",
    "3. A **linear relationship** is present between flight duration and base fare in the range **2 to 15 hour** flights.\n",
    "4. The minimum distance people travel using domestic flights is **89 miles** and a median distance covered by domestic flights is **1482 miles**.\n",
    "4. The average number of seats remaining for each airlines was found out.\n",
    "5. The popular airlines for domestic travel in the US were found to be **American Airlines, Delta, United, JetBlue Airways, and Alaska Airlines** in that order.\n",
    "\n",
    "For exploratory data analysis, we aim to find the airport with the highest traffic or the best-connected airports, the price of flights during the different hours of the day, the average/minimum travel distance for which people prefer flight, whether an average flight is fully booked/percentage of flights booked, and popular airlines."
   ]
  },
  {
   "cell_type": "markdown",
   "id": "cbf535d9",
   "metadata": {},
   "source": [
    "#### Prediction Inference"
   ]
  },
  {
   "cell_type": "markdown",
   "id": "702b533f",
   "metadata": {},
   "source": [
    "the $R^{2}$ metric for linear regression is found to be 50.7% on train data and 49.9% on the test data.\\\n",
    "the RMSE is found to be 133.17 Dollar for train data and  135.05 Dollar for test data.\n",
    "MSE from bias_variance lib [avg expected loss]: 0.166\n",
    "Avg Bias: 0.166\n",
    "Avg Variance: 0.000"
   ]
  }
 ],
 "metadata": {
  "kernelspec": {
   "display_name": "Python 3 (ipykernel)",
   "language": "python",
   "name": "python3"
  },
  "language_info": {
   "codemirror_mode": {
    "name": "ipython",
    "version": 3
   },
   "file_extension": ".py",
   "mimetype": "text/x-python",
   "name": "python",
   "nbconvert_exporter": "python",
   "pygments_lexer": "ipython3",
   "version": "3.9.12"
  }
 },
 "nbformat": 4,
 "nbformat_minor": 5
}
