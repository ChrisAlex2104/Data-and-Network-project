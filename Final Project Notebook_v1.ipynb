{
 "cells": [
  {
   "cell_type": "markdown",
   "id": "5d47c8e5",
   "metadata": {},
   "source": [
    "# ECEN 4322-5322 Data and Network Science\n",
    "\n",
    "## Title- Fare prediction for flights\n"
   ]
  },
  {
   "cell_type": "markdown",
   "id": "684bae4a",
   "metadata": {},
   "source": [
    "#### Group Members - Chirag Chandrashekar, Chris Alexander, Viveka Salinamakki"
   ]
  },
  {
   "cell_type": "markdown",
   "id": "0c1c6021",
   "metadata": {},
   "source": [
    "## Introduction "
   ]
  },
  {
   "cell_type": "markdown",
   "id": "58368eee",
   "metadata": {},
   "source": [
    "The dataset chosen for analysis is the itineraries of flights in the USA over **6 months**. For exploratory data analysis, we aim to find the airport with the highest traffic or the best-connected airports, the price of flights during the different hours of the day, the average/minimum travel distance for which people prefer flight, whether an average flight is fully booked/percentage of flights booked, and popular airlines. The end goal here is to predict the fare of a flight. Due to the large number of rows and features, the prediction can provide a good estimation of the fare. Techniques such as data grouping and manipulation, visualization, regular expressions, data modeling, feature engineering, model validation, and prediction will help achieve our goal. "
   ]
  },
  {
   "cell_type": "markdown",
   "id": "8e85299a",
   "metadata": {},
   "source": [
    "\n",
    "<hr style=\"border: 5px solid #003262;\" />\n",
    "<hr style=\"border: 1px solid #fdb515;\" />\n",
    "\n",
    "## Importing the Data"
   ]
  },
  {
   "cell_type": "code",
   "execution_count": 242,
   "id": "30096889",
   "metadata": {},
   "outputs": [],
   "source": [
    "import numpy as np\n",
    "\n",
    "import pandas as pd\n",
    "from pandas.api.types import CategoricalDtype\n",
    "\n",
    "%matplotlib inline\n",
    "import matplotlib.pyplot as plt\n",
    "import seaborn as sns\n",
    "\n",
    "import warnings\n",
    "warnings.filterwarnings(\"ignore\")\n",
    "\n",
    "import zipfile\n",
    "import os\n",
    "\n",
    "from ecen5322_utils import run_linear_regression_test\n",
    "\n",
    "# Plot settings\n",
    "plt.rcParams['figure.figsize'] = (12, 9)\n",
    "plt.rcParams['font.size'] = 12"
   ]
  },
  {
   "cell_type": "markdown",
   "id": "7b3f8245",
   "metadata": {},
   "source": [
    "### Sampling the Dataset"
   ]
  },
  {
   "cell_type": "markdown",
   "id": "4755c538",
   "metadata": {},
   "source": [
    "The origianl data file is sampled due to its size of **30gb** not able to be read on to the ram. Hence, this is solved by reading the file into the chunks of 1million entries and sampling all the chunks to get a final dataset of **500 thousand entries**."
   ]
  },
  {
   "cell_type": "code",
   "execution_count": 243,
   "id": "e6c4b82f",
   "metadata": {},
   "outputs": [
    {
     "data": {
      "text/plain": [
       "'\\ndfs=[]\\nwith pd.read_csv(\"car_price_prediction.csv\", chunksize=1000000) as reader: #read as chunks due to low system resorces to read 30gb file\\n    reader\\n    for chunk in reader:\\n        #print(type(chunk))\\n        data_index=chunk.index\\n        shuffled_indices = np.random.permutation(data_index)  #shuffling and sampling data to reduce the data to 500000 entries\\n        #print(chunk.loc[shuffled_indices])\\n        #print(type(chunk))\\n        chunk,leftover= np.split(chunk.loc[shuffled_indices],[12000]) #selects first N rows from each chunk\\n        #print(type(chunk))\\n        #print(chunk)\\n        #chunks=chunk.to_frame\\n        #print(chunks)\\n        dfs.append(chunk) #makes a list of dataframe chunks\\n        #joined_chunk=pd.concat(chunk)\\n        #print(joined_chunk)\\nfinal_df=pd.concat(dfs) #concats all the chunks in the list of dataframe\\nprint(\"final dataframe\")\\nfinal_df\\n'"
      ]
     },
     "execution_count": 243,
     "metadata": {},
     "output_type": "execute_result"
    }
   ],
   "source": [
    "'''\n",
    "dfs=[]\n",
    "with pd.read_csv(\"car_price_prediction.csv\", chunksize=1000000) as reader: #read as chunks due to low system resorces to read 30gb file\n",
    "    reader\n",
    "    for chunk in reader:\n",
    "        #print(type(chunk))\n",
    "        data_index=chunk.index\n",
    "        shuffled_indices = np.random.permutation(data_index)  #shuffling and sampling data to reduce the data to 500000 entries\n",
    "        #print(chunk.loc[shuffled_indices])\n",
    "        #print(type(chunk))\n",
    "        chunk,leftover= np.split(chunk.loc[shuffled_indices],[12000]) #selects first N rows from each chunk\n",
    "        #print(type(chunk))\n",
    "        #print(chunk)\n",
    "        #chunks=chunk.to_frame\n",
    "        #print(chunks)\n",
    "        dfs.append(chunk) #makes a list of dataframe chunks\n",
    "        #joined_chunk=pd.concat(chunk)\n",
    "        #print(joined_chunk)\n",
    "final_df=pd.concat(dfs) #concats all the chunks in the list of dataframe\n",
    "print(\"final dataframe\")\n",
    "final_df\n",
    "'''"
   ]
  },
  {
   "cell_type": "code",
   "execution_count": 244,
   "id": "e70e2323",
   "metadata": {},
   "outputs": [
    {
     "data": {
      "text/plain": [
       "'\\ndata_index2=final_df.index\\nshuffled_indices2 = np.random.permutation(data_index2)\\nfinal_df2,leftover2=np.split(final_df.loc[shuffled_indices2],[500000])\\nfinal_df2\\n'"
      ]
     },
     "execution_count": 244,
     "metadata": {},
     "output_type": "execute_result"
    }
   ],
   "source": [
    "#Load data to new csv file\n",
    "#final_df\n",
    "'''\n",
    "data_index2=final_df.index\n",
    "shuffled_indices2 = np.random.permutation(data_index2)\n",
    "final_df2,leftover2=np.split(final_df.loc[shuffled_indices2],[500000])\n",
    "final_df2\n",
    "'''"
   ]
  },
  {
   "cell_type": "code",
   "execution_count": 245,
   "id": "3f91654b",
   "metadata": {},
   "outputs": [],
   "source": [
    "#from google.colab import  files\n",
    "#final_df2.to_csv('sampled_file.csv')\n",
    "#files.download('sampled_file.csv')"
   ]
  },
  {
   "cell_type": "markdown",
   "id": "59eb6287",
   "metadata": {},
   "source": [
    "Importing the sampled csv data file"
   ]
  },
  {
   "cell_type": "code",
   "execution_count": 246,
   "id": "61e4b577",
   "metadata": {
    "scrolled": true
   },
   "outputs": [
    {
     "data": {
      "text/html": [
       "<div>\n",
       "<style scoped>\n",
       "    .dataframe tbody tr th:only-of-type {\n",
       "        vertical-align: middle;\n",
       "    }\n",
       "\n",
       "    .dataframe tbody tr th {\n",
       "        vertical-align: top;\n",
       "    }\n",
       "\n",
       "    .dataframe thead th {\n",
       "        text-align: right;\n",
       "    }\n",
       "</style>\n",
       "<table border=\"1\" class=\"dataframe\">\n",
       "  <thead>\n",
       "    <tr style=\"text-align: right;\">\n",
       "      <th></th>\n",
       "      <th>legId</th>\n",
       "      <th>searchDate</th>\n",
       "      <th>flightDate</th>\n",
       "      <th>startingAirport</th>\n",
       "      <th>destinationAirport</th>\n",
       "      <th>fareBasisCode</th>\n",
       "      <th>travelDuration</th>\n",
       "      <th>elapsedDays</th>\n",
       "      <th>isBasicEconomy</th>\n",
       "      <th>isRefundable</th>\n",
       "      <th>...</th>\n",
       "      <th>segmentsArrivalTimeEpochSeconds</th>\n",
       "      <th>segmentsArrivalTimeRaw</th>\n",
       "      <th>segmentsArrivalAirportCode</th>\n",
       "      <th>segmentsDepartureAirportCode</th>\n",
       "      <th>segmentsAirlineName</th>\n",
       "      <th>segmentsAirlineCode</th>\n",
       "      <th>segmentsEquipmentDescription</th>\n",
       "      <th>segmentsDurationInSeconds</th>\n",
       "      <th>segmentsDistance</th>\n",
       "      <th>segmentsCabinCode</th>\n",
       "    </tr>\n",
       "  </thead>\n",
       "  <tbody>\n",
       "    <tr>\n",
       "      <th>0</th>\n",
       "      <td>e95cef0009893d65558d17324e468aea</td>\n",
       "      <td>2022-06-01</td>\n",
       "      <td>2022-06-15</td>\n",
       "      <td>PHL</td>\n",
       "      <td>JFK</td>\n",
       "      <td>SUAJZNB3</td>\n",
       "      <td>PT5H17M</td>\n",
       "      <td>0</td>\n",
       "      <td>True</td>\n",
       "      <td>False</td>\n",
       "      <td>...</td>\n",
       "      <td>1655309340||1655323200</td>\n",
       "      <td>2022-06-15T12:09:00.000-04:00||2022-06-15T16:0...</td>\n",
       "      <td>BOS||JFK</td>\n",
       "      <td>PHL||BOS</td>\n",
       "      <td>American Airlines||American Airlines</td>\n",
       "      <td>AA||AA</td>\n",
       "      <td>Airbus A321||AIRBUS INDUSTRIE A321 SHARKLETS</td>\n",
       "      <td>5160||4920</td>\n",
       "      <td>280||185</td>\n",
       "      <td>coach||coach</td>\n",
       "    </tr>\n",
       "    <tr>\n",
       "      <th>1</th>\n",
       "      <td>778d47d0785023302cd075d735d27db8</td>\n",
       "      <td>2022-08-11</td>\n",
       "      <td>2022-08-20</td>\n",
       "      <td>CLT</td>\n",
       "      <td>ATL</td>\n",
       "      <td>TA7NA0MC</td>\n",
       "      <td>PT14H</td>\n",
       "      <td>1</td>\n",
       "      <td>False</td>\n",
       "      <td>False</td>\n",
       "      <td>...</td>\n",
       "      <td>1661037300||1661050560||1661081220</td>\n",
       "      <td>2022-08-20T19:15:00.000-04:00||2022-08-20T22:5...</td>\n",
       "      <td>DTW||IND||ATL</td>\n",
       "      <td>CLT||DTW||IND</td>\n",
       "      <td>Delta||Delta||Delta</td>\n",
       "      <td>DL||DL||DL</td>\n",
       "      <td>Boeing 717||Airbus A321||Boeing 737-900</td>\n",
       "      <td>6480||4020||5220</td>\n",
       "      <td>505||241||434</td>\n",
       "      <td>coach||coach||coach</td>\n",
       "    </tr>\n",
       "    <tr>\n",
       "      <th>2</th>\n",
       "      <td>55ca7cc1d822f310963a25d84656bb47</td>\n",
       "      <td>2022-06-26</td>\n",
       "      <td>2022-07-01</td>\n",
       "      <td>OAK</td>\n",
       "      <td>JFK</td>\n",
       "      <td>HA0NA0MC</td>\n",
       "      <td>PT8H13M</td>\n",
       "      <td>0</td>\n",
       "      <td>False</td>\n",
       "      <td>False</td>\n",
       "      <td>...</td>\n",
       "      <td>1656706200||1656730740</td>\n",
       "      <td>2022-07-01T13:10:00.000-07:00||2022-07-01T22:5...</td>\n",
       "      <td>LAX||JFK</td>\n",
       "      <td>OAK||LAX</td>\n",
       "      <td>Delta||Delta</td>\n",
       "      <td>DL||DL</td>\n",
       "      <td>Embraer 175 (Enhanced Winglets)||</td>\n",
       "      <td>5040||20040</td>\n",
       "      <td>338||2458</td>\n",
       "      <td>coach||coach</td>\n",
       "    </tr>\n",
       "    <tr>\n",
       "      <th>3</th>\n",
       "      <td>598db4391eb0bc5752b09c871111a5ce</td>\n",
       "      <td>2022-05-14</td>\n",
       "      <td>2022-05-23</td>\n",
       "      <td>BOS</td>\n",
       "      <td>EWR</td>\n",
       "      <td>QAA3OFEN</td>\n",
       "      <td>PT1H41M</td>\n",
       "      <td>0</td>\n",
       "      <td>False</td>\n",
       "      <td>False</td>\n",
       "      <td>...</td>\n",
       "      <td>1653347940</td>\n",
       "      <td>2022-05-23T19:19:00.000-04:00</td>\n",
       "      <td>EWR</td>\n",
       "      <td>BOS</td>\n",
       "      <td>United</td>\n",
       "      <td>UA</td>\n",
       "      <td>Airbus A319</td>\n",
       "      <td>6060</td>\n",
       "      <td>185</td>\n",
       "      <td>coach</td>\n",
       "    </tr>\n",
       "    <tr>\n",
       "      <th>4</th>\n",
       "      <td>e09441b23c76e8a35be3acb61d8e3e95</td>\n",
       "      <td>2022-09-25</td>\n",
       "      <td>2022-10-13</td>\n",
       "      <td>ATL</td>\n",
       "      <td>BOS</td>\n",
       "      <td>TAUNX0BC</td>\n",
       "      <td>PT10H32M</td>\n",
       "      <td>0</td>\n",
       "      <td>True</td>\n",
       "      <td>False</td>\n",
       "      <td>...</td>\n",
       "      <td>1665667500||1665697620</td>\n",
       "      <td>2022-10-13T09:25:00.000-04:00||2022-10-13T17:4...</td>\n",
       "      <td>JFK||BOS</td>\n",
       "      <td>ATL||JFK</td>\n",
       "      <td>Delta||Delta</td>\n",
       "      <td>DL||DL</td>\n",
       "      <td>Boeing 737-900||Airbus A220-100</td>\n",
       "      <td>7800||5220</td>\n",
       "      <td>762||185</td>\n",
       "      <td>coach||coach</td>\n",
       "    </tr>\n",
       "    <tr>\n",
       "      <th>...</th>\n",
       "      <td>...</td>\n",
       "      <td>...</td>\n",
       "      <td>...</td>\n",
       "      <td>...</td>\n",
       "      <td>...</td>\n",
       "      <td>...</td>\n",
       "      <td>...</td>\n",
       "      <td>...</td>\n",
       "      <td>...</td>\n",
       "      <td>...</td>\n",
       "      <td>...</td>\n",
       "      <td>...</td>\n",
       "      <td>...</td>\n",
       "      <td>...</td>\n",
       "      <td>...</td>\n",
       "      <td>...</td>\n",
       "      <td>...</td>\n",
       "      <td>...</td>\n",
       "      <td>...</td>\n",
       "      <td>...</td>\n",
       "      <td>...</td>\n",
       "    </tr>\n",
       "    <tr>\n",
       "      <th>499995</th>\n",
       "      <td>cfd0ca3c7574a87f1ce1dfa83d1a053b</td>\n",
       "      <td>2022-07-02</td>\n",
       "      <td>2022-07-15</td>\n",
       "      <td>LAX</td>\n",
       "      <td>CLT</td>\n",
       "      <td>HA7OA0MQ</td>\n",
       "      <td>PT9H10M</td>\n",
       "      <td>1</td>\n",
       "      <td>False</td>\n",
       "      <td>False</td>\n",
       "      <td>...</td>\n",
       "      <td>1657969320||1657986300</td>\n",
       "      <td>2022-07-16T07:02:00.000-04:00||2022-07-16T11:4...</td>\n",
       "      <td>DTW||CLT</td>\n",
       "      <td>LAX||DTW</td>\n",
       "      <td>Delta||Delta</td>\n",
       "      <td>DL||DL</td>\n",
       "      <td>Airbus A321||Boeing 717</td>\n",
       "      <td>16020||6300</td>\n",
       "      <td>1985||505</td>\n",
       "      <td>coach||coach</td>\n",
       "    </tr>\n",
       "    <tr>\n",
       "      <th>499996</th>\n",
       "      <td>3c671c288391b26e5888c84ef143424d</td>\n",
       "      <td>2022-05-04</td>\n",
       "      <td>2022-06-23</td>\n",
       "      <td>CLT</td>\n",
       "      <td>LAX</td>\n",
       "      <td>UAVNA0MC</td>\n",
       "      <td>PT14H11M</td>\n",
       "      <td>0</td>\n",
       "      <td>False</td>\n",
       "      <td>False</td>\n",
       "      <td>...</td>\n",
       "      <td>1655982720||1655995500||1656029760</td>\n",
       "      <td>2022-06-23T07:12:00.000-04:00||2022-06-23T09:4...</td>\n",
       "      <td>ATL||DFW||LAX</td>\n",
       "      <td>CLT||ATL||DFW</td>\n",
       "      <td>Delta||Delta||Delta</td>\n",
       "      <td>DL||DL||DL</td>\n",
       "      <td>Boeing 717||Airbus A321||Airbus A320</td>\n",
       "      <td>4020||8100||11760</td>\n",
       "      <td>228||725||1238</td>\n",
       "      <td>coach||coach||coach</td>\n",
       "    </tr>\n",
       "    <tr>\n",
       "      <th>499997</th>\n",
       "      <td>2313cf9772214eaddf14651c8847eaeb</td>\n",
       "      <td>2022-08-14</td>\n",
       "      <td>2022-08-26</td>\n",
       "      <td>BOS</td>\n",
       "      <td>OAK</td>\n",
       "      <td>QAA0OHEN</td>\n",
       "      <td>PT11H11M</td>\n",
       "      <td>0</td>\n",
       "      <td>False</td>\n",
       "      <td>False</td>\n",
       "      <td>...</td>\n",
       "      <td>1661558040||1661573100||1661583120</td>\n",
       "      <td>2022-08-26T18:54:00.000-05:00||2022-08-26T22:0...</td>\n",
       "      <td>IAH||SLC||OAK</td>\n",
       "      <td>BOS||IAH||SLC</td>\n",
       "      <td>United||Delta||Delta</td>\n",
       "      <td>UA||DL||DL</td>\n",
       "      <td>Airbus A320||Airbus A319||Airbus A220-100</td>\n",
       "      <td>15180||11460||6780</td>\n",
       "      <td>1602||1204||588</td>\n",
       "      <td>coach||coach||coach</td>\n",
       "    </tr>\n",
       "    <tr>\n",
       "      <th>499998</th>\n",
       "      <td>9141b51058bfbdf9adc91abb2be9078c</td>\n",
       "      <td>2022-08-09</td>\n",
       "      <td>2022-09-06</td>\n",
       "      <td>EWR</td>\n",
       "      <td>SFO</td>\n",
       "      <td>L7AHZNN1</td>\n",
       "      <td>PT8H13M</td>\n",
       "      <td>0</td>\n",
       "      <td>False</td>\n",
       "      <td>False</td>\n",
       "      <td>...</td>\n",
       "      <td>1662485760||1662506040</td>\n",
       "      <td>2022-09-06T12:36:00.000-05:00||2022-09-06T16:1...</td>\n",
       "      <td>ORD||SFO</td>\n",
       "      <td>EWR||ORD</td>\n",
       "      <td>American Airlines||American Airlines</td>\n",
       "      <td>AA||AA</td>\n",
       "      <td>Boeing 737-800||Boeing 737-800</td>\n",
       "      <td>9300||16740</td>\n",
       "      <td>720||1847</td>\n",
       "      <td>coach||coach</td>\n",
       "    </tr>\n",
       "    <tr>\n",
       "      <th>499999</th>\n",
       "      <td>50e4a74280f144bb17fd1e93266c6d05</td>\n",
       "      <td>2022-09-01</td>\n",
       "      <td>2022-09-16</td>\n",
       "      <td>LGA</td>\n",
       "      <td>OAK</td>\n",
       "      <td>QAA4AHEN</td>\n",
       "      <td>PT12H19M</td>\n",
       "      <td>0</td>\n",
       "      <td>False</td>\n",
       "      <td>False</td>\n",
       "      <td>...</td>\n",
       "      <td>1663339560||1663358940||1663370340</td>\n",
       "      <td>2022-09-16T09:46:00.000-05:00||2022-09-16T14:0...</td>\n",
       "      <td>IAH||SLC||OAK</td>\n",
       "      <td>LGA||IAH||SLC</td>\n",
       "      <td>United||Delta||Delta</td>\n",
       "      <td>UA||DL||DL</td>\n",
       "      <td>Boeing 737-800||Airbus A220-100||Embraer 175 (...</td>\n",
       "      <td>13560||11340||7140</td>\n",
       "      <td>1419||1204||588</td>\n",
       "      <td>coach||coach||coach</td>\n",
       "    </tr>\n",
       "  </tbody>\n",
       "</table>\n",
       "<p>500000 rows × 27 columns</p>\n",
       "</div>"
      ],
      "text/plain": [
       "                                   legId  searchDate  flightDate  \\\n",
       "0       e95cef0009893d65558d17324e468aea  2022-06-01  2022-06-15   \n",
       "1       778d47d0785023302cd075d735d27db8  2022-08-11  2022-08-20   \n",
       "2       55ca7cc1d822f310963a25d84656bb47  2022-06-26  2022-07-01   \n",
       "3       598db4391eb0bc5752b09c871111a5ce  2022-05-14  2022-05-23   \n",
       "4       e09441b23c76e8a35be3acb61d8e3e95  2022-09-25  2022-10-13   \n",
       "...                                  ...         ...         ...   \n",
       "499995  cfd0ca3c7574a87f1ce1dfa83d1a053b  2022-07-02  2022-07-15   \n",
       "499996  3c671c288391b26e5888c84ef143424d  2022-05-04  2022-06-23   \n",
       "499997  2313cf9772214eaddf14651c8847eaeb  2022-08-14  2022-08-26   \n",
       "499998  9141b51058bfbdf9adc91abb2be9078c  2022-08-09  2022-09-06   \n",
       "499999  50e4a74280f144bb17fd1e93266c6d05  2022-09-01  2022-09-16   \n",
       "\n",
       "       startingAirport destinationAirport fareBasisCode travelDuration  \\\n",
       "0                  PHL                JFK      SUAJZNB3        PT5H17M   \n",
       "1                  CLT                ATL      TA7NA0MC          PT14H   \n",
       "2                  OAK                JFK      HA0NA0MC        PT8H13M   \n",
       "3                  BOS                EWR      QAA3OFEN        PT1H41M   \n",
       "4                  ATL                BOS      TAUNX0BC       PT10H32M   \n",
       "...                ...                ...           ...            ...   \n",
       "499995             LAX                CLT      HA7OA0MQ        PT9H10M   \n",
       "499996             CLT                LAX      UAVNA0MC       PT14H11M   \n",
       "499997             BOS                OAK      QAA0OHEN       PT11H11M   \n",
       "499998             EWR                SFO      L7AHZNN1        PT8H13M   \n",
       "499999             LGA                OAK      QAA4AHEN       PT12H19M   \n",
       "\n",
       "        elapsedDays  isBasicEconomy  isRefundable  ...  \\\n",
       "0                 0            True         False  ...   \n",
       "1                 1           False         False  ...   \n",
       "2                 0           False         False  ...   \n",
       "3                 0           False         False  ...   \n",
       "4                 0            True         False  ...   \n",
       "...             ...             ...           ...  ...   \n",
       "499995            1           False         False  ...   \n",
       "499996            0           False         False  ...   \n",
       "499997            0           False         False  ...   \n",
       "499998            0           False         False  ...   \n",
       "499999            0           False         False  ...   \n",
       "\n",
       "           segmentsArrivalTimeEpochSeconds  \\\n",
       "0                   1655309340||1655323200   \n",
       "1       1661037300||1661050560||1661081220   \n",
       "2                   1656706200||1656730740   \n",
       "3                               1653347940   \n",
       "4                   1665667500||1665697620   \n",
       "...                                    ...   \n",
       "499995              1657969320||1657986300   \n",
       "499996  1655982720||1655995500||1656029760   \n",
       "499997  1661558040||1661573100||1661583120   \n",
       "499998              1662485760||1662506040   \n",
       "499999  1663339560||1663358940||1663370340   \n",
       "\n",
       "                                   segmentsArrivalTimeRaw  \\\n",
       "0       2022-06-15T12:09:00.000-04:00||2022-06-15T16:0...   \n",
       "1       2022-08-20T19:15:00.000-04:00||2022-08-20T22:5...   \n",
       "2       2022-07-01T13:10:00.000-07:00||2022-07-01T22:5...   \n",
       "3                           2022-05-23T19:19:00.000-04:00   \n",
       "4       2022-10-13T09:25:00.000-04:00||2022-10-13T17:4...   \n",
       "...                                                   ...   \n",
       "499995  2022-07-16T07:02:00.000-04:00||2022-07-16T11:4...   \n",
       "499996  2022-06-23T07:12:00.000-04:00||2022-06-23T09:4...   \n",
       "499997  2022-08-26T18:54:00.000-05:00||2022-08-26T22:0...   \n",
       "499998  2022-09-06T12:36:00.000-05:00||2022-09-06T16:1...   \n",
       "499999  2022-09-16T09:46:00.000-05:00||2022-09-16T14:0...   \n",
       "\n",
       "        segmentsArrivalAirportCode  segmentsDepartureAirportCode  \\\n",
       "0                         BOS||JFK                      PHL||BOS   \n",
       "1                    DTW||IND||ATL                 CLT||DTW||IND   \n",
       "2                         LAX||JFK                      OAK||LAX   \n",
       "3                              EWR                           BOS   \n",
       "4                         JFK||BOS                      ATL||JFK   \n",
       "...                            ...                           ...   \n",
       "499995                    DTW||CLT                      LAX||DTW   \n",
       "499996               ATL||DFW||LAX                 CLT||ATL||DFW   \n",
       "499997               IAH||SLC||OAK                 BOS||IAH||SLC   \n",
       "499998                    ORD||SFO                      EWR||ORD   \n",
       "499999               IAH||SLC||OAK                 LGA||IAH||SLC   \n",
       "\n",
       "                         segmentsAirlineName segmentsAirlineCode  \\\n",
       "0       American Airlines||American Airlines              AA||AA   \n",
       "1                        Delta||Delta||Delta          DL||DL||DL   \n",
       "2                               Delta||Delta              DL||DL   \n",
       "3                                     United                  UA   \n",
       "4                               Delta||Delta              DL||DL   \n",
       "...                                      ...                 ...   \n",
       "499995                          Delta||Delta              DL||DL   \n",
       "499996                   Delta||Delta||Delta          DL||DL||DL   \n",
       "499997                  United||Delta||Delta          UA||DL||DL   \n",
       "499998  American Airlines||American Airlines              AA||AA   \n",
       "499999                  United||Delta||Delta          UA||DL||DL   \n",
       "\n",
       "                             segmentsEquipmentDescription  \\\n",
       "0            Airbus A321||AIRBUS INDUSTRIE A321 SHARKLETS   \n",
       "1                 Boeing 717||Airbus A321||Boeing 737-900   \n",
       "2                       Embraer 175 (Enhanced Winglets)||   \n",
       "3                                             Airbus A319   \n",
       "4                         Boeing 737-900||Airbus A220-100   \n",
       "...                                                   ...   \n",
       "499995                            Airbus A321||Boeing 717   \n",
       "499996               Boeing 717||Airbus A321||Airbus A320   \n",
       "499997          Airbus A320||Airbus A319||Airbus A220-100   \n",
       "499998                     Boeing 737-800||Boeing 737-800   \n",
       "499999  Boeing 737-800||Airbus A220-100||Embraer 175 (...   \n",
       "\n",
       "       segmentsDurationInSeconds segmentsDistance    segmentsCabinCode  \n",
       "0                     5160||4920         280||185         coach||coach  \n",
       "1               6480||4020||5220    505||241||434  coach||coach||coach  \n",
       "2                    5040||20040        338||2458         coach||coach  \n",
       "3                           6060              185                coach  \n",
       "4                     7800||5220         762||185         coach||coach  \n",
       "...                          ...              ...                  ...  \n",
       "499995               16020||6300        1985||505         coach||coach  \n",
       "499996         4020||8100||11760   228||725||1238  coach||coach||coach  \n",
       "499997        15180||11460||6780  1602||1204||588  coach||coach||coach  \n",
       "499998               9300||16740        720||1847         coach||coach  \n",
       "499999        13560||11340||7140  1419||1204||588  coach||coach||coach  \n",
       "\n",
       "[500000 rows x 27 columns]"
      ]
     },
     "execution_count": 246,
     "metadata": {},
     "output_type": "execute_result"
    }
   ],
   "source": [
    "#data=pd.read_csv('sampled_file.csv')\n",
    "\n",
    "#New read_csv function to read empty values as -1 and remove unamed column\n",
    "data=pd.read_csv(\"sampled_file.csv\"\n",
    "                 #, dtype=str\n",
    "                 , keep_default_na=True\n",
    "                 , na_values=-1\n",
    "                 , na_filter=True).drop(columns=['Unnamed: 0'])\n",
    "data"
   ]
  },
  {
   "cell_type": "markdown",
   "id": "0652cd25",
   "metadata": {},
   "source": [
    "<hr style=\"border: 5px solid #003262;\" />\n",
    "<hr style=\"border: 1px solid #fdb515;\" />\n",
    "\n",
    "## Cleaning the dataset"
   ]
  },
  {
   "cell_type": "markdown",
   "id": "0193a94c",
   "metadata": {},
   "source": [
    "### Drop rows with values 'NaN'"
   ]
  },
  {
   "cell_type": "markdown",
   "id": "d24e99fb",
   "metadata": {},
   "source": [
    "The rows with the values **'NaN'** will be dropped except for the description."
   ]
  },
  {
   "cell_type": "code",
   "execution_count": 247,
   "id": "ccbcd5bd",
   "metadata": {},
   "outputs": [
    {
     "name": "stdout",
     "output_type": "stream",
     "text": [
      "legId                                   0\n",
      "searchDate                              0\n",
      "flightDate                              0\n",
      "startingAirport                         0\n",
      "destinationAirport                      0\n",
      "fareBasisCode                           0\n",
      "travelDuration                          0\n",
      "elapsedDays                             0\n",
      "isBasicEconomy                          0\n",
      "isRefundable                            0\n",
      "isNonStop                               0\n",
      "baseFare                                0\n",
      "totalFare                               0\n",
      "seatsRemaining                          0\n",
      "totalTravelDistance                     0\n",
      "segmentsDepartureTimeEpochSeconds       0\n",
      "segmentsDepartureTimeRaw                0\n",
      "segmentsArrivalTimeEpochSeconds         0\n",
      "segmentsArrivalTimeRaw                  0\n",
      "segmentsArrivalAirportCode              0\n",
      "segmentsDepartureAirportCode            0\n",
      "segmentsAirlineName                     0\n",
      "segmentsAirlineCode                     0\n",
      "segmentsEquipmentDescription         7950\n",
      "segmentsDurationInSeconds               0\n",
      "segmentsDistance                        0\n",
      "segmentsCabinCode                       0\n",
      "dtype: int64\n"
     ]
    }
   ],
   "source": [
    "data = data.dropna(subset=['totalTravelDistance'])\n",
    "print(data.iloc[:,0:28].isna().sum())"
   ]
  },
  {
   "cell_type": "markdown",
   "id": "2a54c234",
   "metadata": {},
   "source": [
    "### Function to change True and False to 1 and 0"
   ]
  },
  {
   "cell_type": "markdown",
   "id": "079d5029",
   "metadata": {},
   "source": [
    "The columns with values True and False will be changed to 1 and 0 which will be better to train a model."
   ]
  },
  {
   "cell_type": "code",
   "execution_count": 248,
   "id": "5a8d6c02",
   "metadata": {},
   "outputs": [
    {
     "data": {
      "text/html": [
       "<div>\n",
       "<style scoped>\n",
       "    .dataframe tbody tr th:only-of-type {\n",
       "        vertical-align: middle;\n",
       "    }\n",
       "\n",
       "    .dataframe tbody tr th {\n",
       "        vertical-align: top;\n",
       "    }\n",
       "\n",
       "    .dataframe thead th {\n",
       "        text-align: right;\n",
       "    }\n",
       "</style>\n",
       "<table border=\"1\" class=\"dataframe\">\n",
       "  <thead>\n",
       "    <tr style=\"text-align: right;\">\n",
       "      <th></th>\n",
       "      <th>legId</th>\n",
       "      <th>searchDate</th>\n",
       "      <th>flightDate</th>\n",
       "      <th>startingAirport</th>\n",
       "      <th>destinationAirport</th>\n",
       "      <th>fareBasisCode</th>\n",
       "      <th>travelDuration</th>\n",
       "      <th>elapsedDays</th>\n",
       "      <th>isBasicEconomy</th>\n",
       "      <th>isRefundable</th>\n",
       "      <th>...</th>\n",
       "      <th>segmentsArrivalTimeEpochSeconds</th>\n",
       "      <th>segmentsArrivalTimeRaw</th>\n",
       "      <th>segmentsArrivalAirportCode</th>\n",
       "      <th>segmentsDepartureAirportCode</th>\n",
       "      <th>segmentsAirlineName</th>\n",
       "      <th>segmentsAirlineCode</th>\n",
       "      <th>segmentsEquipmentDescription</th>\n",
       "      <th>segmentsDurationInSeconds</th>\n",
       "      <th>segmentsDistance</th>\n",
       "      <th>segmentsCabinCode</th>\n",
       "    </tr>\n",
       "  </thead>\n",
       "  <tbody>\n",
       "    <tr>\n",
       "      <th>0</th>\n",
       "      <td>e95cef0009893d65558d17324e468aea</td>\n",
       "      <td>2022-06-01</td>\n",
       "      <td>2022-06-15</td>\n",
       "      <td>PHL</td>\n",
       "      <td>JFK</td>\n",
       "      <td>SUAJZNB3</td>\n",
       "      <td>PT5H17M</td>\n",
       "      <td>0</td>\n",
       "      <td>1</td>\n",
       "      <td>0</td>\n",
       "      <td>...</td>\n",
       "      <td>1655309340||1655323200</td>\n",
       "      <td>2022-06-15T12:09:00.000-04:00||2022-06-15T16:0...</td>\n",
       "      <td>BOS||JFK</td>\n",
       "      <td>PHL||BOS</td>\n",
       "      <td>American Airlines||American Airlines</td>\n",
       "      <td>AA||AA</td>\n",
       "      <td>Airbus A321||AIRBUS INDUSTRIE A321 SHARKLETS</td>\n",
       "      <td>5160||4920</td>\n",
       "      <td>280||185</td>\n",
       "      <td>coach||coach</td>\n",
       "    </tr>\n",
       "    <tr>\n",
       "      <th>1</th>\n",
       "      <td>778d47d0785023302cd075d735d27db8</td>\n",
       "      <td>2022-08-11</td>\n",
       "      <td>2022-08-20</td>\n",
       "      <td>CLT</td>\n",
       "      <td>ATL</td>\n",
       "      <td>TA7NA0MC</td>\n",
       "      <td>PT14H</td>\n",
       "      <td>1</td>\n",
       "      <td>0</td>\n",
       "      <td>0</td>\n",
       "      <td>...</td>\n",
       "      <td>1661037300||1661050560||1661081220</td>\n",
       "      <td>2022-08-20T19:15:00.000-04:00||2022-08-20T22:5...</td>\n",
       "      <td>DTW||IND||ATL</td>\n",
       "      <td>CLT||DTW||IND</td>\n",
       "      <td>Delta||Delta||Delta</td>\n",
       "      <td>DL||DL||DL</td>\n",
       "      <td>Boeing 717||Airbus A321||Boeing 737-900</td>\n",
       "      <td>6480||4020||5220</td>\n",
       "      <td>505||241||434</td>\n",
       "      <td>coach||coach||coach</td>\n",
       "    </tr>\n",
       "    <tr>\n",
       "      <th>2</th>\n",
       "      <td>55ca7cc1d822f310963a25d84656bb47</td>\n",
       "      <td>2022-06-26</td>\n",
       "      <td>2022-07-01</td>\n",
       "      <td>OAK</td>\n",
       "      <td>JFK</td>\n",
       "      <td>HA0NA0MC</td>\n",
       "      <td>PT8H13M</td>\n",
       "      <td>0</td>\n",
       "      <td>0</td>\n",
       "      <td>0</td>\n",
       "      <td>...</td>\n",
       "      <td>1656706200||1656730740</td>\n",
       "      <td>2022-07-01T13:10:00.000-07:00||2022-07-01T22:5...</td>\n",
       "      <td>LAX||JFK</td>\n",
       "      <td>OAK||LAX</td>\n",
       "      <td>Delta||Delta</td>\n",
       "      <td>DL||DL</td>\n",
       "      <td>Embraer 175 (Enhanced Winglets)||</td>\n",
       "      <td>5040||20040</td>\n",
       "      <td>338||2458</td>\n",
       "      <td>coach||coach</td>\n",
       "    </tr>\n",
       "    <tr>\n",
       "      <th>3</th>\n",
       "      <td>598db4391eb0bc5752b09c871111a5ce</td>\n",
       "      <td>2022-05-14</td>\n",
       "      <td>2022-05-23</td>\n",
       "      <td>BOS</td>\n",
       "      <td>EWR</td>\n",
       "      <td>QAA3OFEN</td>\n",
       "      <td>PT1H41M</td>\n",
       "      <td>0</td>\n",
       "      <td>0</td>\n",
       "      <td>0</td>\n",
       "      <td>...</td>\n",
       "      <td>1653347940</td>\n",
       "      <td>2022-05-23T19:19:00.000-04:00</td>\n",
       "      <td>EWR</td>\n",
       "      <td>BOS</td>\n",
       "      <td>United</td>\n",
       "      <td>UA</td>\n",
       "      <td>Airbus A319</td>\n",
       "      <td>6060</td>\n",
       "      <td>185</td>\n",
       "      <td>coach</td>\n",
       "    </tr>\n",
       "    <tr>\n",
       "      <th>4</th>\n",
       "      <td>e09441b23c76e8a35be3acb61d8e3e95</td>\n",
       "      <td>2022-09-25</td>\n",
       "      <td>2022-10-13</td>\n",
       "      <td>ATL</td>\n",
       "      <td>BOS</td>\n",
       "      <td>TAUNX0BC</td>\n",
       "      <td>PT10H32M</td>\n",
       "      <td>0</td>\n",
       "      <td>1</td>\n",
       "      <td>0</td>\n",
       "      <td>...</td>\n",
       "      <td>1665667500||1665697620</td>\n",
       "      <td>2022-10-13T09:25:00.000-04:00||2022-10-13T17:4...</td>\n",
       "      <td>JFK||BOS</td>\n",
       "      <td>ATL||JFK</td>\n",
       "      <td>Delta||Delta</td>\n",
       "      <td>DL||DL</td>\n",
       "      <td>Boeing 737-900||Airbus A220-100</td>\n",
       "      <td>7800||5220</td>\n",
       "      <td>762||185</td>\n",
       "      <td>coach||coach</td>\n",
       "    </tr>\n",
       "    <tr>\n",
       "      <th>...</th>\n",
       "      <td>...</td>\n",
       "      <td>...</td>\n",
       "      <td>...</td>\n",
       "      <td>...</td>\n",
       "      <td>...</td>\n",
       "      <td>...</td>\n",
       "      <td>...</td>\n",
       "      <td>...</td>\n",
       "      <td>...</td>\n",
       "      <td>...</td>\n",
       "      <td>...</td>\n",
       "      <td>...</td>\n",
       "      <td>...</td>\n",
       "      <td>...</td>\n",
       "      <td>...</td>\n",
       "      <td>...</td>\n",
       "      <td>...</td>\n",
       "      <td>...</td>\n",
       "      <td>...</td>\n",
       "      <td>...</td>\n",
       "      <td>...</td>\n",
       "    </tr>\n",
       "    <tr>\n",
       "      <th>499995</th>\n",
       "      <td>cfd0ca3c7574a87f1ce1dfa83d1a053b</td>\n",
       "      <td>2022-07-02</td>\n",
       "      <td>2022-07-15</td>\n",
       "      <td>LAX</td>\n",
       "      <td>CLT</td>\n",
       "      <td>HA7OA0MQ</td>\n",
       "      <td>PT9H10M</td>\n",
       "      <td>1</td>\n",
       "      <td>0</td>\n",
       "      <td>0</td>\n",
       "      <td>...</td>\n",
       "      <td>1657969320||1657986300</td>\n",
       "      <td>2022-07-16T07:02:00.000-04:00||2022-07-16T11:4...</td>\n",
       "      <td>DTW||CLT</td>\n",
       "      <td>LAX||DTW</td>\n",
       "      <td>Delta||Delta</td>\n",
       "      <td>DL||DL</td>\n",
       "      <td>Airbus A321||Boeing 717</td>\n",
       "      <td>16020||6300</td>\n",
       "      <td>1985||505</td>\n",
       "      <td>coach||coach</td>\n",
       "    </tr>\n",
       "    <tr>\n",
       "      <th>499996</th>\n",
       "      <td>3c671c288391b26e5888c84ef143424d</td>\n",
       "      <td>2022-05-04</td>\n",
       "      <td>2022-06-23</td>\n",
       "      <td>CLT</td>\n",
       "      <td>LAX</td>\n",
       "      <td>UAVNA0MC</td>\n",
       "      <td>PT14H11M</td>\n",
       "      <td>0</td>\n",
       "      <td>0</td>\n",
       "      <td>0</td>\n",
       "      <td>...</td>\n",
       "      <td>1655982720||1655995500||1656029760</td>\n",
       "      <td>2022-06-23T07:12:00.000-04:00||2022-06-23T09:4...</td>\n",
       "      <td>ATL||DFW||LAX</td>\n",
       "      <td>CLT||ATL||DFW</td>\n",
       "      <td>Delta||Delta||Delta</td>\n",
       "      <td>DL||DL||DL</td>\n",
       "      <td>Boeing 717||Airbus A321||Airbus A320</td>\n",
       "      <td>4020||8100||11760</td>\n",
       "      <td>228||725||1238</td>\n",
       "      <td>coach||coach||coach</td>\n",
       "    </tr>\n",
       "    <tr>\n",
       "      <th>499997</th>\n",
       "      <td>2313cf9772214eaddf14651c8847eaeb</td>\n",
       "      <td>2022-08-14</td>\n",
       "      <td>2022-08-26</td>\n",
       "      <td>BOS</td>\n",
       "      <td>OAK</td>\n",
       "      <td>QAA0OHEN</td>\n",
       "      <td>PT11H11M</td>\n",
       "      <td>0</td>\n",
       "      <td>0</td>\n",
       "      <td>0</td>\n",
       "      <td>...</td>\n",
       "      <td>1661558040||1661573100||1661583120</td>\n",
       "      <td>2022-08-26T18:54:00.000-05:00||2022-08-26T22:0...</td>\n",
       "      <td>IAH||SLC||OAK</td>\n",
       "      <td>BOS||IAH||SLC</td>\n",
       "      <td>United||Delta||Delta</td>\n",
       "      <td>UA||DL||DL</td>\n",
       "      <td>Airbus A320||Airbus A319||Airbus A220-100</td>\n",
       "      <td>15180||11460||6780</td>\n",
       "      <td>1602||1204||588</td>\n",
       "      <td>coach||coach||coach</td>\n",
       "    </tr>\n",
       "    <tr>\n",
       "      <th>499998</th>\n",
       "      <td>9141b51058bfbdf9adc91abb2be9078c</td>\n",
       "      <td>2022-08-09</td>\n",
       "      <td>2022-09-06</td>\n",
       "      <td>EWR</td>\n",
       "      <td>SFO</td>\n",
       "      <td>L7AHZNN1</td>\n",
       "      <td>PT8H13M</td>\n",
       "      <td>0</td>\n",
       "      <td>0</td>\n",
       "      <td>0</td>\n",
       "      <td>...</td>\n",
       "      <td>1662485760||1662506040</td>\n",
       "      <td>2022-09-06T12:36:00.000-05:00||2022-09-06T16:1...</td>\n",
       "      <td>ORD||SFO</td>\n",
       "      <td>EWR||ORD</td>\n",
       "      <td>American Airlines||American Airlines</td>\n",
       "      <td>AA||AA</td>\n",
       "      <td>Boeing 737-800||Boeing 737-800</td>\n",
       "      <td>9300||16740</td>\n",
       "      <td>720||1847</td>\n",
       "      <td>coach||coach</td>\n",
       "    </tr>\n",
       "    <tr>\n",
       "      <th>499999</th>\n",
       "      <td>50e4a74280f144bb17fd1e93266c6d05</td>\n",
       "      <td>2022-09-01</td>\n",
       "      <td>2022-09-16</td>\n",
       "      <td>LGA</td>\n",
       "      <td>OAK</td>\n",
       "      <td>QAA4AHEN</td>\n",
       "      <td>PT12H19M</td>\n",
       "      <td>0</td>\n",
       "      <td>0</td>\n",
       "      <td>0</td>\n",
       "      <td>...</td>\n",
       "      <td>1663339560||1663358940||1663370340</td>\n",
       "      <td>2022-09-16T09:46:00.000-05:00||2022-09-16T14:0...</td>\n",
       "      <td>IAH||SLC||OAK</td>\n",
       "      <td>LGA||IAH||SLC</td>\n",
       "      <td>United||Delta||Delta</td>\n",
       "      <td>UA||DL||DL</td>\n",
       "      <td>Boeing 737-800||Airbus A220-100||Embraer 175 (...</td>\n",
       "      <td>13560||11340||7140</td>\n",
       "      <td>1419||1204||588</td>\n",
       "      <td>coach||coach||coach</td>\n",
       "    </tr>\n",
       "  </tbody>\n",
       "</table>\n",
       "<p>462700 rows × 27 columns</p>\n",
       "</div>"
      ],
      "text/plain": [
       "                                   legId  searchDate  flightDate  \\\n",
       "0       e95cef0009893d65558d17324e468aea  2022-06-01  2022-06-15   \n",
       "1       778d47d0785023302cd075d735d27db8  2022-08-11  2022-08-20   \n",
       "2       55ca7cc1d822f310963a25d84656bb47  2022-06-26  2022-07-01   \n",
       "3       598db4391eb0bc5752b09c871111a5ce  2022-05-14  2022-05-23   \n",
       "4       e09441b23c76e8a35be3acb61d8e3e95  2022-09-25  2022-10-13   \n",
       "...                                  ...         ...         ...   \n",
       "499995  cfd0ca3c7574a87f1ce1dfa83d1a053b  2022-07-02  2022-07-15   \n",
       "499996  3c671c288391b26e5888c84ef143424d  2022-05-04  2022-06-23   \n",
       "499997  2313cf9772214eaddf14651c8847eaeb  2022-08-14  2022-08-26   \n",
       "499998  9141b51058bfbdf9adc91abb2be9078c  2022-08-09  2022-09-06   \n",
       "499999  50e4a74280f144bb17fd1e93266c6d05  2022-09-01  2022-09-16   \n",
       "\n",
       "       startingAirport destinationAirport fareBasisCode travelDuration  \\\n",
       "0                  PHL                JFK      SUAJZNB3        PT5H17M   \n",
       "1                  CLT                ATL      TA7NA0MC          PT14H   \n",
       "2                  OAK                JFK      HA0NA0MC        PT8H13M   \n",
       "3                  BOS                EWR      QAA3OFEN        PT1H41M   \n",
       "4                  ATL                BOS      TAUNX0BC       PT10H32M   \n",
       "...                ...                ...           ...            ...   \n",
       "499995             LAX                CLT      HA7OA0MQ        PT9H10M   \n",
       "499996             CLT                LAX      UAVNA0MC       PT14H11M   \n",
       "499997             BOS                OAK      QAA0OHEN       PT11H11M   \n",
       "499998             EWR                SFO      L7AHZNN1        PT8H13M   \n",
       "499999             LGA                OAK      QAA4AHEN       PT12H19M   \n",
       "\n",
       "        elapsedDays  isBasicEconomy  isRefundable  ...  \\\n",
       "0                 0               1             0  ...   \n",
       "1                 1               0             0  ...   \n",
       "2                 0               0             0  ...   \n",
       "3                 0               0             0  ...   \n",
       "4                 0               1             0  ...   \n",
       "...             ...             ...           ...  ...   \n",
       "499995            1               0             0  ...   \n",
       "499996            0               0             0  ...   \n",
       "499997            0               0             0  ...   \n",
       "499998            0               0             0  ...   \n",
       "499999            0               0             0  ...   \n",
       "\n",
       "           segmentsArrivalTimeEpochSeconds  \\\n",
       "0                   1655309340||1655323200   \n",
       "1       1661037300||1661050560||1661081220   \n",
       "2                   1656706200||1656730740   \n",
       "3                               1653347940   \n",
       "4                   1665667500||1665697620   \n",
       "...                                    ...   \n",
       "499995              1657969320||1657986300   \n",
       "499996  1655982720||1655995500||1656029760   \n",
       "499997  1661558040||1661573100||1661583120   \n",
       "499998              1662485760||1662506040   \n",
       "499999  1663339560||1663358940||1663370340   \n",
       "\n",
       "                                   segmentsArrivalTimeRaw  \\\n",
       "0       2022-06-15T12:09:00.000-04:00||2022-06-15T16:0...   \n",
       "1       2022-08-20T19:15:00.000-04:00||2022-08-20T22:5...   \n",
       "2       2022-07-01T13:10:00.000-07:00||2022-07-01T22:5...   \n",
       "3                           2022-05-23T19:19:00.000-04:00   \n",
       "4       2022-10-13T09:25:00.000-04:00||2022-10-13T17:4...   \n",
       "...                                                   ...   \n",
       "499995  2022-07-16T07:02:00.000-04:00||2022-07-16T11:4...   \n",
       "499996  2022-06-23T07:12:00.000-04:00||2022-06-23T09:4...   \n",
       "499997  2022-08-26T18:54:00.000-05:00||2022-08-26T22:0...   \n",
       "499998  2022-09-06T12:36:00.000-05:00||2022-09-06T16:1...   \n",
       "499999  2022-09-16T09:46:00.000-05:00||2022-09-16T14:0...   \n",
       "\n",
       "        segmentsArrivalAirportCode  segmentsDepartureAirportCode  \\\n",
       "0                         BOS||JFK                      PHL||BOS   \n",
       "1                    DTW||IND||ATL                 CLT||DTW||IND   \n",
       "2                         LAX||JFK                      OAK||LAX   \n",
       "3                              EWR                           BOS   \n",
       "4                         JFK||BOS                      ATL||JFK   \n",
       "...                            ...                           ...   \n",
       "499995                    DTW||CLT                      LAX||DTW   \n",
       "499996               ATL||DFW||LAX                 CLT||ATL||DFW   \n",
       "499997               IAH||SLC||OAK                 BOS||IAH||SLC   \n",
       "499998                    ORD||SFO                      EWR||ORD   \n",
       "499999               IAH||SLC||OAK                 LGA||IAH||SLC   \n",
       "\n",
       "                         segmentsAirlineName segmentsAirlineCode  \\\n",
       "0       American Airlines||American Airlines              AA||AA   \n",
       "1                        Delta||Delta||Delta          DL||DL||DL   \n",
       "2                               Delta||Delta              DL||DL   \n",
       "3                                     United                  UA   \n",
       "4                               Delta||Delta              DL||DL   \n",
       "...                                      ...                 ...   \n",
       "499995                          Delta||Delta              DL||DL   \n",
       "499996                   Delta||Delta||Delta          DL||DL||DL   \n",
       "499997                  United||Delta||Delta          UA||DL||DL   \n",
       "499998  American Airlines||American Airlines              AA||AA   \n",
       "499999                  United||Delta||Delta          UA||DL||DL   \n",
       "\n",
       "                             segmentsEquipmentDescription  \\\n",
       "0            Airbus A321||AIRBUS INDUSTRIE A321 SHARKLETS   \n",
       "1                 Boeing 717||Airbus A321||Boeing 737-900   \n",
       "2                       Embraer 175 (Enhanced Winglets)||   \n",
       "3                                             Airbus A319   \n",
       "4                         Boeing 737-900||Airbus A220-100   \n",
       "...                                                   ...   \n",
       "499995                            Airbus A321||Boeing 717   \n",
       "499996               Boeing 717||Airbus A321||Airbus A320   \n",
       "499997          Airbus A320||Airbus A319||Airbus A220-100   \n",
       "499998                     Boeing 737-800||Boeing 737-800   \n",
       "499999  Boeing 737-800||Airbus A220-100||Embraer 175 (...   \n",
       "\n",
       "       segmentsDurationInSeconds segmentsDistance    segmentsCabinCode  \n",
       "0                     5160||4920         280||185         coach||coach  \n",
       "1               6480||4020||5220    505||241||434  coach||coach||coach  \n",
       "2                    5040||20040        338||2458         coach||coach  \n",
       "3                           6060              185                coach  \n",
       "4                     7800||5220         762||185         coach||coach  \n",
       "...                          ...              ...                  ...  \n",
       "499995               16020||6300        1985||505         coach||coach  \n",
       "499996         4020||8100||11760   228||725||1238  coach||coach||coach  \n",
       "499997        15180||11460||6780  1602||1204||588  coach||coach||coach  \n",
       "499998               9300||16740        720||1847         coach||coach  \n",
       "499999        13560||11340||7140  1419||1204||588  coach||coach||coach  \n",
       "\n",
       "[462700 rows x 27 columns]"
      ]
     },
     "execution_count": 248,
     "metadata": {},
     "output_type": "execute_result"
    }
   ],
   "source": [
    "def map_true_false(df, columnName):\n",
    "    \"\"\"\n",
    "        Inputs:\n",
    "            df [Dataframe]: Dataframe on which the operation is performed\n",
    "            columnName [String]: The column which is being modified\n",
    "        \n",
    "        Output:\n",
    "            New Dataframe with the modified\n",
    "    \"\"\"\n",
    "    df[columnName]=df[columnName].map(dict({True: 1, False: 0}))\n",
    "    return df\n",
    "\n",
    "data=map_true_false(data,'isBasicEconomy')\n",
    "data=map_true_false(data,'isRefundable')\n",
    "data=map_true_false(data,'isNonStop')\n",
    "data"
   ]
  },
  {
   "cell_type": "markdown",
   "id": "37a0bd0f",
   "metadata": {},
   "source": [
    "### Function to remove outliers"
   ]
  },
  {
   "cell_type": "markdown",
   "id": "bfe3e76f",
   "metadata": {},
   "source": [
    "`remove_outliers` function removes the outliers depending on the given condition."
   ]
  },
  {
   "cell_type": "code",
   "execution_count": 249,
   "id": "57b1fc70",
   "metadata": {},
   "outputs": [],
   "source": [
    "def remove_outliers(data, variable, lower=-np.inf, upper=np.inf):\n",
    "  \n",
    "    \"\"\"\n",
    "    Input:\n",
    "      data (data frame): the table to be filtered\n",
    "      variable (string): the column with numerical outliers\n",
    "      lower (numeric): observations with values lower than this will be removed\n",
    "      upper (numeric): observations with values higher than this will be removed\n",
    "    \n",
    "    Output:\n",
    "      a data frame with outliers removed\n",
    "      \n",
    "    Note: This function should not change mutate the contents of data.\n",
    "    \"\"\"  \n",
    "    data_2=data[data[variable]<= upper]\n",
    "    data_3=data_2[data_2[variable]>= lower]\n",
    "    return data_3"
   ]
  },
  {
   "cell_type": "code",
   "execution_count": 250,
   "id": "2cc43494",
   "metadata": {},
   "outputs": [
    {
     "data": {
      "text/plain": [
       "252841      60.47\n",
       "423629      60.47\n",
       "282635      60.47\n",
       "218454      60.47\n",
       "357654      60.47\n",
       "           ...   \n",
       "373476    3674.42\n",
       "270007    4407.44\n",
       "423259    4407.44\n",
       "210383    4407.44\n",
       "403847    4557.21\n",
       "Name: baseFare, Length: 455587, dtype: float64"
      ]
     },
     "execution_count": 250,
     "metadata": {},
     "output_type": "execute_result"
    }
   ],
   "source": [
    "data = remove_outliers(data, 'baseFare', lower = 60)\n",
    "data.loc[:,'baseFare'].sort_values()"
   ]
  },
  {
   "cell_type": "markdown",
   "id": "2cfd4597",
   "metadata": {},
   "source": [
    "### rename columns"
   ]
  },
  {
   "cell_type": "code",
   "execution_count": 251,
   "id": "aae3418e",
   "metadata": {},
   "outputs": [
    {
     "data": {
      "text/plain": [
       "Index(['legId', 'searchDate', 'flightDate', 'startingAirport',\n",
       "       'destinationAirport', 'fareBasisCode', 'travelDuration', 'elapsedDays',\n",
       "       'isBasicEconomy', 'isRefundable', 'isNonStop', 'baseFare', 'totalFare',\n",
       "       'seatsRemaining', 'totalTravelDistance',\n",
       "       'segmentsDepartureTimeEpochSeconds', 'segmentsDepartureTimeRaw',\n",
       "       'segmentsArrivalTimeEpochSeconds', 'segmentsArrivalTimeRaw',\n",
       "       'segmentsArrivalAirportCode', 'segmentsDepartureAirportCode',\n",
       "       'segmentsAirlineName', 'segmentsAirlineCode',\n",
       "       'segmentsEquipmentDescription', 'segmentsDurationInSeconds',\n",
       "       'segmentsDistance', 'segmentsCabinCode'],\n",
       "      dtype='object')"
      ]
     },
     "execution_count": 251,
     "metadata": {},
     "output_type": "execute_result"
    }
   ],
   "source": [
    "data.columns"
   ]
  },
  {
   "cell_type": "markdown",
   "id": "b9ccf832",
   "metadata": {},
   "source": [
    "### Convert date time column to date time format"
   ]
  },
  {
   "cell_type": "markdown",
   "id": "f393c0b3",
   "metadata": {},
   "source": [
    "The dates are converted to datetime format using `convertToDateTimeFormat` so that the year, month and day will be easily accessible"
   ]
  },
  {
   "cell_type": "code",
   "execution_count": 252,
   "id": "2a0391b6",
   "metadata": {},
   "outputs": [],
   "source": [
    "def convertToDateTimeFormat(df, columnName):\n",
    "    \"\"\"\n",
    "    Inputs:\n",
    "        df [Dataframe]: Dataframe on which the operation is performed\n",
    "        columnName [String]: The column which has dates to be converted into datetime format\n",
    "                        Acceptable names are 'searchDate' and 'flightDate'\n",
    "        \n",
    "    Output:\n",
    "        New Dataframe with dates converted into datetime format\n",
    "    \"\"\"\n",
    "    df[columnName]=pd.to_datetime(df[columnName], format=\"%Y-%m-%d\")\n",
    "    return df"
   ]
  },
  {
   "cell_type": "code",
   "execution_count": 253,
   "id": "fb20be81",
   "metadata": {},
   "outputs": [],
   "source": [
    "data=convertToDateTimeFormat(data, 'searchDate')\n",
    "data=convertToDateTimeFormat(data, 'flightDate')"
   ]
  },
  {
   "cell_type": "code",
   "execution_count": 254,
   "id": "d2a98856",
   "metadata": {},
   "outputs": [
    {
     "data": {
      "text/plain": [
       "0        2022-06-01\n",
       "1        2022-08-11\n",
       "2        2022-06-26\n",
       "3        2022-05-14\n",
       "4        2022-09-25\n",
       "            ...    \n",
       "499995   2022-07-02\n",
       "499996   2022-05-04\n",
       "499997   2022-08-14\n",
       "499998   2022-08-09\n",
       "499999   2022-09-01\n",
       "Name: searchDate, Length: 455587, dtype: datetime64[ns]"
      ]
     },
     "execution_count": 254,
     "metadata": {},
     "output_type": "execute_result"
    }
   ],
   "source": [
    "data['searchDate']"
   ]
  },
  {
   "cell_type": "markdown",
   "id": "1f0ffda4",
   "metadata": {},
   "source": [
    "### Create columns for month and day for the date columns"
   ]
  },
  {
   "cell_type": "markdown",
   "id": "40ceaf9c",
   "metadata": {},
   "source": [
    "The month and year are extracted from the date columns using `createMonthDay` so that they more usable"
   ]
  },
  {
   "cell_type": "code",
   "execution_count": 255,
   "id": "97c22d51",
   "metadata": {},
   "outputs": [],
   "source": [
    "def createMonthDay(df, columnName):\n",
    "    \"\"\"\n",
    "    Inputs:\n",
    "        df [Dataframe]: Dataframe on which the operation is performed\n",
    "        columnName [String]: The column which has dates from which month and year are extracted\n",
    "                        Acceptable names are 'searchDate' and 'flightDate'\n",
    "        \n",
    "    Output:\n",
    "        New Dataframe with with the columns for month and year added from the the column columnName\n",
    "    \"\"\"\n",
    "    df[columnName+'_month']=df[columnName].dt.month\n",
    "    df[columnName+'_day']=df[columnName].dt.day\n",
    "    return df"
   ]
  },
  {
   "cell_type": "code",
   "execution_count": 256,
   "id": "2879d1f0",
   "metadata": {},
   "outputs": [],
   "source": [
    "data=createMonthDay(data, 'searchDate')\n",
    "data=createMonthDay(data, 'flightDate')"
   ]
  },
  {
   "cell_type": "code",
   "execution_count": 257,
   "id": "8e420439",
   "metadata": {},
   "outputs": [
    {
     "data": {
      "text/html": [
       "<div>\n",
       "<style scoped>\n",
       "    .dataframe tbody tr th:only-of-type {\n",
       "        vertical-align: middle;\n",
       "    }\n",
       "\n",
       "    .dataframe tbody tr th {\n",
       "        vertical-align: top;\n",
       "    }\n",
       "\n",
       "    .dataframe thead th {\n",
       "        text-align: right;\n",
       "    }\n",
       "</style>\n",
       "<table border=\"1\" class=\"dataframe\">\n",
       "  <thead>\n",
       "    <tr style=\"text-align: right;\">\n",
       "      <th></th>\n",
       "      <th>legId</th>\n",
       "      <th>searchDate</th>\n",
       "      <th>flightDate</th>\n",
       "      <th>startingAirport</th>\n",
       "      <th>destinationAirport</th>\n",
       "      <th>fareBasisCode</th>\n",
       "      <th>travelDuration</th>\n",
       "      <th>elapsedDays</th>\n",
       "      <th>isBasicEconomy</th>\n",
       "      <th>isRefundable</th>\n",
       "      <th>...</th>\n",
       "      <th>segmentsAirlineName</th>\n",
       "      <th>segmentsAirlineCode</th>\n",
       "      <th>segmentsEquipmentDescription</th>\n",
       "      <th>segmentsDurationInSeconds</th>\n",
       "      <th>segmentsDistance</th>\n",
       "      <th>segmentsCabinCode</th>\n",
       "      <th>searchDate_month</th>\n",
       "      <th>searchDate_day</th>\n",
       "      <th>flightDate_month</th>\n",
       "      <th>flightDate_day</th>\n",
       "    </tr>\n",
       "  </thead>\n",
       "  <tbody>\n",
       "    <tr>\n",
       "      <th>0</th>\n",
       "      <td>e95cef0009893d65558d17324e468aea</td>\n",
       "      <td>2022-06-01</td>\n",
       "      <td>2022-06-15</td>\n",
       "      <td>PHL</td>\n",
       "      <td>JFK</td>\n",
       "      <td>SUAJZNB3</td>\n",
       "      <td>PT5H17M</td>\n",
       "      <td>0</td>\n",
       "      <td>1</td>\n",
       "      <td>0</td>\n",
       "      <td>...</td>\n",
       "      <td>American Airlines||American Airlines</td>\n",
       "      <td>AA||AA</td>\n",
       "      <td>Airbus A321||AIRBUS INDUSTRIE A321 SHARKLETS</td>\n",
       "      <td>5160||4920</td>\n",
       "      <td>280||185</td>\n",
       "      <td>coach||coach</td>\n",
       "      <td>6</td>\n",
       "      <td>1</td>\n",
       "      <td>6</td>\n",
       "      <td>15</td>\n",
       "    </tr>\n",
       "    <tr>\n",
       "      <th>1</th>\n",
       "      <td>778d47d0785023302cd075d735d27db8</td>\n",
       "      <td>2022-08-11</td>\n",
       "      <td>2022-08-20</td>\n",
       "      <td>CLT</td>\n",
       "      <td>ATL</td>\n",
       "      <td>TA7NA0MC</td>\n",
       "      <td>PT14H</td>\n",
       "      <td>1</td>\n",
       "      <td>0</td>\n",
       "      <td>0</td>\n",
       "      <td>...</td>\n",
       "      <td>Delta||Delta||Delta</td>\n",
       "      <td>DL||DL||DL</td>\n",
       "      <td>Boeing 717||Airbus A321||Boeing 737-900</td>\n",
       "      <td>6480||4020||5220</td>\n",
       "      <td>505||241||434</td>\n",
       "      <td>coach||coach||coach</td>\n",
       "      <td>8</td>\n",
       "      <td>11</td>\n",
       "      <td>8</td>\n",
       "      <td>20</td>\n",
       "    </tr>\n",
       "    <tr>\n",
       "      <th>2</th>\n",
       "      <td>55ca7cc1d822f310963a25d84656bb47</td>\n",
       "      <td>2022-06-26</td>\n",
       "      <td>2022-07-01</td>\n",
       "      <td>OAK</td>\n",
       "      <td>JFK</td>\n",
       "      <td>HA0NA0MC</td>\n",
       "      <td>PT8H13M</td>\n",
       "      <td>0</td>\n",
       "      <td>0</td>\n",
       "      <td>0</td>\n",
       "      <td>...</td>\n",
       "      <td>Delta||Delta</td>\n",
       "      <td>DL||DL</td>\n",
       "      <td>Embraer 175 (Enhanced Winglets)||</td>\n",
       "      <td>5040||20040</td>\n",
       "      <td>338||2458</td>\n",
       "      <td>coach||coach</td>\n",
       "      <td>6</td>\n",
       "      <td>26</td>\n",
       "      <td>7</td>\n",
       "      <td>1</td>\n",
       "    </tr>\n",
       "    <tr>\n",
       "      <th>3</th>\n",
       "      <td>598db4391eb0bc5752b09c871111a5ce</td>\n",
       "      <td>2022-05-14</td>\n",
       "      <td>2022-05-23</td>\n",
       "      <td>BOS</td>\n",
       "      <td>EWR</td>\n",
       "      <td>QAA3OFEN</td>\n",
       "      <td>PT1H41M</td>\n",
       "      <td>0</td>\n",
       "      <td>0</td>\n",
       "      <td>0</td>\n",
       "      <td>...</td>\n",
       "      <td>United</td>\n",
       "      <td>UA</td>\n",
       "      <td>Airbus A319</td>\n",
       "      <td>6060</td>\n",
       "      <td>185</td>\n",
       "      <td>coach</td>\n",
       "      <td>5</td>\n",
       "      <td>14</td>\n",
       "      <td>5</td>\n",
       "      <td>23</td>\n",
       "    </tr>\n",
       "    <tr>\n",
       "      <th>4</th>\n",
       "      <td>e09441b23c76e8a35be3acb61d8e3e95</td>\n",
       "      <td>2022-09-25</td>\n",
       "      <td>2022-10-13</td>\n",
       "      <td>ATL</td>\n",
       "      <td>BOS</td>\n",
       "      <td>TAUNX0BC</td>\n",
       "      <td>PT10H32M</td>\n",
       "      <td>0</td>\n",
       "      <td>1</td>\n",
       "      <td>0</td>\n",
       "      <td>...</td>\n",
       "      <td>Delta||Delta</td>\n",
       "      <td>DL||DL</td>\n",
       "      <td>Boeing 737-900||Airbus A220-100</td>\n",
       "      <td>7800||5220</td>\n",
       "      <td>762||185</td>\n",
       "      <td>coach||coach</td>\n",
       "      <td>9</td>\n",
       "      <td>25</td>\n",
       "      <td>10</td>\n",
       "      <td>13</td>\n",
       "    </tr>\n",
       "    <tr>\n",
       "      <th>...</th>\n",
       "      <td>...</td>\n",
       "      <td>...</td>\n",
       "      <td>...</td>\n",
       "      <td>...</td>\n",
       "      <td>...</td>\n",
       "      <td>...</td>\n",
       "      <td>...</td>\n",
       "      <td>...</td>\n",
       "      <td>...</td>\n",
       "      <td>...</td>\n",
       "      <td>...</td>\n",
       "      <td>...</td>\n",
       "      <td>...</td>\n",
       "      <td>...</td>\n",
       "      <td>...</td>\n",
       "      <td>...</td>\n",
       "      <td>...</td>\n",
       "      <td>...</td>\n",
       "      <td>...</td>\n",
       "      <td>...</td>\n",
       "      <td>...</td>\n",
       "    </tr>\n",
       "    <tr>\n",
       "      <th>499995</th>\n",
       "      <td>cfd0ca3c7574a87f1ce1dfa83d1a053b</td>\n",
       "      <td>2022-07-02</td>\n",
       "      <td>2022-07-15</td>\n",
       "      <td>LAX</td>\n",
       "      <td>CLT</td>\n",
       "      <td>HA7OA0MQ</td>\n",
       "      <td>PT9H10M</td>\n",
       "      <td>1</td>\n",
       "      <td>0</td>\n",
       "      <td>0</td>\n",
       "      <td>...</td>\n",
       "      <td>Delta||Delta</td>\n",
       "      <td>DL||DL</td>\n",
       "      <td>Airbus A321||Boeing 717</td>\n",
       "      <td>16020||6300</td>\n",
       "      <td>1985||505</td>\n",
       "      <td>coach||coach</td>\n",
       "      <td>7</td>\n",
       "      <td>2</td>\n",
       "      <td>7</td>\n",
       "      <td>15</td>\n",
       "    </tr>\n",
       "    <tr>\n",
       "      <th>499996</th>\n",
       "      <td>3c671c288391b26e5888c84ef143424d</td>\n",
       "      <td>2022-05-04</td>\n",
       "      <td>2022-06-23</td>\n",
       "      <td>CLT</td>\n",
       "      <td>LAX</td>\n",
       "      <td>UAVNA0MC</td>\n",
       "      <td>PT14H11M</td>\n",
       "      <td>0</td>\n",
       "      <td>0</td>\n",
       "      <td>0</td>\n",
       "      <td>...</td>\n",
       "      <td>Delta||Delta||Delta</td>\n",
       "      <td>DL||DL||DL</td>\n",
       "      <td>Boeing 717||Airbus A321||Airbus A320</td>\n",
       "      <td>4020||8100||11760</td>\n",
       "      <td>228||725||1238</td>\n",
       "      <td>coach||coach||coach</td>\n",
       "      <td>5</td>\n",
       "      <td>4</td>\n",
       "      <td>6</td>\n",
       "      <td>23</td>\n",
       "    </tr>\n",
       "    <tr>\n",
       "      <th>499997</th>\n",
       "      <td>2313cf9772214eaddf14651c8847eaeb</td>\n",
       "      <td>2022-08-14</td>\n",
       "      <td>2022-08-26</td>\n",
       "      <td>BOS</td>\n",
       "      <td>OAK</td>\n",
       "      <td>QAA0OHEN</td>\n",
       "      <td>PT11H11M</td>\n",
       "      <td>0</td>\n",
       "      <td>0</td>\n",
       "      <td>0</td>\n",
       "      <td>...</td>\n",
       "      <td>United||Delta||Delta</td>\n",
       "      <td>UA||DL||DL</td>\n",
       "      <td>Airbus A320||Airbus A319||Airbus A220-100</td>\n",
       "      <td>15180||11460||6780</td>\n",
       "      <td>1602||1204||588</td>\n",
       "      <td>coach||coach||coach</td>\n",
       "      <td>8</td>\n",
       "      <td>14</td>\n",
       "      <td>8</td>\n",
       "      <td>26</td>\n",
       "    </tr>\n",
       "    <tr>\n",
       "      <th>499998</th>\n",
       "      <td>9141b51058bfbdf9adc91abb2be9078c</td>\n",
       "      <td>2022-08-09</td>\n",
       "      <td>2022-09-06</td>\n",
       "      <td>EWR</td>\n",
       "      <td>SFO</td>\n",
       "      <td>L7AHZNN1</td>\n",
       "      <td>PT8H13M</td>\n",
       "      <td>0</td>\n",
       "      <td>0</td>\n",
       "      <td>0</td>\n",
       "      <td>...</td>\n",
       "      <td>American Airlines||American Airlines</td>\n",
       "      <td>AA||AA</td>\n",
       "      <td>Boeing 737-800||Boeing 737-800</td>\n",
       "      <td>9300||16740</td>\n",
       "      <td>720||1847</td>\n",
       "      <td>coach||coach</td>\n",
       "      <td>8</td>\n",
       "      <td>9</td>\n",
       "      <td>9</td>\n",
       "      <td>6</td>\n",
       "    </tr>\n",
       "    <tr>\n",
       "      <th>499999</th>\n",
       "      <td>50e4a74280f144bb17fd1e93266c6d05</td>\n",
       "      <td>2022-09-01</td>\n",
       "      <td>2022-09-16</td>\n",
       "      <td>LGA</td>\n",
       "      <td>OAK</td>\n",
       "      <td>QAA4AHEN</td>\n",
       "      <td>PT12H19M</td>\n",
       "      <td>0</td>\n",
       "      <td>0</td>\n",
       "      <td>0</td>\n",
       "      <td>...</td>\n",
       "      <td>United||Delta||Delta</td>\n",
       "      <td>UA||DL||DL</td>\n",
       "      <td>Boeing 737-800||Airbus A220-100||Embraer 175 (...</td>\n",
       "      <td>13560||11340||7140</td>\n",
       "      <td>1419||1204||588</td>\n",
       "      <td>coach||coach||coach</td>\n",
       "      <td>9</td>\n",
       "      <td>1</td>\n",
       "      <td>9</td>\n",
       "      <td>16</td>\n",
       "    </tr>\n",
       "  </tbody>\n",
       "</table>\n",
       "<p>455587 rows × 31 columns</p>\n",
       "</div>"
      ],
      "text/plain": [
       "                                   legId searchDate flightDate  \\\n",
       "0       e95cef0009893d65558d17324e468aea 2022-06-01 2022-06-15   \n",
       "1       778d47d0785023302cd075d735d27db8 2022-08-11 2022-08-20   \n",
       "2       55ca7cc1d822f310963a25d84656bb47 2022-06-26 2022-07-01   \n",
       "3       598db4391eb0bc5752b09c871111a5ce 2022-05-14 2022-05-23   \n",
       "4       e09441b23c76e8a35be3acb61d8e3e95 2022-09-25 2022-10-13   \n",
       "...                                  ...        ...        ...   \n",
       "499995  cfd0ca3c7574a87f1ce1dfa83d1a053b 2022-07-02 2022-07-15   \n",
       "499996  3c671c288391b26e5888c84ef143424d 2022-05-04 2022-06-23   \n",
       "499997  2313cf9772214eaddf14651c8847eaeb 2022-08-14 2022-08-26   \n",
       "499998  9141b51058bfbdf9adc91abb2be9078c 2022-08-09 2022-09-06   \n",
       "499999  50e4a74280f144bb17fd1e93266c6d05 2022-09-01 2022-09-16   \n",
       "\n",
       "       startingAirport destinationAirport fareBasisCode travelDuration  \\\n",
       "0                  PHL                JFK      SUAJZNB3        PT5H17M   \n",
       "1                  CLT                ATL      TA7NA0MC          PT14H   \n",
       "2                  OAK                JFK      HA0NA0MC        PT8H13M   \n",
       "3                  BOS                EWR      QAA3OFEN        PT1H41M   \n",
       "4                  ATL                BOS      TAUNX0BC       PT10H32M   \n",
       "...                ...                ...           ...            ...   \n",
       "499995             LAX                CLT      HA7OA0MQ        PT9H10M   \n",
       "499996             CLT                LAX      UAVNA0MC       PT14H11M   \n",
       "499997             BOS                OAK      QAA0OHEN       PT11H11M   \n",
       "499998             EWR                SFO      L7AHZNN1        PT8H13M   \n",
       "499999             LGA                OAK      QAA4AHEN       PT12H19M   \n",
       "\n",
       "        elapsedDays  isBasicEconomy  isRefundable  ...  \\\n",
       "0                 0               1             0  ...   \n",
       "1                 1               0             0  ...   \n",
       "2                 0               0             0  ...   \n",
       "3                 0               0             0  ...   \n",
       "4                 0               1             0  ...   \n",
       "...             ...             ...           ...  ...   \n",
       "499995            1               0             0  ...   \n",
       "499996            0               0             0  ...   \n",
       "499997            0               0             0  ...   \n",
       "499998            0               0             0  ...   \n",
       "499999            0               0             0  ...   \n",
       "\n",
       "                         segmentsAirlineName  segmentsAirlineCode  \\\n",
       "0       American Airlines||American Airlines               AA||AA   \n",
       "1                        Delta||Delta||Delta           DL||DL||DL   \n",
       "2                               Delta||Delta               DL||DL   \n",
       "3                                     United                   UA   \n",
       "4                               Delta||Delta               DL||DL   \n",
       "...                                      ...                  ...   \n",
       "499995                          Delta||Delta               DL||DL   \n",
       "499996                   Delta||Delta||Delta           DL||DL||DL   \n",
       "499997                  United||Delta||Delta           UA||DL||DL   \n",
       "499998  American Airlines||American Airlines               AA||AA   \n",
       "499999                  United||Delta||Delta           UA||DL||DL   \n",
       "\n",
       "                             segmentsEquipmentDescription  \\\n",
       "0            Airbus A321||AIRBUS INDUSTRIE A321 SHARKLETS   \n",
       "1                 Boeing 717||Airbus A321||Boeing 737-900   \n",
       "2                       Embraer 175 (Enhanced Winglets)||   \n",
       "3                                             Airbus A319   \n",
       "4                         Boeing 737-900||Airbus A220-100   \n",
       "...                                                   ...   \n",
       "499995                            Airbus A321||Boeing 717   \n",
       "499996               Boeing 717||Airbus A321||Airbus A320   \n",
       "499997          Airbus A320||Airbus A319||Airbus A220-100   \n",
       "499998                     Boeing 737-800||Boeing 737-800   \n",
       "499999  Boeing 737-800||Airbus A220-100||Embraer 175 (...   \n",
       "\n",
       "        segmentsDurationInSeconds  segmentsDistance    segmentsCabinCode  \\\n",
       "0                      5160||4920          280||185         coach||coach   \n",
       "1                6480||4020||5220     505||241||434  coach||coach||coach   \n",
       "2                     5040||20040         338||2458         coach||coach   \n",
       "3                            6060               185                coach   \n",
       "4                      7800||5220          762||185         coach||coach   \n",
       "...                           ...               ...                  ...   \n",
       "499995                16020||6300         1985||505         coach||coach   \n",
       "499996          4020||8100||11760    228||725||1238  coach||coach||coach   \n",
       "499997         15180||11460||6780   1602||1204||588  coach||coach||coach   \n",
       "499998                9300||16740         720||1847         coach||coach   \n",
       "499999         13560||11340||7140   1419||1204||588  coach||coach||coach   \n",
       "\n",
       "       searchDate_month searchDate_day flightDate_month flightDate_day  \n",
       "0                     6              1                6             15  \n",
       "1                     8             11                8             20  \n",
       "2                     6             26                7              1  \n",
       "3                     5             14                5             23  \n",
       "4                     9             25               10             13  \n",
       "...                 ...            ...              ...            ...  \n",
       "499995                7              2                7             15  \n",
       "499996                5              4                6             23  \n",
       "499997                8             14                8             26  \n",
       "499998                8              9                9              6  \n",
       "499999                9              1                9             16  \n",
       "\n",
       "[455587 rows x 31 columns]"
      ]
     },
     "execution_count": 257,
     "metadata": {},
     "output_type": "execute_result"
    }
   ],
   "source": [
    "data"
   ]
  },
  {
   "cell_type": "markdown",
   "id": "2086c340",
   "metadata": {},
   "source": [
    "### Extracting duration of the flight in hours"
   ]
  },
  {
   "cell_type": "markdown",
   "id": "aea70443",
   "metadata": {},
   "source": [
    "Current format of the time is in as string form with other character, Eg: `PT5H17M` which is 5 hours and 17 mins. the time is extracted using regex and saved into a new `Flight_duration` column in hours."
   ]
  },
  {
   "cell_type": "code",
   "execution_count": 258,
   "id": "e14e3bfd",
   "metadata": {},
   "outputs": [
    {
     "data": {
      "text/plain": [
       "0          5.283333\n",
       "1         14.000000\n",
       "2          8.216667\n",
       "3          1.683333\n",
       "4         10.533333\n",
       "            ...    \n",
       "499995     9.166667\n",
       "499996    14.183333\n",
       "499997    11.183333\n",
       "499998     8.216667\n",
       "499999    12.316667\n",
       "Name: Flight_duration, Length: 455587, dtype: float64"
      ]
     },
     "execution_count": 258,
     "metadata": {},
     "output_type": "execute_result"
    }
   ],
   "source": [
    "def extract_travel_duration(dataFrame, columnName):\n",
    "    \"\"\"\n",
    "    Inputs:\n",
    "        df [Dataframe]: Dataframe on which the operation is performed\n",
    "        columnName [String]: The column which is being modified\n",
    "        \n",
    "    Output:\n",
    "        New Dataframe with the modified\n",
    "    \"\"\"\n",
    "    time_columns = pd.DataFrame()\n",
    "    hour_segment=r\"(\\d+)H\"\n",
    "    min_segment=r\"(\\d+)M\"\n",
    "    time_columns[\"Hour\"]=dataFrame[columnName].str.extract(hour_segment).fillna(0).astype(int)\n",
    "    time_columns[\"Min\"]=dataFrame[columnName].str.extract(min_segment).fillna(0).astype(int)\n",
    "    dataFrame[\"Flight_duration\"] = time_columns[\"Hour\"]+(time_columns[\"Min\"]/60)\n",
    "    return dataFrame\n",
    "    \n",
    "data=extract_travel_duration(data, \"travelDuration\")\n",
    "data[\"Flight_duration\"]"
   ]
  },
  {
   "cell_type": "markdown",
   "id": "8fe6b1cc",
   "metadata": {},
   "source": [
    "### Extract segments using regex "
   ]
  },
  {
   "cell_type": "markdown",
   "id": "a482d2b3",
   "metadata": {},
   "source": [
    "The data has many columns with data about different airports, airlines, etc., and the flights with layovers have all these data in the same column. We are using regular expressions to extract the different segments and separate them into different columns.\n",
    "\n",
    "For example: The airport codes `ATL||JFK` will be split into `ATL` and `JFK` and added under different columns."
   ]
  },
  {
   "cell_type": "code",
   "execution_count": 259,
   "id": "05504369",
   "metadata": {},
   "outputs": [],
   "source": [
    "def extractSegments(dataFrame, columnName):\n",
    "    \"\"\"\n",
    "    Inputs:\n",
    "        df [Dataframe]: Dataframe on which the operation is performed\n",
    "        columnName [String]: The column which is being modified\n",
    "        \n",
    "    Output:\n",
    "        New Dataframe with the modified\n",
    "    \"\"\"\n",
    "    #Pattern for seperating the segments\n",
    "    segmentPattern=r\"([^||]+)\"\n",
    "   \n",
    "    #Create new columns for the extracted segments\n",
    "    dataFrame[columnName+\"1\"]=dataFrame[columnName].str.findall(segmentPattern).str[0]\n",
    "    dataFrame[columnName+\"2\"]=dataFrame[columnName].str.findall(segmentPattern).str[1]\n",
    "    dataFrame[columnName+\"3\"]=dataFrame[columnName].str.findall(segmentPattern).str[2]\n",
    "    return dataFrame\n",
    "\n",
    "columnsWithSegments=[iterator for iterator in data if iterator.startswith('segments')]\n",
    "\n",
    "for i in columnsWithSegments:\n",
    "    data=extractSegments(data, i)"
   ]
  },
  {
   "cell_type": "markdown",
   "id": "b1a07a91",
   "metadata": {},
   "source": [
    "<hr style=\"border: 5px solid #003262;\" />\n",
    "<hr style=\"border: 1px solid #fdb515;\" />\n",
    "\n",
    "## Exploratory Data Analysis"
   ]
  },
  {
   "cell_type": "markdown",
   "id": "f58e53e5",
   "metadata": {},
   "source": [
    "### Distribution of Base Fare"
   ]
  },
  {
   "cell_type": "markdown",
   "id": "12e46488",
   "metadata": {},
   "source": [
    "We plot a histogram for base fare to see its distribution. This distribution helps us understand how the values are spread apart and helps find outliers present in the data. "
   ]
  },
  {
   "cell_type": "code",
   "execution_count": 260,
   "id": "94947167",
   "metadata": {},
   "outputs": [
    {
     "data": {
      "text/plain": [
       "Text(0.5, 1.0, 'Histogram of BasePrice column')"
      ]
     },
     "execution_count": 260,
     "metadata": {},
     "output_type": "execute_result"
    },
    {
     "data": {
      "image/png": "[encoded data removed]",
      "text/plain": [
       "<Figure size 864x648 with 1 Axes>"
      ]
     },
     "metadata": {
      "needs_background": "light"
     },
     "output_type": "display_data"
    }
   ],
   "source": [
    "sns.histplot(data['baseFare'],color=\"blue\",kde=True,label='baseFare')\n",
    "plt.title(\"Histogram of BasePrice column\")"
   ]
  },
  {
   "cell_type": "markdown",
   "id": "3749e37a",
   "metadata": {},
   "source": [
    "From the plot it seems like most of the entries base price are in the range of 0-1500. "
   ]
  },
  {
   "cell_type": "markdown",
   "id": "010d12e0",
   "metadata": {},
   "source": [
    "### Best Connected Airport (Airport with the highest traffic)"
   ]
  },
  {
   "cell_type": "markdown",
   "id": "936e1215",
   "metadata": {},
   "source": [
    "The best connected data will be the one which has the highest amount of traffic passing through it. The best connected airport will be found out using the arrival and departure data given in the dataframe.\n",
    "\n",
    "The layovers will have redundant data i.e., the airport will be repeated in the arrival and departure columns which will be taken into account."
   ]
  },
  {
   "cell_type": "code",
   "execution_count": 261,
   "id": "6b436762",
   "metadata": {},
   "outputs": [
    {
     "data": {
      "text/plain": [
       "ORD    96521\n",
       "ATL    87834\n",
       "CLT    87740\n",
       "LAX    87118\n",
       "BOS    81263\n",
       "dtype: int64"
      ]
     },
     "execution_count": 261,
     "metadata": {},
     "output_type": "execute_result"
    }
   ],
   "source": [
    "airportCodesSeries=data['segmentsArrivalAirportCode1'].append(data['segmentsArrivalAirportCode2']).append(data['segmentsArrivalAirportCode3']).append(data['segmentsDepartureAirportCode1'])\n",
    "airportCodesSeries.value_counts().head(5)"
   ]
  },
  {
   "cell_type": "code",
   "execution_count": 262,
   "id": "3a890954",
   "metadata": {},
   "outputs": [
    {
     "data": {
      "text/plain": [
       "Text(0, 0.5, 'Count')"
      ]
     },
     "execution_count": 262,
     "metadata": {},
     "output_type": "execute_result"
    },
    {
     "data": {
      "image/png": "[encoded data removed]",
      "text/plain": [
       "<Figure size 864x648 with 1 Axes>"
      ]
     },
     "metadata": {
      "needs_background": "light"
     },
     "output_type": "display_data"
    }
   ],
   "source": [
    "Height_plot=np.array(airportCodesSeries.value_counts().head(5))\n",
    "plt.bar(x=airportCodesSeries.value_counts().head(5).index,height=Height_plot,color=['orange', 'red', 'green', 'purple', 'pink'])\n",
    "plt.title(\"Top 5 best connected airports\")\n",
    "plt.xlabel(\"Airports\")\n",
    "plt.ylabel(\"Count\")"
   ]
  },
  {
   "cell_type": "markdown",
   "id": "3c446616",
   "metadata": {},
   "source": [
    "The **Chicago, IL O’Hare (ORD)** airport is the best connected airport meaning that the highest amount of domestic air traffic goes through this airport compared to other airports in the United States."
   ]
  },
  {
   "cell_type": "markdown",
   "id": "21b57ac7",
   "metadata": {},
   "source": [
    "### Fare price for different flight duration"
   ]
  },
  {
   "cell_type": "markdown",
   "id": "2133f9c4",
   "metadata": {},
   "source": [
    "Plotting a graph of Fare price vs flight duration will give an understanding of its trend and any correlation which might be present between the features."
   ]
  },
  {
   "cell_type": "code",
   "execution_count": 324,
   "id": "c0cf7248",
   "metadata": {},
   "outputs": [
    {
     "data": {
      "text/plain": [
       "Text(0.5, 1.0, 'Basefare vs Flight duration')"
      ]
     },
     "execution_count": 324,
     "metadata": {},
     "output_type": "execute_result"
    },
    {
     "data": {
      "image/png": "[encoded data removed]",
      "text/plain": [
       "<Figure size 864x648 with 1 Axes>"
      ]
     },
     "metadata": {
      "needs_background": "light"
     },
     "output_type": "display_data"
    }
   ],
   "source": [
    "sns.lineplot(x=data[\"Flight_duration\"], y=data[\"baseFare\"])\n",
    "plt.title(\"Basefare vs Flight duration\")"
   ]
  },
  {
   "cell_type": "code",
   "execution_count": 264,
   "id": "d2188d8f",
   "metadata": {},
   "outputs": [
    {
     "data": {
      "text/plain": [
       "(2.0, 10.0)"
      ]
     },
     "execution_count": 264,
     "metadata": {},
     "output_type": "execute_result"
    },
    {
     "data": {
      "image/png": "[encoded data removed]",
      "text/plain": [
       "<Figure size 864x648 with 1 Axes>"
      ]
     },
     "metadata": {
      "needs_background": "light"
     },
     "output_type": "display_data"
    }
   ],
   "source": [
    "sns.lineplot(x=data[\"Flight_duration\"], y=data[\"baseFare\"])\n",
    "plt.title(\"Basefare vs Flight duration\")\n",
    "plt.xlim([2, 10])"
   ]
  },
  {
   "cell_type": "markdown",
   "id": "366094f0",
   "metadata": {},
   "source": [
    "From the above plot there seems to be a linear relationship between flight duration and baseFare in the range 2 to 15 hour flights"
   ]
  },
  {
   "cell_type": "markdown",
   "id": "c1c5fcf1",
   "metadata": {},
   "source": [
    "### The minimum and average distance for which people prefer flights"
   ]
  },
  {
   "cell_type": "markdown",
   "id": "7926f874",
   "metadata": {},
   "source": [
    "The distance travelled in each travel is calculated using segmentDistance columns and so the distance for which people prefer flights can be analyzed."
   ]
  },
  {
   "cell_type": "code",
   "execution_count": 265,
   "id": "34052a1c",
   "metadata": {
    "scrolled": true
   },
   "outputs": [
    {
     "data": {
      "text/html": [
       "<div>\n",
       "<style scoped>\n",
       "    .dataframe tbody tr th:only-of-type {\n",
       "        vertical-align: middle;\n",
       "    }\n",
       "\n",
       "    .dataframe tbody tr th {\n",
       "        vertical-align: top;\n",
       "    }\n",
       "\n",
       "    .dataframe thead th {\n",
       "        text-align: right;\n",
       "    }\n",
       "</style>\n",
       "<table border=\"1\" class=\"dataframe\">\n",
       "  <thead>\n",
       "    <tr style=\"text-align: right;\">\n",
       "      <th></th>\n",
       "      <th>segmentsDistance</th>\n",
       "      <th>segmentsDistance1</th>\n",
       "      <th>segmentsDistance2</th>\n",
       "      <th>segmentsDistance3</th>\n",
       "    </tr>\n",
       "  </thead>\n",
       "  <tbody>\n",
       "    <tr>\n",
       "      <th>0</th>\n",
       "      <td>280||185</td>\n",
       "      <td>280</td>\n",
       "      <td>185</td>\n",
       "      <td>NaN</td>\n",
       "    </tr>\n",
       "    <tr>\n",
       "      <th>1</th>\n",
       "      <td>505||241||434</td>\n",
       "      <td>505</td>\n",
       "      <td>241</td>\n",
       "      <td>434</td>\n",
       "    </tr>\n",
       "    <tr>\n",
       "      <th>2</th>\n",
       "      <td>338||2458</td>\n",
       "      <td>338</td>\n",
       "      <td>2458</td>\n",
       "      <td>NaN</td>\n",
       "    </tr>\n",
       "    <tr>\n",
       "      <th>3</th>\n",
       "      <td>185</td>\n",
       "      <td>185</td>\n",
       "      <td>NaN</td>\n",
       "      <td>NaN</td>\n",
       "    </tr>\n",
       "    <tr>\n",
       "      <th>4</th>\n",
       "      <td>762||185</td>\n",
       "      <td>762</td>\n",
       "      <td>185</td>\n",
       "      <td>NaN</td>\n",
       "    </tr>\n",
       "    <tr>\n",
       "      <th>...</th>\n",
       "      <td>...</td>\n",
       "      <td>...</td>\n",
       "      <td>...</td>\n",
       "      <td>...</td>\n",
       "    </tr>\n",
       "    <tr>\n",
       "      <th>499995</th>\n",
       "      <td>1985||505</td>\n",
       "      <td>1985</td>\n",
       "      <td>505</td>\n",
       "      <td>NaN</td>\n",
       "    </tr>\n",
       "    <tr>\n",
       "      <th>499996</th>\n",
       "      <td>228||725||1238</td>\n",
       "      <td>228</td>\n",
       "      <td>725</td>\n",
       "      <td>1238</td>\n",
       "    </tr>\n",
       "    <tr>\n",
       "      <th>499997</th>\n",
       "      <td>1602||1204||588</td>\n",
       "      <td>1602</td>\n",
       "      <td>1204</td>\n",
       "      <td>588</td>\n",
       "    </tr>\n",
       "    <tr>\n",
       "      <th>499998</th>\n",
       "      <td>720||1847</td>\n",
       "      <td>720</td>\n",
       "      <td>1847</td>\n",
       "      <td>NaN</td>\n",
       "    </tr>\n",
       "    <tr>\n",
       "      <th>499999</th>\n",
       "      <td>1419||1204||588</td>\n",
       "      <td>1419</td>\n",
       "      <td>1204</td>\n",
       "      <td>588</td>\n",
       "    </tr>\n",
       "  </tbody>\n",
       "</table>\n",
       "<p>455587 rows × 4 columns</p>\n",
       "</div>"
      ],
      "text/plain": [
       "       segmentsDistance segmentsDistance1 segmentsDistance2 segmentsDistance3\n",
       "0              280||185               280               185               NaN\n",
       "1         505||241||434               505               241               434\n",
       "2             338||2458               338              2458               NaN\n",
       "3                   185               185               NaN               NaN\n",
       "4              762||185               762               185               NaN\n",
       "...                 ...               ...               ...               ...\n",
       "499995        1985||505              1985               505               NaN\n",
       "499996   228||725||1238               228               725              1238\n",
       "499997  1602||1204||588              1602              1204               588\n",
       "499998        720||1847               720              1847               NaN\n",
       "499999  1419||1204||588              1419              1204               588\n",
       "\n",
       "[455587 rows x 4 columns]"
      ]
     },
     "execution_count": 265,
     "metadata": {},
     "output_type": "execute_result"
    }
   ],
   "source": [
    "data.loc[:,['segmentsDistance','segmentsDistance1', 'segmentsDistance2', 'segmentsDistance3']]"
   ]
  },
  {
   "cell_type": "code",
   "execution_count": 266,
   "id": "c4b9ec60",
   "metadata": {},
   "outputs": [],
   "source": [
    "data['segmentsDistance1']=data['segmentsDistance1'].fillna(0).astype(int)\n",
    "data['segmentsDistance2']=data['segmentsDistance2'].fillna(0).astype(int)\n",
    "data['segmentsDistance3']=data['segmentsDistance3'].fillna(0).astype(int)\n",
    "data['totalDistance']=data['segmentsDistance1']+data['segmentsDistance2']+data['segmentsDistance3']"
   ]
  },
  {
   "cell_type": "code",
   "execution_count": 267,
   "id": "76086ce3",
   "metadata": {},
   "outputs": [
    {
     "data": {
      "text/plain": [
       "(count    455587.000000\n",
       " mean       1625.940648\n",
       " std         855.455409\n",
       " min          89.000000\n",
       " 25%         903.000000\n",
       " 50%        1482.000000\n",
       " 75%        2426.000000\n",
       " max        4498.000000\n",
       " Name: totalDistance, dtype: float64,\n",
       " 1482.0)"
      ]
     },
     "execution_count": 267,
     "metadata": {},
     "output_type": "execute_result"
    }
   ],
   "source": [
    "data['totalDistance'].describe(), data['totalDistance'].median()"
   ]
  },
  {
   "cell_type": "markdown",
   "id": "7d650136",
   "metadata": {},
   "source": [
    "The minimum distance travelled using domestic flights is **89 miles** and a median distance covered by a domestic flight is **1482 miles**."
   ]
  },
  {
   "cell_type": "markdown",
   "id": "e73c28f5",
   "metadata": {},
   "source": [
    "### whether the average flight is fully booked /average% of seat booked- Chirag"
   ]
  },
  {
   "cell_type": "code",
   "execution_count": 268,
   "id": "abdfec04",
   "metadata": {},
   "outputs": [
    {
     "name": "stdout",
     "output_type": "stream",
     "text": [
      "        segmentsAirlineName1  seatsRemaining  averageSeatsRemaining\n",
      "1          American Airlines          892833                    2.0\n",
      "5                      Delta          874055                    2.0\n",
      "11                    United          716045                    2.0\n",
      "7            JetBlue Airways          265087                    1.0\n",
      "0            Alaska Airlines          138644                    0.0\n",
      "6          Frontier Airlines           21910                    0.0\n",
      "8               Key Lime Air            1174                    0.0\n",
      "10      Sun Country Airlines             891                    0.0\n",
      "9   Southern Airways Express             788                    0.0\n",
      "2               Boutique Air             288                    0.0\n",
      "3                   Cape Air             258                    0.0\n",
      "4           Contour Airlines              20                    0.0\n"
     ]
    }
   ],
   "source": [
    "dataSegment1 = data.groupby('segmentsAirlineName1', as_index=False)['seatsRemaining'].sum()\n",
    "dataSegment2 = data.groupby('segmentsAirlineName2', as_index=False)['seatsRemaining'].sum()\n",
    "dataSegment3 = data.groupby('segmentsAirlineName3', as_index=False)['seatsRemaining'].sum()\n",
    "dataSegment1['averageSeatsRemaining'] = (dataSegment1['seatsRemaining']/len(data.index)).round(0)\n",
    "print(dataSegment1.sort_values(by = 'seatsRemaining', ascending = False))\n"
   ]
  },
  {
   "cell_type": "markdown",
   "id": "f1f7c78f",
   "metadata": {},
   "source": [
    "### top 5 most popular airlines- Chirag"
   ]
  },
  {
   "cell_type": "code",
   "execution_count": 269,
   "id": "f4b2f1ac",
   "metadata": {},
   "outputs": [
    {
     "data": {
      "text/plain": [
       "American Airlines    413094\n",
       "Delta                346429\n",
       "United               333000\n",
       "JetBlue Airways       99124\n",
       "Alaska Airlines       76781\n",
       "dtype: int64"
      ]
     },
     "execution_count": 269,
     "metadata": {},
     "output_type": "execute_result"
    }
   ],
   "source": [
    "airlineName=data['segmentsAirlineName1'].append(data['segmentsAirlineName2']).append(data['segmentsAirlineName3']).append(data['segmentsAirlineName1'])\n",
    "airlineName.value_counts().head(5)"
   ]
  },
  {
   "cell_type": "markdown",
   "id": "483db563",
   "metadata": {},
   "source": [
    "<hr style=\"border: 5px solid #003262;\" />\n",
    "<hr style=\"border: 1px solid #fdb515;\" />\n",
    "\n",
    "## Prediction of fare"
   ]
  },
  {
   "cell_type": "markdown",
   "id": "01a542ee",
   "metadata": {},
   "source": [
    "### Feature engineering"
   ]
  },
  {
   "cell_type": "markdown",
   "id": "4a799845",
   "metadata": {},
   "source": [
    "### One hot encoding for categorical data"
   ]
  },
  {
   "cell_type": "markdown",
   "id": "5f2b5c89",
   "metadata": {},
   "source": [
    "The categorical data present cannot be used directly in the prediction as they do not contain measurable data. The data is hence converted into features using `OneHotEncoder` from `sklearn`.\n",
    "\n",
    "The columns identified to be OneHotEncoded are:\n",
    "`startingAirport`, `destinationAirport`, `segmentsArrivalAirportCode`, `segmentsDepartureAirportCode`, `segmentsAirlineName`, `segmentsAirlineCode`, `segmentsCabinCode`.\n",
    "\n",
    "In these columns, `segmentsAirlineName` and `segmentsAirlineCode` convey the same information and therefore redundant. One of the 2 columns is suffiecient and we have chosen `segmentsAirlineCode`.\n",
    "\n",
    "The data of `startingAirport` and `destinationAirport` are already included in `segmentsArrivalAirportCode` and `segmentsDepartureAirportCode` and so are redundant information."
   ]
  },
  {
   "cell_type": "code",
   "execution_count": 270,
   "id": "36eb89b5",
   "metadata": {},
   "outputs": [],
   "source": [
    "from sklearn.preprocessing import OneHotEncoder"
   ]
  },
  {
   "cell_type": "code",
   "execution_count": 271,
   "id": "dc89758b",
   "metadata": {},
   "outputs": [],
   "source": [
    "def oheCabinCodeColumns(oheData):\n",
    "    \"\"\"\n",
    "        Inputs:\n",
    "            oheData [Dataframe]: Dataframe on which the operation is performed\n",
    "        \n",
    "        Output:\n",
    "            Dataframe with the OneHotEncoded features from the column 'segmentsCabinCode'\n",
    "    \"\"\"\n",
    "    \n",
    "    #columnName is the column to be OneHotEncoded\n",
    "    columnName='segmentsCabinCode'\n",
    "    \n",
    "    #The column 'segmentsCabinCode' has been split into 3 different columns (the layover data) and so all the 3 columns have to be OneHotEncoded\n",
    "    oneHotEnc = OneHotEncoder(dtype=int, handle_unknown='ignore')\n",
    "    oheDataColumn3 = oneHotEnc.fit_transform(oheData[[columnName+'3']]).toarray()\n",
    "    numberOfColumns3=np.shape(oheDataColumn3)[1]\n",
    "    oheDataColumn2 = oneHotEnc.fit_transform(oheData[[columnName+'2']]).toarray()\n",
    "    numberOfColumns2=np.shape(oheDataColumn2)[1]\n",
    "    oheDataColumn1 = oneHotEnc.fit_transform(oheData[[columnName+'1']]).toarray()\n",
    "    numberOfColumns1=np.shape(oheDataColumn1)[1]\n",
    "    \n",
    "    #The minimum number of columns are selected because the segment2 and segment3 have NaNs which are absent in segment1 and also unnecessary to the prediction\n",
    "    numberOfColumns=min(numberOfColumns3, numberOfColumns2, numberOfColumns1)\n",
    "    \n",
    "    #The OR operation is done as the features from the 3 columns are the data of the same categories and so a common set of columns for all the 3 segments will suffice\n",
    "    oheData[oneHotEnc.categories_[0]] = oheDataColumn1[:,:numberOfColumns] | oheDataColumn2[:,:numberOfColumns] | oheDataColumn3[:,:numberOfColumns]\n",
    "    return oheData"
   ]
  },
  {
   "cell_type": "code",
   "execution_count": 272,
   "id": "67d36c0b",
   "metadata": {},
   "outputs": [],
   "source": [
    "#data=oheCabinCodeColumns(data)"
   ]
  },
  {
   "cell_type": "code",
   "execution_count": 273,
   "id": "6603d8b8",
   "metadata": {},
   "outputs": [],
   "source": [
    "def oheSegmentsAirportCode_AirlineName(oheData, columnName):\n",
    "    \"\"\"\n",
    "        Inputs:\n",
    "            oheData [Dataframe]: Dataframe on which the operation is performed\n",
    "            columnName [String]: The column name (only the ones mentioned below) of the column to be OneHotEncoded\n",
    "                                 Acceptable columnNames are 'segmentsArrivalAirportCode', 'segmentsDepartureAirportCode', or 'segmentsAirlineCode'\n",
    "        \n",
    "        Output:\n",
    "            Dataframe with the OneHotEncoded features from the column columnName\n",
    "    \"\"\"\n",
    "\n",
    "    oneHotEnc = OneHotEncoder(dtype=int, handle_unknown='ignore')\n",
    "    \n",
    "    #The acceptable columnName columns have been split into 3 different columns (the layover data) and so all the 3 columns have to be OneHotEncoded\n",
    "    #dfIntermediate dataframes are to get the features of each of the segments individually\n",
    "    dfIntermediate3=pd.DataFrame()\n",
    "    dfIntermediate2=pd.DataFrame()\n",
    "    dfIntermediate1=pd.DataFrame()\n",
    "    oheDataColumn3 = oneHotEnc.fit_transform(oheData[[columnName+'3']]).toarray()\n",
    "    dfIntermediate3[oneHotEnc.categories_[0]]=oheDataColumn3\n",
    "    oheDataColumn2 = oneHotEnc.fit_transform(oheData[[columnName+'2']]).toarray()\n",
    "    dfIntermediate2[oneHotEnc.categories_[0]]=oheDataColumn2\n",
    "    oheDataColumn1 = oneHotEnc.fit_transform(oheData[[columnName+'1']]).toarray()\n",
    "    dfIntermediate1[oneHotEnc.categories_[0]]=oheDataColumn1\n",
    "    \n",
    "    #The OR operation is done as the features from the 3 columns are the data of the same categories and so a common set of columns for all the 3 segments will suffice\n",
    "    dfIntermediate = (dfIntermediate3 | dfIntermediate2 | dfIntermediate1)\n",
    "    \n",
    "    #Dropping the feature NaN\n",
    "    dfIntermediate = dfIntermediate.loc[:, dfIntermediate.columns.notna()]\n",
    "    \n",
    "    #Adding columnName as the prefix to the features to differentiate between the arrival and departure data\n",
    "    dfIntermediate.columns=[columnName+'_'+iterator for iterator in dfIntermediate.columns]\n",
    "    \n",
    "    oheData[dfIntermediate.columns] = dfIntermediate\n",
    "    \n",
    "    #Replacing NaNs with 0\n",
    "    oheData[dfIntermediate.columns] = oheData[dfIntermediate.columns].fillna(0).astype(int)\n",
    "    return oheData"
   ]
  },
  {
   "cell_type": "markdown",
   "id": "900cbbb6",
   "metadata": {},
   "source": [
    "The categorical data have been coverted into features to be used in the prediction."
   ]
  },
  {
   "cell_type": "markdown",
   "id": "293e73ed",
   "metadata": {},
   "source": [
    "### pipeline function"
   ]
  },
  {
   "cell_type": "code",
   "execution_count": 274,
   "id": "6f5dd033",
   "metadata": {},
   "outputs": [],
   "source": [
    "def process_data_gm(data, pipeline_functions):\n",
    "    \"\"\"Process the data for a guided model.\"\"\"\n",
    "    for function, arguments, keyword_arguments in pipeline_functions:\n",
    "        if keyword_arguments and (not arguments):\n",
    "            data = data.pipe(function, **keyword_arguments)\n",
    "        elif (not keyword_arguments) and (arguments):\n",
    "            data = data.pipe(function, *arguments)\n",
    "        else:\n",
    "            data = data.pipe(function)\n",
    "    return data\n",
    "\n",
    "def drop_columns(data, *col):\n",
    "    \"\"\"Drop columns passed as arguments.\"\"\"\n",
    "    return data.drop(list(col),axis=1)\n"
   ]
  },
  {
   "cell_type": "code",
   "execution_count": 313,
   "id": "53703c80",
   "metadata": {},
   "outputs": [],
   "source": [
    "data_test=data.copy()"
   ]
  },
  {
   "cell_type": "code",
   "execution_count": 314,
   "id": "ae025767",
   "metadata": {},
   "outputs": [],
   "source": [
    "#processing the data on Feature engineering functions\n",
    "def log_transform(data, col):\n",
    "    data['Log ' + col] = np.log(data[col])\n",
    "    return data\n",
    "\n",
    "pipelines = [\n",
    "    (log_transform, None, {'col': 'baseFare'}),\n",
    "    (oheCabinCodeColumns, None, None),\n",
    "    (oheSegmentsAirportCode_AirlineName, None, {'columnName':'segmentsArrivalAirportCode'}),    \n",
    "    (oheSegmentsAirportCode_AirlineName, None, {'columnName':'segmentsDepartureAirportCode'}),    \n",
    "    (oheSegmentsAirportCode_AirlineName, None, {'columnName':'segmentsAirlineCode'}),    \n",
    "    (drop_columns, ['legId', 'searchDate', 'flightDate','startingAirport','baseFare',\n",
    "       'destinationAirport', 'fareBasisCode', 'travelDuration', \n",
    "       'totalFare', 'segmentsDepartureTimeEpochSeconds', 'segmentsDepartureTimeRaw',\n",
    "       'segmentsArrivalTimeEpochSeconds', 'segmentsArrivalTimeRaw',\n",
    "       'segmentsArrivalAirportCode', 'segmentsDepartureAirportCode',\n",
    "       'segmentsAirlineName', 'segmentsAirlineCode',\n",
    "       'segmentsEquipmentDescription', 'segmentsDurationInSeconds',\n",
    "       'segmentsDistance', 'segmentsCabinCode','segmentsDepartureTimeRaw1','segmentsDepartureTimeRaw2','segmentsDepartureTimeRaw3',\n",
    "        'segmentsArrivalTimeRaw1','segmentsArrivalTimeRaw2',\n",
    "       'segmentsArrivalTimeRaw3', 'segmentsArrivalAirportCode1',\n",
    "       'segmentsArrivalAirportCode2', 'segmentsArrivalAirportCode3',\n",
    "       'segmentsDepartureAirportCode1', 'segmentsDepartureAirportCode2',\n",
    "       'segmentsDepartureAirportCode3', 'segmentsAirlineName1',\n",
    "       'segmentsAirlineName2', 'segmentsAirlineName3', 'segmentsAirlineCode1',\n",
    "       'segmentsAirlineCode2', 'segmentsAirlineCode3',\n",
    "       'segmentsEquipmentDescription1', 'segmentsEquipmentDescription2',\n",
    "       'segmentsEquipmentDescription3','segmentsCabinCode1', 'segmentsCabinCode2', 'segmentsCabinCode3'\n",
    "        ], None)\n",
    "]"
   ]
  },
  {
   "cell_type": "code",
   "execution_count": 315,
   "id": "7c2a82ea",
   "metadata": {},
   "outputs": [
    {
     "data": {
      "text/plain": [
       "Index(['legId', 'searchDate', 'flightDate', 'startingAirport',\n",
       "       'destinationAirport', 'fareBasisCode', 'travelDuration', 'elapsedDays',\n",
       "       'isBasicEconomy', 'isRefundable', 'isNonStop', 'baseFare', 'totalFare',\n",
       "       'seatsRemaining', 'totalTravelDistance',\n",
       "       'segmentsDepartureTimeEpochSeconds', 'segmentsDepartureTimeRaw',\n",
       "       'segmentsArrivalTimeEpochSeconds', 'segmentsArrivalTimeRaw',\n",
       "       'segmentsArrivalAirportCode', 'segmentsDepartureAirportCode',\n",
       "       'segmentsAirlineName', 'segmentsAirlineCode',\n",
       "       'segmentsEquipmentDescription', 'segmentsDurationInSeconds',\n",
       "       'segmentsDistance', 'segmentsCabinCode', 'searchDate_month',\n",
       "       'searchDate_day', 'flightDate_month', 'flightDate_day',\n",
       "       'Flight_duration', 'segmentsDepartureTimeEpochSeconds1',\n",
       "       'segmentsDepartureTimeEpochSeconds2',\n",
       "       'segmentsDepartureTimeEpochSeconds3', 'segmentsDepartureTimeRaw1',\n",
       "       'segmentsDepartureTimeRaw2', 'segmentsDepartureTimeRaw3',\n",
       "       'segmentsArrivalTimeEpochSeconds1', 'segmentsArrivalTimeEpochSeconds2',\n",
       "       'segmentsArrivalTimeEpochSeconds3', 'segmentsArrivalTimeRaw1',\n",
       "       'segmentsArrivalTimeRaw2', 'segmentsArrivalTimeRaw3',\n",
       "       'segmentsArrivalAirportCode1', 'segmentsArrivalAirportCode2',\n",
       "       'segmentsArrivalAirportCode3', 'segmentsDepartureAirportCode1',\n",
       "       'segmentsDepartureAirportCode2', 'segmentsDepartureAirportCode3',\n",
       "       'segmentsAirlineName1', 'segmentsAirlineName2', 'segmentsAirlineName3',\n",
       "       'segmentsAirlineCode1', 'segmentsAirlineCode2', 'segmentsAirlineCode3',\n",
       "       'segmentsEquipmentDescription1', 'segmentsEquipmentDescription2',\n",
       "       'segmentsEquipmentDescription3', 'segmentsDurationInSeconds1',\n",
       "       'segmentsDurationInSeconds2', 'segmentsDurationInSeconds3',\n",
       "       'segmentsDistance1', 'segmentsDistance2', 'segmentsDistance3',\n",
       "       'segmentsCabinCode1', 'segmentsCabinCode2', 'segmentsCabinCode3',\n",
       "       'totalDistance'],\n",
       "      dtype='object')"
      ]
     },
     "execution_count": 315,
     "metadata": {},
     "output_type": "execute_result"
    }
   ],
   "source": [
    "data.columns"
   ]
  },
  {
   "cell_type": "code",
   "execution_count": 316,
   "id": "fffc48a8",
   "metadata": {},
   "outputs": [],
   "source": [
    "data_test = process_data_gm(data_test, pipelines)"
   ]
  },
  {
   "cell_type": "code",
   "execution_count": 317,
   "id": "d2d4da8f",
   "metadata": {},
   "outputs": [
    {
     "data": {
      "text/plain": [
       "int32      393\n",
       "int64        9\n",
       "float64      3\n",
       "dtype: int64"
      ]
     },
     "execution_count": 317,
     "metadata": {},
     "output_type": "execute_result"
    }
   ],
   "source": [
    "data_test.loc[:,['segmentsDepartureTimeEpochSeconds1',\n",
    "       'segmentsDepartureTimeEpochSeconds2',\n",
    "       'segmentsDepartureTimeEpochSeconds3',\n",
    "       'segmentsArrivalTimeEpochSeconds1', 'segmentsArrivalTimeEpochSeconds2',\n",
    "       'segmentsArrivalTimeEpochSeconds3', 'segmentsDurationInSeconds1',\n",
    "       'segmentsDurationInSeconds2', 'segmentsDurationInSeconds3']]=data_test.loc[:,['segmentsDepartureTimeEpochSeconds1',\n",
    "       'segmentsDepartureTimeEpochSeconds2',\n",
    "       'segmentsDepartureTimeEpochSeconds3',\n",
    "       'segmentsArrivalTimeEpochSeconds1', 'segmentsArrivalTimeEpochSeconds2',\n",
    "       'segmentsArrivalTimeEpochSeconds3', 'segmentsDurationInSeconds1',\n",
    "       'segmentsDurationInSeconds2', 'segmentsDurationInSeconds3']].fillna(0).astype(int)\n",
    "data_test.dtypes.value_counts()"
   ]
  },
  {
   "cell_type": "code",
   "execution_count": 318,
   "id": "34a78090",
   "metadata": {},
   "outputs": [],
   "source": [
    "#data_col.iloc[:,0:10].columns"
   ]
  },
  {
   "cell_type": "markdown",
   "id": "10719b30",
   "metadata": {},
   "source": [
    "### NAN"
   ]
  },
  {
   "cell_type": "code",
   "execution_count": 319,
   "id": "a3496999",
   "metadata": {},
   "outputs": [],
   "source": [
    "#data_test.isna().sum().value_counts()"
   ]
  },
  {
   "cell_type": "markdown",
   "id": "07e443ad",
   "metadata": {},
   "source": [
    "### Splitting data for testing, training and validation"
   ]
  },
  {
   "cell_type": "markdown",
   "id": "d6714e6c",
   "metadata": {},
   "source": [
    "We are splitting the data into three segments for testing, training and validation in the proportion of 8:1:1."
   ]
  },
  {
   "cell_type": "code",
   "execution_count": 320,
   "id": "e364a776",
   "metadata": {},
   "outputs": [
    {
     "name": "stdout",
     "output_type": "stream",
     "text": [
      "(364469, 404)\n",
      "(364469,)\n",
      "(45559, 404)\n",
      "(45559,)\n",
      "(45559, 404)\n",
      "(45559,)\n"
     ]
    },
    {
     "data": {
      "text/plain": [
       "(None, None)"
      ]
     },
     "execution_count": 320,
     "metadata": {},
     "output_type": "execute_result"
    }
   ],
   "source": [
    "from sklearn.model_selection import train_test_split\n",
    "\n",
    "# Let's say we want to split the data in 80:10:10 for train:valid:test dataset\n",
    "train_size=0.8\n",
    "\n",
    "X = data_test.drop(columns = ['Log baseFare']).copy()\n",
    "y = data_test['Log baseFare']\n",
    "\n",
    "# In the first step we will split the data in training and remaining dataset\n",
    "X_train, X_rem, y_train, y_rem = train_test_split(X,y, train_size=0.8)\n",
    "\n",
    "# Now since we want the valid and test size to be equal (10% each of overall data). \n",
    "# we have to define valid_size=0.5 (that is 50% of remaining data)\n",
    "test_size = 0.5\n",
    "X_valid, X_test, y_valid, y_test = train_test_split(X_rem,y_rem, test_size=0.5)\n",
    "print(X_train.shape), print(y_train.shape)\n",
    "print(X_valid.shape), print(y_valid.shape)\n",
    "print(X_test.shape), print(y_test.shape)"
   ]
  },
  {
   "cell_type": "markdown",
   "id": "f330f88d",
   "metadata": {},
   "source": [
    "### Prediction using Linear Regression without L2 Regularziation"
   ]
  },
  {
   "cell_type": "code",
   "execution_count": 321,
   "id": "cef53259",
   "metadata": {},
   "outputs": [],
   "source": [
    "from sklearn import linear_model as lm\n",
    "\n",
    "linear_model = lm.LinearRegression(fit_intercept=True) # creating the linear model"
   ]
  },
  {
   "cell_type": "code",
   "execution_count": 322,
   "id": "a3d603de",
   "metadata": {},
   "outputs": [
    {
     "data": {
      "text/plain": [
       "(0.5068971117888034, 0.5084851262518708)"
      ]
     },
     "execution_count": 322,
     "metadata": {},
     "output_type": "execute_result"
    }
   ],
   "source": [
    "y_fitted = linear_model.fit(X_train, y_train) #fitting the model on x_train, y_train\n",
    "y_predicted_test = linear_model.predict(X_test) # prediction using x_train\n",
    "\n",
    "#linear_model.coef_\n",
    "linear_model.score(X_train, y_train), linear_model.score(X_test, y_test)"
   ]
  },
  {
   "cell_type": "markdown",
   "id": "a30a8c93",
   "metadata": {},
   "source": [
    "### Prediction with L2 Regularziation"
   ]
  },
  {
   "cell_type": "markdown",
   "id": "74f4355d",
   "metadata": {},
   "source": [
    "In this model we will be adding Regulariziation to combat overfitting if present"
   ]
  },
  {
   "cell_type": "code",
   "execution_count": 307,
   "id": "9e49c369",
   "metadata": {},
   "outputs": [],
   "source": [
    "from sklearn.linear_model import Ridge\n",
    "\n",
    "ridge_model = Ridge(alpha = 100) # creating the Regularized model"
   ]
  },
  {
   "cell_type": "code",
   "execution_count": 309,
   "id": "61c602d5",
   "metadata": {},
   "outputs": [
    {
     "data": {
      "text/plain": [
       "array([ 1.21374480e-04, -1.13075079e-02,  4.40867061e-04, -5.29701994e-03,\n",
       "       -2.09726247e-04, -3.06788356e-06,  1.43477879e-03,  4.25381424e-05,\n",
       "        1.12186110e-03,  3.25984553e-05, -2.67991376e-03, -2.20574138e-07,\n",
       "       -2.22190564e-06, -2.88688713e-06,  2.19758843e-07,  2.22188172e-06,\n",
       "        2.88688163e-06,  4.38507919e-07, -2.77821581e-06, -2.35233418e-06,\n",
       "       -2.57835121e-06,  8.49742089e-06, -1.64644280e-06,  4.27541076e-06,\n",
       "        1.08524005e+00, -2.19692115e-02,  4.90317948e-02, -2.68021455e-02,\n",
       "       -5.66770889e-03, -4.25118424e-09,  2.25206959e-09, -4.26485781e-04,\n",
       "        4.62579293e-09,  8.26723370e-09, -4.78518839e-09, -6.36442855e-06,\n",
       "        6.35267383e-09,  2.22848429e-09,  4.56987910e-09, -4.74493068e-09,\n",
       "       -1.58055242e-09,  9.37058927e-09, -1.40382007e-08, -6.30377207e-09,\n",
       "        2.62074780e-09,  1.43174586e-09,  5.65428530e-09, -2.83365161e-09,\n",
       "        1.56921816e-09, -8.03614596e-04,  4.31281598e-09, -5.16539098e-05,\n",
       "        7.13368027e-09,  2.49028758e-09, -1.08965667e-09, -5.06844868e-10,\n",
       "       -1.07818922e-09, -4.60756639e-09, -3.25234520e-09,  1.15256308e-08,\n",
       "        4.47795473e-09,  2.55935489e-09, -1.18873890e-08, -3.50837774e-09,\n",
       "       -1.17283336e-08,  3.87261098e-09,  5.66121469e-05, -2.96501077e-09,\n",
       "        1.46823132e-08,  3.37535534e-09, -2.66528281e-09, -1.14774249e-09,\n",
       "        7.70871865e-09,  1.23178296e-08, -1.29545907e-05, -4.76629482e-09,\n",
       "        4.50772868e-04,  7.65351809e-05,  1.24978747e-04, -4.35836003e-10,\n",
       "        6.62323504e-09, -8.91589839e-05,  8.38405986e-09, -1.22714408e-09,\n",
       "        3.52683287e-09,  7.59316023e-09, -2.72829435e-09, -4.19992649e-05,\n",
       "       -6.34416463e-09,  8.77184914e-09,  6.41879551e-09, -5.85203539e-09,\n",
       "       -1.06672576e-09,  5.87242999e-09, -1.47370116e-09, -2.93401921e-09,\n",
       "        1.27037118e-09, -1.84041801e-09, -2.96938777e-09,  4.39780641e-09,\n",
       "        1.16528083e-08, -3.76949610e-09, -4.05696136e-09,  3.50748178e-09,\n",
       "        1.95847297e-09,  1.11331113e-08, -2.42808459e-09, -2.10648543e-04,\n",
       "       -2.30878709e-04, -8.30917237e-09, -2.15994992e-09, -8.85011261e-10,\n",
       "       -2.35998308e-09, -3.63775143e-09,  1.62081737e-09, -8.48620250e-09,\n",
       "       -5.44077712e-09, -2.13603101e-04,  6.62938668e-09,  4.39751112e-05,\n",
       "       -2.12817783e-09,  2.11453624e-09, -8.19585474e-05,  7.52697282e-09,\n",
       "       -1.25124510e-09, -3.64420666e-09, -1.80146835e-09, -1.06107301e-08,\n",
       "        7.51621117e-09, -1.32381054e-08, -2.07902658e-09, -3.83791434e-09,\n",
       "       -2.31013565e-09, -5.06482746e-09, -2.63536830e-09, -5.28472269e-09,\n",
       "       -5.33403656e-05,  1.17869071e-08,  2.47841283e-09,  1.16118788e-09,\n",
       "       -3.76993469e-10, -2.06788781e-09,  1.28394309e-09, -5.57930569e-09,\n",
       "        4.58711279e-04, -7.59161440e-09,  2.20452413e-09,  2.44062911e-04,\n",
       "        3.91861177e-09, -9.94525982e-10, -1.60741456e-04,  1.36265082e-08,\n",
       "        2.42888787e-09,  8.32257250e-09,  6.59409703e-06, -1.57529845e-04,\n",
       "        1.00079449e-08, -4.79144246e-09,  2.65914592e-09,  2.71574702e-09,\n",
       "        4.75804374e-04,  3.08789000e-04, -3.91867719e-09, -6.98833364e-09,\n",
       "       -9.93642722e-09,  3.15888978e-09, -3.13895994e-09, -4.35118490e-09,\n",
       "        2.85719763e-09, -6.63707231e-09, -4.82452660e-09, -4.05974839e-11,\n",
       "        9.94166467e-09, -5.07303814e-10,  4.92911430e-09,  1.40559556e-09,\n",
       "        5.34462130e-09,  7.13136333e-09,  8.64019365e-09, -1.08400943e-08,\n",
       "        2.67120152e-09, -3.01804723e-09,  6.01525068e-09, -4.01889741e-09,\n",
       "        2.99839659e-10,  1.97223886e-04, -5.20000031e-05,  1.29353366e-08,\n",
       "        6.31347520e-09, -2.21570857e-09, -3.94717169e-09,  6.59596161e-05,\n",
       "       -6.77697980e-09,  2.98494570e-09,  1.54485943e-08, -6.37554554e-09,\n",
       "       -8.39310617e-04, -3.57948701e-09,  1.53572219e-09,  7.53127053e-09,\n",
       "       -5.85685248e-09, -4.13953891e-09, -1.20645385e-08,  3.74659283e-09,\n",
       "       -6.80843426e-10, -1.65546890e-10,  2.31572965e-09, -1.44640550e-08,\n",
       "        5.33955519e-09,  1.39970126e-03,  2.90471071e-09, -5.09316324e-09,\n",
       "       -2.58970270e-09,  5.02714021e-12,  5.03340372e-09, -1.50887631e-08,\n",
       "       -1.02215841e-08,  2.50118243e-06,  2.38723961e-09, -3.69682639e-10,\n",
       "        6.37474110e-09, -1.34127728e-08, -1.66755424e-08, -1.64552907e-09,\n",
       "       -7.11188419e-09,  9.79342024e-09,  1.31145988e-09, -5.61416058e-09,\n",
       "       -1.95530282e-08, -1.08583646e-09, -3.43152637e-09, -1.46243721e-10,\n",
       "        9.55035195e-09,  1.57232712e-04,  1.51271254e-09,  5.01920061e-09,\n",
       "       -7.16250077e-09,  9.04042088e-09,  1.73638086e-09, -4.44095419e-09,\n",
       "        3.48528440e-09,  4.38116991e-09, -4.51970710e-09,  2.02343753e-09,\n",
       "       -9.48685557e-09,  1.52852809e-09, -7.28774381e-10,  1.46249992e-09,\n",
       "        2.16752114e-04, -1.63506022e-08,  1.93070370e-09, -1.48986283e-08,\n",
       "       -2.20570451e-08, -1.05335978e-08,  1.18358805e-08,  3.04275800e-09,\n",
       "       -2.65760835e-09, -2.20394581e-09, -9.10695494e-09,  1.74876516e-04,\n",
       "        8.25367918e-05, -5.63637196e-09, -2.06205880e-09, -1.34186239e-04,\n",
       "       -1.92022315e-08, -8.64669430e-09,  1.79977809e-08,  7.02203563e-10,\n",
       "       -1.40547813e-08, -3.32220483e-05,  9.54170717e-09, -6.03354458e-09,\n",
       "        3.33428044e-09, -4.05338914e-09,  9.65652347e-09, -4.21835319e-11,\n",
       "        6.07366795e-09, -1.92012441e-08,  4.71551853e-09,  1.37171224e-08,\n",
       "       -1.25786599e-09,  1.80455170e-08, -3.72463795e-09,  1.21154221e-08,\n",
       "        5.57999383e-09,  4.98572054e-09, -1.23359489e-08, -1.16532868e-08,\n",
       "        1.26028882e-08,  2.33057564e-04, -8.93725962e-09, -8.67215822e-09,\n",
       "        1.50669173e-08,  7.43041570e-09, -9.21471794e-09,  3.78397894e-09,\n",
       "        5.03326781e-09,  1.32787205e-08,  1.55757065e-08,  9.43844394e-05,\n",
       "       -1.58826297e-08,  5.71250932e-05,  2.60771932e-09, -8.86601366e-09,\n",
       "        2.36713429e-05, -1.07828768e-08,  7.32361441e-09, -1.12111942e-09,\n",
       "        3.73795880e-10,  8.40396545e-09, -9.18731754e-09, -5.38781955e-10,\n",
       "        1.34360366e-08,  4.40024536e-09, -1.31305665e-08, -1.92143733e-09,\n",
       "       -2.17453653e-09,  4.48965764e-09,  2.17256101e-04, -1.25540664e-09,\n",
       "       -4.55565843e-09,  4.44251657e-10,  5.78017436e-09,  6.25175632e-09,\n",
       "       -2.65437563e-09,  9.00623354e-09,  3.39920331e-09, -6.41748132e-09,\n",
       "       -5.75177238e-09, -7.88097285e-09,  4.40899777e-09, -1.40075801e-09,\n",
       "       -2.91705824e-05,  1.60670258e-08, -1.11714308e-08,  5.95351399e-09,\n",
       "       -2.07672647e-04,  5.58520321e-05, -6.49377669e-09,  8.69107765e-09,\n",
       "        2.25147497e-09,  1.86498286e-08,  4.66324878e-09,  1.63792320e-04,\n",
       "       -1.28484378e-10,  7.80152456e-09, -1.14777576e-09,  8.99523271e-09,\n",
       "        4.27738359e-09,  2.62583537e-09, -5.38946398e-09,  7.46813186e-09,\n",
       "       -2.08537249e-08,  3.47260898e-09, -5.15647024e-09, -2.12342668e-08,\n",
       "       -4.40034660e-09,  7.79445882e-10, -2.13383083e-08, -1.33694023e-09,\n",
       "       -1.72929817e-09,  5.82941805e-10, -1.21113071e-08, -4.70497701e-09,\n",
       "       -1.31921732e-08,  1.94122206e-09, -1.67295719e-08,  3.48430022e-09,\n",
       "        4.23903496e-05, -1.10975081e-09, -1.35042892e-08,  7.79343652e-09,\n",
       "       -1.20970602e-08,  3.48741453e-09,  8.99360714e-09,  7.33014917e-10,\n",
       "       -1.90414292e-09, -1.66546816e-08, -1.54247729e-08,  2.13704287e-08,\n",
       "        7.54787018e-09,  1.58895232e-08, -1.01345062e-08, -1.68572726e-08,\n",
       "        9.97473618e-10,  1.43430508e-09, -2.92635926e-08, -2.80560834e-10,\n",
       "       -4.34848432e-09,  1.21888851e-08, -5.22147429e-09,  3.31348653e-09,\n",
       "       -1.25469645e-08, -6.20636315e-04,  6.18372752e-04,  3.08153829e-04,\n",
       "       -2.14560472e-04, -1.81760255e-04, -1.44687588e-04, -7.60459719e-05,\n",
       "       -4.40992641e-04,  6.91433184e-04, -1.53407561e-03,  6.96157625e-09,\n",
       "       -2.04620704e-05])"
      ]
     },
     "execution_count": 309,
     "metadata": {},
     "output_type": "execute_result"
    }
   ],
   "source": [
    "y_fitted_l2= ridge_model.fit(X_train, y_train) #fitting the model on x_train, y_train\n",
    "y_predicted_l2_test = ridge_model.predict(X_test)# prediction using x_train\n",
    "ridge_model.score(X_train, y_train)\n",
    "ridge_model.coef_"
   ]
  },
  {
   "cell_type": "markdown",
   "id": "35a6e146",
   "metadata": {},
   "source": [
    "<hr style=\"border: 5px solid #003262;\" />\n",
    "<hr style=\"border: 1px solid #fdb515;\" />\n",
    "\n",
    "## Validation of model"
   ]
  },
  {
   "cell_type": "markdown",
   "id": "e4f7e21e",
   "metadata": {},
   "source": [
    "### RMSE Value"
   ]
  },
  {
   "cell_type": "code",
   "execution_count": 310,
   "id": "e2ac715c",
   "metadata": {},
   "outputs": [],
   "source": []
  },
  {
   "cell_type": "code",
   "execution_count": null,
   "id": "75a1d702",
   "metadata": {},
   "outputs": [],
   "source": []
  },
  {
   "cell_type": "code",
   "execution_count": null,
   "id": "3c5103f8",
   "metadata": {},
   "outputs": [],
   "source": []
  },
  {
   "cell_type": "markdown",
   "id": "8dda889e",
   "metadata": {},
   "source": [
    "### plot of the model predictions versus the observations"
   ]
  },
  {
   "cell_type": "code",
   "execution_count": 293,
   "id": "7076ba73",
   "metadata": {},
   "outputs": [
    {
     "data": {
      "text/plain": [
       "Text(0, 0.5, 'Input Test base Price')"
      ]
     },
     "execution_count": 293,
     "metadata": {},
     "output_type": "execute_result"
    },
    {
     "data": {
      "image/png": "[encoded data removed]",
      "text/plain": [
       "<Figure size 864x648 with 1 Axes>"
      ]
     },
     "metadata": {
      "needs_background": "light"
     },
     "output_type": "display_data"
    }
   ],
   "source": [
    "plt.scatter(x=np.exp(y_predicted_test),y=np.exp(y_test),s=10,alpha=0.3)\n",
    "plt.title(\"Predicted Log Sale Price vs Input Test Log Sale Price\")\n",
    "plt.xlabel(\"Predicted base Price\")\n",
    "plt.ylabel(\"Input Test base Price\")"
   ]
  },
  {
   "cell_type": "code",
   "execution_count": 294,
   "id": "6de16a73",
   "metadata": {},
   "outputs": [
    {
     "data": {
      "text/plain": [
       "Text(0, 0.5, 'Input Test base Price')"
      ]
     },
     "execution_count": 294,
     "metadata": {},
     "output_type": "execute_result"
    },
    {
     "data": {
      "image/png": "[encoded data removed]",
      "text/plain": [
       "<Figure size 864x648 with 1 Axes>"
      ]
     },
     "metadata": {
      "needs_background": "light"
     },
     "output_type": "display_data"
    }
   ],
   "source": [
    "plt.scatter(x=y_predicted_test,y=y_test,s=10,alpha=0.3)\n",
    "plt.title(\"Predicted Log Sale Price vs Input Test Log Sale Price\")\n",
    "plt.xlabel(\"Predicted base Price\")\n",
    "plt.ylabel(\"Input Test base Price\")"
   ]
  },
  {
   "cell_type": "markdown",
   "id": "b7f4e3b9",
   "metadata": {},
   "source": [
    "<hr style=\"border: 5px solid #003262;\" />\n",
    "<hr style=\"border: 1px solid #fdb515;\" />\n",
    "\n",
    "## Inference and Conclusion"
   ]
  },
  {
   "cell_type": "markdown",
   "id": "89e74408",
   "metadata": {},
   "source": [
    "#### Through EDA we have the following inferences for the questions posed previously\n",
    "1)The Chicago, IL O’Hare (ORD) airport is the best connected airport meaning that the highest amount of domestic air trafficgoes through this airport compared to other airports in the United States.\\\n",
    "2)a linear relationship is present between flight duration and baseFare in the range 2 to 15 hour flights.\\\n",
    "3)The minimum distance people travel using domestic flights is 89 miles and a median distance covered by a domestic flight is 1482 miles.\\\n",
    "4)\\\n",
    "5)\\\n",
    "\n",
    "For exploratory data analysis, we aim to find the airport with the highest traffic or the best-connected airports, the price of flights during the different hours of the day, the average/minimum travel distance for which people prefer flight, whether an average flight is fully booked/percentage of flights booked, and popular airlines."
   ]
  },
  {
   "cell_type": "markdown",
   "id": "cbf535d9",
   "metadata": {},
   "source": [
    "#### Prediction Inference"
   ]
  },
  {
   "cell_type": "markdown",
   "id": "702b533f",
   "metadata": {},
   "source": [
    "the $R^{2}$ metric for linear regression is found to be 50.7% on train data and 49.9% on the test data.\\\n",
    "the RMSE is found to be 133.17 Dollar for train data and  135.05 Dollar for test data."
   ]
  },
  {
   "cell_type": "code",
   "execution_count": null,
   "id": "6ea6355a",
   "metadata": {},
   "outputs": [],
   "source": []
  }
 ],
 "metadata": {
  "kernelspec": {
   "display_name": "Python 3 (ipykernel)",
   "language": "python",
   "name": "python3"
  },
  "language_info": {
   "codemirror_mode": {
    "name": "ipython",
    "version": 3
   },
   "file_extension": ".py",
   "mimetype": "text/x-python",
   "name": "python",
   "nbconvert_exporter": "python",
   "pygments_lexer": "ipython3",
   "version": "3.9.12"
  }
 },
 "nbformat": 4,
 "nbformat_minor": 5
}
