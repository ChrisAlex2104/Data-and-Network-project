{
 "cells": [
  {
   "cell_type": "markdown",
   "id": "5d47c8e5",
   "metadata": {},
   "source": [
    "# ECEN 4322-5322 Data and Network Science\n",
    "\n",
    "## Title- Fare prediction for flights\n"
   ]
  },
  {
   "cell_type": "markdown",
   "id": "684bae4a",
   "metadata": {},
   "source": [
    "#### Group Members - Chirag Chandrashekar, Chris Alexander, Viveka Salinamekki."
   ]
  },
  {
   "cell_type": "markdown",
   "id": "0c1c6021",
   "metadata": {},
   "source": [
    "## Introduction "
   ]
  },
  {
   "cell_type": "markdown",
   "id": "58368eee",
   "metadata": {},
   "source": [
    "The dataset chosen for analysis is the itineraries of flights in the USA over 6 months. For exploratory data analysis, we aim to find the airport with the highest traffic or the best-connected airports, the price of flights during the different hours of the day, the average/minimum travel distance for which people prefer flight, whether an average flight is fully booked/percentage of flights booked, and popular airlines. The end goal here is to predict the fare of a flight. Due to the large number of rows and features, the prediction can provide a good estimation of the fare. Techniques such as data grouping and manipulation, visualization, regular expressions, data modeling, feature engineering, model validation, and prediction will help achieve our goal. "
   ]
  },
  {
   "cell_type": "markdown",
   "id": "8e85299a",
   "metadata": {},
   "source": [
    "\n",
    "<hr style=\"border: 5px solid #003262;\" />\n",
    "<hr style=\"border: 1px solid #fdb515;\" />\n",
    "\n",
    "## Importing the Data"
   ]
  },
  {
   "cell_type": "code",
   "execution_count": 2,
   "id": "30096889",
   "metadata": {},
   "outputs": [],
   "source": [
    "import numpy as np\n",
    "\n",
    "import pandas as pd\n",
    "from pandas.api.types import CategoricalDtype\n",
    "\n",
    "%matplotlib inline\n",
    "import matplotlib.pyplot as plt\n",
    "import seaborn as sns\n",
    "\n",
    "import warnings\n",
    "warnings.filterwarnings(\"ignore\")\n",
    "\n",
    "import zipfile\n",
    "import os\n",
    "\n",
    "from ecen5322_utils import run_linear_regression_test\n",
    "\n",
    "# Plot settings\n",
    "plt.rcParams['figure.figsize'] = (12, 9)\n",
    "plt.rcParams['font.size'] = 12"
   ]
  },
  {
   "cell_type": "markdown",
   "id": "7b3f8245",
   "metadata": {},
   "source": [
    "### Sampling the dataset"
   ]
  },
  {
   "cell_type": "markdown",
   "id": "4755c538",
   "metadata": {},
   "source": [
    "Write how the data is read as chunks and sampled"
   ]
  },
  {
   "cell_type": "code",
   "execution_count": null,
   "id": "e6c4b82f",
   "metadata": {},
   "outputs": [],
   "source": [
    "'''\n",
    "dfs=[]\n",
    "with pd.read_csv(\"car_price_prediction.csv\", chunksize=1000000) as reader: #read as chunks due to low system resorces to read 30gb file\n",
    "    reader\n",
    "    for chunk in reader:\n",
    "        #print(type(chunk))\n",
    "        data_index=chunk.index\n",
    "        shuffled_indices = np.random.permutation(data_index)  #shuffling and sampling data to reduce the data to 500000 entries\n",
    "        #print(chunk.loc[shuffled_indices])\n",
    "        #print(type(chunk))\n",
    "        chunk,leftover= np.split(chunk.loc[shuffled_indices],[12000]) #selects first N rows from each chunk\n",
    "        #print(type(chunk))\n",
    "        #print(chunk)\n",
    "        #chunks=chunk.to_frame\n",
    "        #print(chunks)\n",
    "        dfs.append(chunk) #makes a list of dataframe chunks\n",
    "        #joined_chunk=pd.concat(chunk)\n",
    "        #print(joined_chunk)\n",
    "final_df=pd.concat(dfs) #concats all the chunks in the list of dataframe\n",
    "print(\"final dataframe\")\n",
    "final_df\n",
    "'''"
   ]
  },
  {
   "cell_type": "code",
   "execution_count": null,
   "id": "e70e2323",
   "metadata": {},
   "outputs": [],
   "source": [
    "#Load data to new csv file\n",
    "#final_df\n",
    "'''\n",
    "data_index2=final_df.index\n",
    "shuffled_indices2 = np.random.permutation(data_index2)\n",
    "final_df2,leftover2=np.split(final_df.loc[shuffled_indices2],[500000])\n",
    "final_df2\n",
    "'''"
   ]
  },
  {
   "cell_type": "code",
   "execution_count": null,
   "id": "3f91654b",
   "metadata": {},
   "outputs": [],
   "source": [
    "#from google.colab import  files\n",
    "#final_df2.to_csv('sampled_file.csv')\n",
    "#files.download('sampled_file.csv')"
   ]
  },
  {
   "cell_type": "code",
   "execution_count": 49,
   "id": "61e4b577",
   "metadata": {
    "scrolled": true
   },
   "outputs": [
    {
     "data": {
      "text/plain": [
       "False"
      ]
     },
     "execution_count": 49,
     "metadata": {},
     "output_type": "execute_result"
    }
   ],
   "source": [
    "#data=pd.read_csv('sampled_file.csv')\n",
    "\n",
    "#New read_csv function to read empty values as -1 and remove unamed column\n",
    "data=pd.read_csv(\"sampled_file.csv\"\n",
    "                 #, dtype=str\n",
    "                 , keep_default_na=True\n",
    "                 , na_values=-1\n",
    "                 , na_filter=True).drop(columns=['Unnamed: 0'])\n",
    "data"
   ]
  },
  {
   "cell_type": "code",
   "execution_count": 47,
   "id": "c83741a1",
   "metadata": {},
   "outputs": [
    {
     "name": "stdout",
     "output_type": "stream",
     "text": [
      "        isRefundable  isNonStop  baseFare  totalFare  seatsRemaining  \\\n",
      "0              False      False    160.93     196.60               7   \n",
      "1              False      False    294.89     349.21               3   \n",
      "2              False      False    430.70     486.60               1   \n",
      "3              False       True    189.77     218.60               9   \n",
      "4              False      False    212.09     257.20               9   \n",
      "...              ...        ...       ...        ...             ...   \n",
      "499995         False      False    488.37     548.60               7   \n",
      "499996         False      False    373.95     434.20               7   \n",
      "499997         False      False    579.53     651.10               9   \n",
      "499998         False      False    310.70     357.60               3   \n",
      "499999         False      False    659.54     737.11               3   \n",
      "\n",
      "        totalTravelDistance   segmentsDepartureTimeEpochSeconds  \\\n",
      "0                     465.0              1655304180||1655318280   \n",
      "1                    1180.0  1661030820||1661046540||1661076000   \n",
      "2                    2796.0              1656701160||1656710700   \n",
      "3                     185.0                          1653341880   \n",
      "4                     947.0              1665659700||1665692400   \n",
      "...                     ...                                 ...   \n",
      "499995               2490.0              1657953300||1657980000   \n",
      "499996               2191.0  1655978700||1655987400||1656018000   \n",
      "499997               3394.0  1661542860||1661561640||1661576340   \n",
      "499998               2567.0              1662476460||1662489300   \n",
      "499999               3211.0  1663326000||1663347600||1663363200   \n",
      "\n",
      "                                 segmentsDepartureTimeRaw  \\\n",
      "0       2022-06-15T10:43:00.000-04:00||2022-06-15T14:3...   \n",
      "1       2022-08-20T17:27:00.000-04:00||2022-08-20T21:4...   \n",
      "2       2022-07-01T11:46:00.000-07:00||2022-07-01T14:2...   \n",
      "3                           2022-05-23T17:38:00.000-04:00   \n",
      "4       2022-10-13T07:15:00.000-04:00||2022-10-13T16:2...   \n",
      "...                                                   ...   \n",
      "499995  2022-07-15T23:35:00.000-07:00||2022-07-16T10:0...   \n",
      "499996  2022-06-23T06:05:00.000-04:00||2022-06-23T08:3...   \n",
      "499997  2022-08-26T15:41:00.000-04:00||2022-08-26T19:5...   \n",
      "499998  2022-09-06T11:01:00.000-04:00||2022-09-06T13:3...   \n",
      "499999  2022-09-16T07:00:00.000-04:00||2022-09-16T12:0...   \n",
      "\n",
      "           segmentsArrivalTimeEpochSeconds  \\\n",
      "0                   1655309340||1655323200   \n",
      "1       1661037300||1661050560||1661081220   \n",
      "2                   1656706200||1656730740   \n",
      "3                               1653347940   \n",
      "4                   1665667500||1665697620   \n",
      "...                                    ...   \n",
      "499995              1657969320||1657986300   \n",
      "499996  1655982720||1655995500||1656029760   \n",
      "499997  1661558040||1661573100||1661583120   \n",
      "499998              1662485760||1662506040   \n",
      "499999  1663339560||1663358940||1663370340   \n",
      "\n",
      "                                   segmentsArrivalTimeRaw  \n",
      "0       2022-06-15T12:09:00.000-04:00||2022-06-15T16:0...  \n",
      "1       2022-08-20T19:15:00.000-04:00||2022-08-20T22:5...  \n",
      "2       2022-07-01T13:10:00.000-07:00||2022-07-01T22:5...  \n",
      "3                           2022-05-23T19:19:00.000-04:00  \n",
      "4       2022-10-13T09:25:00.000-04:00||2022-10-13T17:4...  \n",
      "...                                                   ...  \n",
      "499995  2022-07-16T07:02:00.000-04:00||2022-07-16T11:4...  \n",
      "499996  2022-06-23T07:12:00.000-04:00||2022-06-23T09:4...  \n",
      "499997  2022-08-26T18:54:00.000-05:00||2022-08-26T22:0...  \n",
      "499998  2022-09-06T12:36:00.000-05:00||2022-09-06T16:1...  \n",
      "499999  2022-09-16T09:46:00.000-05:00||2022-09-16T14:0...  \n",
      "\n",
      "[500000 rows x 10 columns]\n"
     ]
    },
    {
     "data": {
      "text/plain": [
       "2022-07-26T14:40:00.000-04:00                                                                  10\n",
       "2022-08-23T15:21:00.000-04:00                                                                  10\n",
       "2022-07-21T14:40:00.000-04:00                                                                   9\n",
       "2022-08-23T23:30:00.000-04:00                                                                   9\n",
       "2022-08-27T16:30:00.000-04:00                                                                   8\n",
       "                                                                                               ..\n",
       "2022-05-25T10:58:00.000-04:00||2022-05-25T15:56:00.000-05:00                                    1\n",
       "2022-10-04T07:46:00.000-04:00||2022-10-04T11:19:00.000-05:00                                    1\n",
       "2022-08-02T21:20:00.000-04:00||2022-08-02T23:50:00.000-04:00                                    1\n",
       "2022-07-22T08:57:00.000-04:00||2022-07-22T13:50:00.000-05:00||2022-07-22T16:57:00.000-07:00     1\n",
       "2022-09-16T09:46:00.000-05:00||2022-09-16T14:09:00.000-06:00||2022-09-16T16:19:00.000-07:00     1\n",
       "Name: segmentsArrivalTimeRaw, Length: 435445, dtype: int64"
      ]
     },
     "execution_count": 47,
     "metadata": {},
     "output_type": "execute_result"
    }
   ],
   "source": [
    "#analysis of Chris's columns\n",
    "Chris_columns=data.iloc[:,9:19]\n",
    "print(Chris_columns)\n",
    "specific_col= Chris_columns.iloc[:,9]\n",
    "specific_col.value_counts()\n",
    "#.value_counts().sort_values()\n",
    "#.sort_values()"
   ]
  },
  {
   "cell_type": "markdown",
   "id": "0652cd25",
   "metadata": {},
   "source": [
    "<hr style=\"border: 5px solid #003262;\" />\n",
    "<hr style=\"border: 1px solid #fdb515;\" />\n",
    "\n",
    "## Cleaning the data"
   ]
  },
  {
   "cell_type": "markdown",
   "id": "0193a94c",
   "metadata": {},
   "source": [
    "### make NaN =0  "
   ]
  },
  {
   "cell_type": "markdown",
   "id": "2a54c234",
   "metadata": {},
   "source": [
    "### convert True and false to 0 and 1"
   ]
  },
  {
   "cell_type": "markdown",
   "id": "37a0bd0f",
   "metadata": {},
   "source": [
    "### remove base fare less than 50"
   ]
  },
  {
   "cell_type": "markdown",
   "id": "2cfd4597",
   "metadata": {},
   "source": [
    "### rename columns"
   ]
  },
  {
   "cell_type": "markdown",
   "id": "41f80851",
   "metadata": {},
   "source": []
  },
  {
   "cell_type": "markdown",
   "id": "b1a07a91",
   "metadata": {},
   "source": [
    "<hr style=\"border: 5px solid #003262;\" />\n",
    "<hr style=\"border: 1px solid #fdb515;\" />\n",
    "\n",
    "## Exploratory Data Analysis"
   ]
  },
  {
   "cell_type": "code",
   "execution_count": null,
   "id": "a4292166",
   "metadata": {},
   "outputs": [],
   "source": []
  },
  {
   "cell_type": "markdown",
   "id": "483db563",
   "metadata": {},
   "source": [
    "<hr style=\"border: 5px solid #003262;\" />\n",
    "<hr style=\"border: 1px solid #fdb515;\" />\n",
    "\n",
    "## Prediction of____"
   ]
  },
  {
   "cell_type": "code",
   "execution_count": null,
   "id": "46970163",
   "metadata": {},
   "outputs": [],
   "source": []
  },
  {
   "cell_type": "markdown",
   "id": "35a6e146",
   "metadata": {},
   "source": [
    "<hr style=\"border: 5px solid #003262;\" />\n",
    "<hr style=\"border: 1px solid #fdb515;\" />\n",
    "\n",
    "## Validation of model"
   ]
  },
  {
   "cell_type": "code",
   "execution_count": null,
   "id": "75a1d702",
   "metadata": {},
   "outputs": [],
   "source": []
  },
  {
   "cell_type": "markdown",
   "id": "b7f4e3b9",
   "metadata": {},
   "source": [
    "<hr style=\"border: 5px solid #003262;\" />\n",
    "<hr style=\"border: 1px solid #fdb515;\" />\n",
    "\n",
    "## Inference and Conclusion"
   ]
  },
  {
   "cell_type": "code",
   "execution_count": null,
   "id": "951f0e5a",
   "metadata": {},
   "outputs": [],
   "source": []
  }
 ],
 "metadata": {
  "kernelspec": {
   "display_name": "Python 3 (ipykernel)",
   "language": "python",
   "name": "python3"
  },
  "language_info": {
   "codemirror_mode": {
    "name": "ipython",
    "version": 3
   },
   "file_extension": ".py",
   "mimetype": "text/x-python",
   "name": "python",
   "nbconvert_exporter": "python",
   "pygments_lexer": "ipython3",
   "version": "3.9.12"
  }
 },
 "nbformat": 4,
 "nbformat_minor": 5
}
